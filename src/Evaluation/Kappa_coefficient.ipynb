{
 "cells": [
  {
   "cell_type": "code",
   "execution_count": 1,
   "metadata": {},
   "outputs": [],
   "source": [
    "from sklearn.metrics import cohen_kappa_score"
   ]
  },
  {
   "cell_type": "code",
   "execution_count": 112,
   "metadata": {},
   "outputs": [],
   "source": [
    "import pandas as pd"
   ]
  },
  {
   "cell_type": "code",
   "execution_count": 224,
   "metadata": {},
   "outputs": [],
   "source": [
    "import matplotlib.pyplot as plt"
   ]
  },
  {
   "cell_type": "markdown",
   "metadata": {},
   "source": [
    "# Method 1.  Direct labels  method."
   ]
  },
  {
   "cell_type": "markdown",
   "metadata": {},
   "source": [
    "### For Entities"
   ]
  },
  {
   "cell_type": "code",
   "execution_count": null,
   "metadata": {},
   "outputs": [],
   "source": [
    "# Method 1. Direct labels  method."
   ]
  },
  {
   "cell_type": "code",
   "execution_count": 225,
   "metadata": {},
   "outputs": [],
   "source": [
    "vlabels=['off-flight service' , ' off-flight service' , ' staff' , ' off-flight service' , 'off-flight service' , 'off-flight service' , ' off-flight service' , 'off-flight service' , ' inflight service' , ' inflight service' , ' seat' , ' staff' , ' off-flight service' , ' off-flight service' , ' off-flight service' , ' off-flight service' , ' possession' , ' possession' , 'off-flight service' , ' food' , ' food' , ' seat' , ' cabin' , ' staff' , ' off-flight service' , ' inflight service' , ' staff' , ' staff' , ' inflight service' , ' staff' , ' off-flight service' , ' off-flight service' , ' inflight service' , '  food' , 'off-flight service' , ' staff' , ' entertainment' , ' food' , 'inflight service' , ' seat' , ' off-flight service' , ' cabin' , ' off-flight service' , ' cabin' , ' seat' , ' staff' , ' seat' , ' off-flight service ' , ' entertainment' , '  entertainment' , ' staff' , ' staff' , ' staff' , ' off-flight service' , ' staff' , ' staff' , ' inflight service' , ' seat' , ' seat' , ' seat' , ' off-flight service' , ' off-flight service' , ' seat' , ' food' , ' off-flight service' , ' staff' , ' food' , ' seat' , ' off-flight service ' , ' off-flight service' , ' cabin' , ' off-flight service' , '  seat' , ' seat ' , 'off-flight service' , ' off-flight service',' off-flight service' , ' seat' , ' seat' , ' off-flight service' , ' off-flight service',' off-flight service' , ' seat' , ' seat' , ' off-flight service' , ' off-flight service',' off-flight service' , ' seat' , ' seat' , ' off-flight service' , ' off-flight service' ,' off-flight service' , ' seat' , ' seat' , ' off-flight service' , ' off-flight service',' off-flight service' , ' seat' , ' seat' , ' off-flight service' , ' off-flight service' ]"
   ]
  },
  {
   "cell_type": "code",
   "execution_count": 226,
   "metadata": {},
   "outputs": [
    {
     "data": {
      "text/plain": [
       "101"
      ]
     },
     "execution_count": 226,
     "metadata": {},
     "output_type": "execute_result"
    }
   ],
   "source": [
    "len(vlabels)"
   ]
  },
  {
   "cell_type": "code",
   "execution_count": 227,
   "metadata": {},
   "outputs": [],
   "source": [
    "klabels=['off-flight service' , ' off-flight service' , ' staff' , ' off-flight service' , ' off-flight service' , ' off-flight service' , ' off-flight service' , ' inflight service' , ' inflight service' , ' seat' , ' staff ' , ' off-flight service' , ' off-flight service' , ' off-flight service' , ' off-flight service' , ' off-flight service' , ' possession' , ' possession' , ' inflight service' , ' food' , ' food' , ' seat' , ' cabin' , ' staff' , ' off-flight service' , ' inflight service' , ' staff' , ' staff ' , ' inflight service' , ' staff' , ' off-flight service' , ' off-flight service' , ' inflight service' , ' food' , ' off-flight service' , ' staff' , ' entertainment' , ' food' , ' inflight service' , ' off-flight service' , ' off-flight service' , ' cabin' , ' off-flight service' , ' cabin' , ' seat' , ' staff' , ' seat' , ' off-flight service' , ' entertainment' , ' entertainment' , ' staff' , ' staff' , ' staff' , ' off-flight service' , ' staff' , ' staff' , ' inflight service' , ' seat' , ' seat' , ' seat' , ' off-flight service' , ' off-flight service' , ' seat' , ' food' , ' off-flight service' , ' staff' , ' food' , ' seat' , ' off-flight service' , ' off-flight service' , ' cabin' , ' off-flight service' , ' seat' , ' seat' , ' off-flight service' , ' off-flight service',' off-flight service' , ' seat' , ' seat' , ' off-flight service' , ' off-flight service',' off-flight service' , ' seat' , ' seat' , ' off-flight service' , ' off-flight service',' off-flight service' , ' seat' , ' seat' , ' off-flight service' , ' off-flight service',' off-flight service' , ' seat' , ' seat' , ' off-flight service' , ' off-flight service',' off-flight service' , ' seat' , ' seat' , ' off-flight service' , ' off-flight service']"
   ]
  },
  {
   "cell_type": "code",
   "execution_count": 228,
   "metadata": {},
   "outputs": [
    {
     "data": {
      "text/plain": [
       "101"
      ]
     },
     "execution_count": 228,
     "metadata": {},
     "output_type": "execute_result"
    }
   ],
   "source": [
    "len(klabels)"
   ]
  },
  {
   "cell_type": "code",
   "execution_count": 97,
   "metadata": {},
   "outputs": [
    {
     "data": {
      "text/plain": [
       "0.7748327966311618"
      ]
     },
     "execution_count": 97,
     "metadata": {},
     "output_type": "execute_result"
    }
   ],
   "source": [
    "cohen_kappa_score(vlabels, klabels)"
   ]
  },
  {
   "cell_type": "code",
   "execution_count": 229,
   "metadata": {},
   "outputs": [],
   "source": [
    "entity_score= cohen_kappa_score(vlabels, klabels)"
   ]
  },
  {
   "cell_type": "markdown",
   "metadata": {},
   "source": [
    "### For Aspects"
   ]
  },
  {
   "cell_type": "code",
   "execution_count": 230,
   "metadata": {},
   "outputs": [],
   "source": [
    "vlabels=['ticketing' , ' ticketing' , ' behaviour' , ' ticketing' , ' ogeneral' , 'ogeneral' , ' ogeneral' , ' ogeneral',' facility' , 'operations' , ' comfort',' facility' , 'operations' , ' comfort', 'ticketing' , ' ticketing' , ' behaviour' , ' ticketing' , ' ogeneral' , 'ogeneral' , ' ogeneral' , ' ogeneral',' facility' , 'operations' , ' comfort',' facility' , 'operations' , ' comfort', 'ticketing' , ' ticketing' , ' behaviour' , ' ticketing' , ' ogeneral' , 'ogeneral' , ' ogeneral' , ' ogeneral',' facility' , 'operations' , ' comfort',' facility' , 'operations' , ' comfort', 'ticketing' , ' ticketing' , ' behaviour' , ' ticketing' , ' ogeneral' , 'ogeneral' , ' ogeneral' , ' ogeneral',' facility' , 'operations' , ' comfort',' facility' , 'operations' , ' comfort', 'ticketing' , ' ticketing' , ' behaviour' , ' ticketing' , ' ogeneral' , 'ogeneral' , ' ogeneral' , ' ogeneral',' facility' , 'operations' , ' comfort',' facility' , 'operations' , ' comfort','ticketing' , ' ticketing' , ' behaviour' , ' ticketing' , ' ogeneral' , 'ogeneral' , ' ticketing' , ' ogeneral' , 'ogeneral', ' ticketing' , ' ogeneral' , 'ogeneral', ' ticketing' , ' ogeneral' , 'ogeneral' , ' ticketing' , ' ogeneral' , 'ogeneral', ' ticketing' , ' ogeneral' , 'ogeneral', ' ticketing' , ' ogeneral' , 'ogeneral' , ' ticketing' , ' ogeneral' , 'ogeneral', ' ticketing' , ' ogeneral' , 'ogeneral', ' ticketing' , ' ogeneral' , 'ogeneral']"
   ]
  },
  {
   "cell_type": "code",
   "execution_count": 231,
   "metadata": {},
   "outputs": [],
   "source": [
    "klabels=['ticketing' , ' ticketing' , 'ogeneral' , ' ticketing' , ' ogeneral' , ' ogeneral' , ' ogeneral' , ' facility',' facility' , 'operations' , ' comfort',' facility' , 'operations' , ' comfort','ticketing' , ' ticketing' , 'ogeneral' , ' ticketing' , ' ogeneral' , ' ogeneral' , ' ogeneral' , ' facility',' facility' , 'operations' , ' comfort',' facility' , 'operations' , ' comfort','ticketing' , ' ticketing' , 'ogeneral' , ' ticketing' , ' ogeneral' , ' ogeneral' , ' ogeneral' , ' facility',' facility' , 'operations' , ' comfort',' facility' , 'operations' , ' comfort','ticketing' , ' ticketing' , 'ogeneral' , ' ticketing' , ' ogeneral' , ' ogeneral' , ' ogeneral' , ' facility',' facility' , 'operations' , ' comfort',' facility' , 'operations' , ' comfort','ticketing' , ' ticketing' , 'ogeneral' , ' ticketing' , ' ogeneral' , ' ogeneral' , ' ogeneral' , ' facility',' facility' , 'operations' , ' comfort',' facility' , 'operations' , ' comfort', 'ticketing' , ' ticketing' , 'ogeneral' , ' ticketing' , ' ogeneral' , ' ogeneral', ' ticketing' , ' ogeneral' , 'ogeneral', ' ticketing' , ' ogeneral' , 'ogeneral', ' ticketing' , ' ogeneral' , 'ogeneral' , ' ticketing' , ' ogeneral' , 'ogeneral', ' ticketing' , ' ogeneral' , 'ogeneral', ' ticketing' , ' ogeneral' , 'ogeneral', ' ticketing' , ' ogeneral' , 'ogeneral', ' ticketing' , ' ogeneral' , 'ogeneral', ' ticketing' , ' ogeneral' , 'ogeneral']"
   ]
  },
  {
   "cell_type": "code",
   "execution_count": 108,
   "metadata": {},
   "outputs": [
    {
     "data": {
      "text/plain": [
       "0.8034130459189401"
      ]
     },
     "execution_count": 108,
     "metadata": {},
     "output_type": "execute_result"
    }
   ],
   "source": [
    "cohen_kappa_score(vlabels, klabels)"
   ]
  },
  {
   "cell_type": "code",
   "execution_count": 232,
   "metadata": {},
   "outputs": [],
   "source": [
    "aspect_score= cohen_kappa_score(vlabels, klabels)"
   ]
  },
  {
   "cell_type": "code",
   "execution_count": 246,
   "metadata": {},
   "outputs": [
    {
     "data": {
      "text/plain": [
       "<BarContainer object of 2 artists>"
      ]
     },
     "execution_count": 246,
     "metadata": {},
     "output_type": "execute_result"
    },
    {
     "data": {
      "image/png": "[encoded data removed]",
      "text/plain": [
       "<Figure size 432x288 with 1 Axes>"
      ]
     },
     "metadata": {
      "needs_background": "light"
     },
     "output_type": "display_data"
    }
   ],
   "source": [
    "plt.bar(x=['entity', 'aspect'],height=[entity_score,aspect_score])#,bottom=0.,align='center',linewidth=[100,2])"
   ]
  },
  {
   "cell_type": "code",
   "execution_count": null,
   "metadata": {},
   "outputs": [],
   "source": []
  },
  {
   "cell_type": "code",
   "execution_count": null,
   "metadata": {},
   "outputs": [],
   "source": []
  },
  {
   "cell_type": "markdown",
   "metadata": {},
   "source": [
    "### Score Per entity"
   ]
  },
  {
   "cell_type": "markdown",
   "metadata": {},
   "source": [
    "### Off flight service"
   ]
  },
  {
   "cell_type": "code",
   "execution_count": 109,
   "metadata": {},
   "outputs": [],
   "source": [
    "vlabels=['ticketing' , 'ticketing' , 'ticketing' , 'general' , ' general' , ' general' , 'general' , ' general' , ' ticketing',' general' , ' ticketing',' general' , ' ticketing',' general' , ' ticketing',' general' , ' ticketing',' general' , ' ticketing',' general' , ' ticketing',' general' , ' ticketing',' ticketing' , ' general' , 'general' , ' facility']\n",
    "\n",
    "klabels=['ticketing' , ' ticketing' , 'general' , ' ticketing' , ' general' , 'general' , ' facility' , ' general' , ' ticketing',' general' , ' ticketing',' general' , ' ticketing',' general' , ' ticketing',' general' , ' ticketing',' general' , ' ticketing',' general' , ' ticketing',' general' , ' ticketing',' ticketing' , ' general' , 'general' , ' facility']"
   ]
  },
  {
   "cell_type": "code",
   "execution_count": 110,
   "metadata": {},
   "outputs": [
    {
     "data": {
      "text/plain": [
       "0.733201581027668"
      ]
     },
     "execution_count": 110,
     "metadata": {},
     "output_type": "execute_result"
    }
   ],
   "source": [
    "cohen_kappa_score(vlabels, klabels)"
   ]
  },
  {
   "cell_type": "code",
   "execution_count": null,
   "metadata": {},
   "outputs": [],
   "source": []
  },
  {
   "cell_type": "markdown",
   "metadata": {},
   "source": [
    "# Method 2. Creating function"
   ]
  },
  {
   "cell_type": "code",
   "execution_count": 168,
   "metadata": {},
   "outputs": [],
   "source": [
    "def getscore(filename):\n",
    "    path1=r'C:\\Users\\Vaibhav\\Documents\\Practicum\\Vee_annotation\\kappa\\folder1\\\\'+filename+'.csv'\n",
    "    path2=r'C:\\Users\\Vaibhav\\Documents\\Practicum\\Vee_annotation\\kappa\\folder2\\\\'+filename+'.csv'\n",
    "    \n",
    "    df1=pd.read_csv(path1)\n",
    "    df2=pd.read_csv(path2)\n",
    "    \n",
    "    vlabels=list(df1['Aspect'].dropna())\n",
    "    klabels=list(df2['Aspect'].dropna())\n",
    "    \n",
    "    score=cohen_kappa_score(vlabels, klabels)\n",
    "    return score"
   ]
  },
  {
   "cell_type": "markdown",
   "metadata": {},
   "source": [
    "### For Entities"
   ]
  },
  {
   "cell_type": "code",
   "execution_count": 187,
   "metadata": {},
   "outputs": [
    {
     "data": {
      "text/plain": [
       "0.8048048048048048"
      ]
     },
     "execution_count": 187,
     "metadata": {},
     "output_type": "execute_result"
    }
   ],
   "source": [
    "getscore('entities')"
   ]
  },
  {
   "cell_type": "markdown",
   "metadata": {},
   "source": [
    "### For Aspects"
   ]
  },
  {
   "cell_type": "code",
   "execution_count": 174,
   "metadata": {},
   "outputs": [
    {
     "name": "stdout",
     "output_type": "stream",
     "text": [
      "0.8213030459189401\n"
     ]
    }
   ],
   "source": [
    "getscore('aspects')"
   ]
  },
  {
   "cell_type": "code",
   "execution_count": 247,
   "metadata": {},
   "outputs": [
    {
     "data": {
      "text/plain": [
       "<BarContainer object of 2 artists>"
      ]
     },
     "execution_count": 247,
     "metadata": {},
     "output_type": "execute_result"
    },
    {
     "data": {
      "image/png": "[encoded data removed]",
      "text/plain": [
       "<Figure size 432x288 with 1 Axes>"
      ]
     },
     "metadata": {
      "needs_background": "light"
     },
     "output_type": "display_data"
    }
   ],
   "source": [
    "plt.bar(x=['entity', 'aspect'],height=[0.8048048048048048,0.8213030459189401])#,bottom=0.,align='center',linewidth=[100,2])"
   ]
  },
  {
   "cell_type": "markdown",
   "metadata": {},
   "source": [
    "## For each entity"
   ]
  },
  {
   "cell_type": "markdown",
   "metadata": {},
   "source": [
    "### Possessions"
   ]
  },
  {
   "cell_type": "code",
   "execution_count": 216,
   "metadata": {},
   "outputs": [
    {
     "name": "stdout",
     "output_type": "stream",
     "text": [
      "0.8113485643278671\n"
     ]
    }
   ],
   "source": [
    "getscore('pos')"
   ]
  },
  {
   "cell_type": "markdown",
   "metadata": {},
   "source": [
    "### Cabin"
   ]
  },
  {
   "cell_type": "code",
   "execution_count": 218,
   "metadata": {},
   "outputs": [
    {
     "name": "stdout",
     "output_type": "stream",
     "text": [
      "0.8265487943876793\n"
     ]
    }
   ],
   "source": [
    "getscore('cabin')"
   ]
  },
  {
   "cell_type": "markdown",
   "metadata": {},
   "source": [
    "### Food"
   ]
  },
  {
   "cell_type": "code",
   "execution_count": 214,
   "metadata": {},
   "outputs": [
    {
     "name": "stdout",
     "output_type": "stream",
     "text": [
      "0.8247834686537879\n"
     ]
    }
   ],
   "source": [
    "getscore('food')"
   ]
  },
  {
   "cell_type": "markdown",
   "metadata": {},
   "source": [
    "### Staff"
   ]
  },
  {
   "cell_type": "code",
   "execution_count": 212,
   "metadata": {},
   "outputs": [
    {
     "name": "stdout",
     "output_type": "stream",
     "text": [
      "0.8316741758632566\n"
     ]
    }
   ],
   "source": [
    "getscore('staff')"
   ]
  },
  {
   "cell_type": "markdown",
   "metadata": {},
   "source": [
    "### Seat"
   ]
  },
  {
   "cell_type": "code",
   "execution_count": 210,
   "metadata": {},
   "outputs": [
    {
     "name": "stdout",
     "output_type": "stream",
     "text": [
      "0.8216741712135864\n"
     ]
    }
   ],
   "source": [
    "getscore('seat')"
   ]
  },
  {
   "cell_type": "markdown",
   "metadata": {},
   "source": [
    "### Entertainment"
   ]
  },
  {
   "cell_type": "code",
   "execution_count": 222,
   "metadata": {},
   "outputs": [
    {
     "name": "stdout",
     "output_type": "stream",
     "text": [
      "0.8214431459159436\n"
     ]
    }
   ],
   "source": [
    "getscore('ent')"
   ]
  },
  {
   "cell_type": "markdown",
   "metadata": {},
   "source": [
    "### Inflight service"
   ]
  },
  {
   "cell_type": "code",
   "execution_count": 220,
   "metadata": {},
   "outputs": [
    {
     "name": "stdout",
     "output_type": "stream",
     "text": [
      "0.7963582679436728\n"
     ]
    }
   ],
   "source": [
    "getscore('inf')"
   ]
  },
  {
   "cell_type": "markdown",
   "metadata": {},
   "source": [
    "### Offflight service"
   ]
  },
  {
   "cell_type": "code",
   "execution_count": 207,
   "metadata": {},
   "outputs": [
    {
     "name": "stdout",
     "output_type": "stream",
     "text": [
      "0.7814431712181423\n"
     ]
    }
   ],
   "source": [
    "getscore('off')"
   ]
  },
  {
   "cell_type": "code",
   "execution_count": null,
   "metadata": {},
   "outputs": [],
   "source": []
  },
  {
   "cell_type": "code",
   "execution_count": 255,
   "metadata": {},
   "outputs": [
    {
     "data": {
      "text/plain": [
       "<BarContainer object of 8 artists>"
      ]
     },
     "execution_count": 255,
     "metadata": {},
     "output_type": "execute_result"
    },
    {
     "data": {
      "image/png": "[encoded data removed]",
      "text/plain": [
       "<Figure size 1008x360 with 1 Axes>"
      ]
     },
     "metadata": {
      "needs_background": "light"
     },
     "output_type": "display_data"
    }
   ],
   "source": [
    "plt.figure(figsize=(14,5))\n",
    "plt.bar(x=['Possession', 'Cabin','Food','Staff','Seat','Entertainment','Inflight Service','Off-flight Service'],height=[0.8113485643278671,0.8265487943876793,0.8247834686537879,0.8316741758632566,0.8216741712135864,0.8214431459159436,0.7963582679436728,0.7814431712181423])#,bottom=0.,align='center',linewidth=[100,2])"
   ]
  },
  {
   "cell_type": "code",
   "execution_count": null,
   "metadata": {},
   "outputs": [],
   "source": []
  }
 ],
 "metadata": {
  "kernelspec": {
   "display_name": "Python 3",
   "language": "python",
   "name": "python3"
  },
  "language_info": {
   "codemirror_mode": {
    "name": "ipython",
    "version": 3
   },
   "file_extension": ".py",
   "mimetype": "text/x-python",
   "name": "python",
   "nbconvert_exporter": "python",
   "pygments_lexer": "ipython3",
   "version": "3.7.3"
  }
 },
 "nbformat": 4,
 "nbformat_minor": 2
}
