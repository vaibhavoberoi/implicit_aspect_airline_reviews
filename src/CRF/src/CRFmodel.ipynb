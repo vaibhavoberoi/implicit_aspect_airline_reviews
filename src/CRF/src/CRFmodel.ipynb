{
  "nbformat": 4,
  "nbformat_minor": 0,
  "metadata": {
    "colab": {
      "name": "CRFmodel.ipynb",
      "provenance": [],
      "collapsed_sections": [
        "DcRAKSUgeeCw"
      ],
      "toc_visible": true
    },
    "kernelspec": {
      "name": "python3",
      "display_name": "Python 3"
    }
  },
  "cells": [
    {
      "cell_type": "markdown",
      "metadata": {
        "id": "Dhl0t04cGwQf",
        "colab_type": "text"
      },
      "source": [
        "# Importing Libraries and Files"
      ]
    },
    {
      "cell_type": "code",
      "metadata": {
        "id": "-gAMvJ8wGtWL",
        "colab_type": "code",
        "colab": {
          "base_uri": "https://localhost:8080/",
          "height": 125
        },
        "outputId": "74f133f7-87e9-4b78-8dd5-a06ca8179e5d"
      },
      "source": [
        "from google.colab import drive\n",
        "drive.mount('/content/drive/')"
      ],
      "execution_count": null,
      "outputs": [
        {
          "output_type": "stream",
          "text": [
            "Go to this URL in a browser: https://accounts.google.com/o/oauth2/auth?client_id=947318989803-6bn6qk8qdgf4n4g3pfee6491hc0brc4i.apps.googleusercontent.com&redirect_uri=urn%3aietf%3awg%3aoauth%3a2.0%3aoob&response_type=code&scope=email%20https%3a%2f%2fwww.googleapis.com%2fauth%2fdocs.test%20https%3a%2f%2fwww.googleapis.com%2fauth%2fdrive%20https%3a%2f%2fwww.googleapis.com%2fauth%2fdrive.photos.readonly%20https%3a%2f%2fwww.googleapis.com%2fauth%2fpeopleapi.readonly\n",
            "\n",
            "Enter your authorization code:\n",
            "··········\n",
            "Mounted at /content/drive/\n"
          ],
          "name": "stdout"
        }
      ]
    },
    {
      "cell_type": "code",
      "metadata": {
        "id": "nQSwoI8RavgA",
        "colab_type": "code",
        "colab": {
          "base_uri": "https://localhost:8080/",
          "height": 207
        },
        "outputId": "b80293d6-be9e-4e0d-ab06-51c7d8fb80b9"
      },
      "source": [
        "!pip install sklearn_crfsuite"
      ],
      "execution_count": null,
      "outputs": [
        {
          "output_type": "stream",
          "text": [
            "Collecting sklearn_crfsuite\n",
            "  Downloading https://files.pythonhosted.org/packages/25/74/5b7befa513482e6dee1f3dd68171a6c9dfc14c0eaa00f885ffeba54fe9b0/sklearn_crfsuite-0.3.6-py2.py3-none-any.whl\n",
            "Requirement already satisfied: tqdm>=2.0 in /usr/local/lib/python3.6/dist-packages (from sklearn_crfsuite) (4.41.1)\n",
            "Requirement already satisfied: tabulate in /usr/local/lib/python3.6/dist-packages (from sklearn_crfsuite) (0.8.7)\n",
            "Collecting python-crfsuite>=0.8.3\n",
            "\u001b[?25l  Downloading https://files.pythonhosted.org/packages/95/99/869dde6dbf3e0d07a013c8eebfb0a3d30776334e0097f8432b631a9a3a19/python_crfsuite-0.9.7-cp36-cp36m-manylinux1_x86_64.whl (743kB)\n",
            "\u001b[K     |████████████████████████████████| 747kB 6.6MB/s \n",
            "\u001b[?25hRequirement already satisfied: six in /usr/local/lib/python3.6/dist-packages (from sklearn_crfsuite) (1.15.0)\n",
            "Installing collected packages: python-crfsuite, sklearn-crfsuite\n",
            "Successfully installed python-crfsuite-0.9.7 sklearn-crfsuite-0.3.6\n"
          ],
          "name": "stdout"
        }
      ]
    },
    {
      "cell_type": "code",
      "metadata": {
        "id": "dD7I_xx5G04G",
        "colab_type": "code",
        "colab": {}
      },
      "source": [
        "import glob\n",
        "import json\n",
        "import nltk\n"
      ],
      "execution_count": null,
      "outputs": []
    },
    {
      "cell_type": "code",
      "metadata": {
        "id": "i6CmrxJ3Jgrh",
        "colab_type": "code",
        "colab": {
          "base_uri": "https://localhost:8080/",
          "height": 70
        },
        "outputId": "205fd34e-6ca0-4b44-f1ad-12c89258a0c1"
      },
      "source": [
        "\n",
        "nltk.download('stopwords')"
      ],
      "execution_count": null,
      "outputs": [
        {
          "output_type": "stream",
          "text": [
            "[nltk_data] Downloading package stopwords to /root/nltk_data...\n",
            "[nltk_data]   Unzipping corpora/stopwords.zip.\n"
          ],
          "name": "stdout"
        },
        {
          "output_type": "execute_result",
          "data": {
            "text/plain": [
              "True"
            ]
          },
          "metadata": {
            "tags": []
          },
          "execution_count": 39
        }
      ]
    },
    {
      "cell_type": "code",
      "metadata": {
        "id": "jEmdMHTxJbAq",
        "colab_type": "code",
        "colab": {}
      },
      "source": [
        "from nltk.corpus import stopwords\n",
        "stop_words = list(stopwords.words('english'))\n",
        "newStop = ['was', 'and', 'the', 'to', 'in', 'of', 'a', 'an', 'is', 'were', 'for', 'with', 'are', 'one', 'our', 'gave', 'have',\n",
        "           'me', 'an', 'i', 'or', 'had', 'did', 'get', 'made', 'take', 'given', 'told', 'let', 'us', \"n't\", 'air', 'one', 'two', 'three', \n",
        "          'four', 'five', 'thousand', 'cc', 'twenty', 'ten']\n",
        "stop_words = stop_words+newStop\n",
        "stop_words.remove('not')"
      ],
      "execution_count": null,
      "outputs": []
    },
    {
      "cell_type": "code",
      "metadata": {
        "id": "Y2bgRypCG_g4",
        "colab_type": "code",
        "colab": {}
      },
      "source": [
        "path = r'/content/drive/My Drive/Practicum/Labelled'"
      ],
      "execution_count": null,
      "outputs": []
    },
    {
      "cell_type": "code",
      "metadata": {
        "id": "0zWxGQPAHALx",
        "colab_type": "code",
        "colab": {
          "base_uri": "https://localhost:8080/",
          "height": 34
        },
        "outputId": "3defbb0b-4633-4f58-ec07-08654a551e4e"
      },
      "source": [
        "files = glob.glob(path+r'/*.json')\n",
        "print(len(files))"
      ],
      "execution_count": null,
      "outputs": [
        {
          "output_type": "stream",
          "text": [
            "21\n"
          ],
          "name": "stdout"
        }
      ]
    },
    {
      "cell_type": "code",
      "metadata": {
        "id": "UISIgnmwHDDw",
        "colab_type": "code",
        "colab": {
          "base_uri": "https://localhost:8080/",
          "height": 34
        },
        "outputId": "2e336a5a-44fc-4e2f-bf1e-b0539114e82a"
      },
      "source": [
        "finInfo = []\n",
        "for i in range(len(files)):\n",
        "  for line in open(files[i], encoding='utf-8'):\n",
        "    info = json.loads(line) \n",
        "  finInfo.append(info)\n",
        "print(len(finInfo))"
      ],
      "execution_count": null,
      "outputs": [
        {
          "output_type": "stream",
          "text": [
            "21\n"
          ],
          "name": "stdout"
        }
      ]
    },
    {
      "cell_type": "code",
      "metadata": {
        "id": "pQ2LLPubHHrD",
        "colab_type": "code",
        "colab": {}
      },
      "source": [
        "labels = []\n",
        "for i in range(len(finInfo)):\n",
        "  info = finInfo[i]\n",
        "  for j in range(len(info)):\n",
        "    if (info[j]['Details'] != []):\n",
        "      lbls = info[j]['Labels']\n",
        "      for k in range(len(lbls)):\n",
        "        for p,q in lbls[k].items():\n",
        "          for l in range(len(q)):\n",
        "            labels.append(q[l])\n",
        "finLabels = []\n",
        "for i in range(len(labels)):\n",
        "  new = labels[i].split()\n",
        "  for j in range(len(new)):\n",
        "    if new[j] not in stop_words:\n",
        "      finLabels.append(new[j])\n",
        "\n",
        "corpus = list(set(finLabels))"
      ],
      "execution_count": null,
      "outputs": []
    },
    {
      "cell_type": "code",
      "metadata": {
        "id": "JIJLg0r3HSUT",
        "colab_type": "code",
        "colab": {
          "base_uri": "https://localhost:8080/",
          "height": 34
        },
        "outputId": "961b9244-ad95-495a-f51a-906fbf0ef1f4"
      },
      "source": [
        "len(corpus)"
      ],
      "execution_count": null,
      "outputs": [
        {
          "output_type": "execute_result",
          "data": {
            "text/plain": [
              "3087"
            ]
          },
          "metadata": {
            "tags": []
          },
          "execution_count": 45
        }
      ]
    },
    {
      "cell_type": "code",
      "metadata": {
        "id": "AjZ7upWP7BKO",
        "colab_type": "code",
        "colab": {}
      },
      "source": [
        "for i in range(len(finInfo)):\n",
        "  info = finInfo[i]\n",
        "  for j in range(len(info)):\n",
        "    det = info[j]['Details']\n",
        "    for k in range(len(det)):\n",
        "      if (det[k][-1]) == 'b':\n",
        "        det[k][-1] = 'o'"
      ],
      "execution_count": null,
      "outputs": []
    },
    {
      "cell_type": "code",
      "metadata": {
        "id": "Jd2NGNMfNx1q",
        "colab_type": "code",
        "colab": {}
      },
      "source": [
        "\n",
        "details = []\n",
        "for i in range(len(finInfo)):\n",
        "  info = finInfo[i]\n",
        "  for j in range(len(info)):\n",
        "    dic = {}\n",
        "    dic['id'] = info[j]['id']\n",
        "    sent = info[j]['sentence']\n",
        "    newSent = ' '.join(sent)\n",
        "    dic['sentences'] = sent\n",
        "    sentTkn = newSent.split()\n",
        "    det = info[j]['Details']\n",
        "    nli = []\n",
        "    for k in range(len(det)):\n",
        "      li = []\n",
        "      for l in range(len(sentTkn)):\n",
        "        if (det[k][0] == 1):  \n",
        "          word = det[k][2][0]\n",
        "          if word in corpus and word not in stop_words:\n",
        "            if word == sentTkn[l]:\n",
        "              if (l == 0):\n",
        "                a = (word, det[k][2][1], det[k][1][0], det[k][1][1], det[k][2][2], det[k][3], '', sentTkn[l+1], det[k][4])\n",
        "              elif (l == len(sentTkn)-1):\n",
        "                a = (word, det[k][2][1], det[k][1][0], det[k][1][1], det[k][2][2], det[k][3], sentTkn[l-1], '', det[k][4])\n",
        "              else:\n",
        "                a = (word, det[k][2][1], det[k][1][0], det[k][1][1], det[k][2][2], det[k][3], sentTkn[l-1], sentTkn[l+1], det[k][4])\n",
        "        else:\n",
        "          word = det[k][1][0]\n",
        "          if word in corpus and word not in stop_words:\n",
        "            if word == sentTkn[l]:\n",
        "              if (l == 0):\n",
        "                a = (word, det[k][1][1], det[k][1][2], det[k][2][0], det[k][2][1], '', sentTkn[l+1], det[k][4])\n",
        "              elif (l == len(sentTkn)-1):\n",
        "                a = (word, det[k][1][1], det[k][1][2], det[k][2][0], det[k][2][1], sentTkn[l-1], '', det[k][4])\n",
        "              else:\n",
        "                a = (word, det[k][1][1], det[k][1][2], det[k][2][0], det[k][2][1], sentTkn[l-1], sentTkn[l+1], det[k][4])\n",
        "        li.append(a)\n",
        "      li = list(set(li))\n",
        "      nli.append(li)\n",
        "    dic['details'] = nli\n",
        "    details.append(dic)"
      ],
      "execution_count": null,
      "outputs": []
    },
    {
      "cell_type": "code",
      "metadata": {
        "id": "lGo0cddfZyxE",
        "colab_type": "code",
        "colab": {}
      },
      "source": [
        ""
      ],
      "execution_count": null,
      "outputs": []
    },
    {
      "cell_type": "code",
      "metadata": {
        "id": "9FSFBMjPS1i5",
        "colab_type": "code",
        "colab": {
          "base_uri": "https://localhost:8080/",
          "height": 34
        },
        "outputId": "a25cd6f8-baa5-4a6c-f8f7-563e0a0d7ea1"
      },
      "source": [
        "len(details)"
      ],
      "execution_count": null,
      "outputs": [
        {
          "output_type": "execute_result",
          "data": {
            "text/plain": [
              "1803"
            ]
          },
          "metadata": {
            "tags": []
          },
          "execution_count": 484
        }
      ]
    },
    {
      "cell_type": "code",
      "metadata": {
        "id": "2wK_58kdX5rU",
        "colab_type": "code",
        "colab": {}
      },
      "source": [
        "len(list)"
      ],
      "execution_count": null,
      "outputs": []
    },
    {
      "cell_type": "code",
      "metadata": {
        "id": "vS7PNT-iX5nP",
        "colab_type": "code",
        "colab": {}
      },
      "source": [
        ""
      ],
      "execution_count": null,
      "outputs": []
    },
    {
      "cell_type": "markdown",
      "metadata": {
        "id": "V8SfVNnST99r",
        "colab_type": "text"
      },
      "source": [
        "# CRF"
      ]
    },
    {
      "cell_type": "markdown",
      "metadata": {
        "id": "l51LriXrUD3c",
        "colab_type": "text"
      },
      "source": [
        "### Getting Data "
      ]
    },
    {
      "cell_type": "code",
      "metadata": {
        "id": "diUDIlLRTt2I",
        "colab_type": "code",
        "colab": {}
      },
      "source": [
        "data = []\n",
        "for i in range(len(details)):\n",
        "  if details[i]['details'] != []:\n",
        "    det = details[i]['details'] \n",
        "    for d in det:\n",
        "     for combos in d:\n",
        "       data.append(combos)"
      ],
      "execution_count": null,
      "outputs": []
    },
    {
      "cell_type": "code",
      "metadata": {
        "id": "sTJJNiCyUQd4",
        "colab_type": "code",
        "colab": {
          "base_uri": "https://localhost:8080/",
          "height": 34
        },
        "outputId": "3d910d9e-6131-4311-93db-862275f2b352"
      },
      "source": [
        "len(data)"
      ],
      "execution_count": null,
      "outputs": [
        {
          "output_type": "execute_result",
          "data": {
            "text/plain": [
              "68668"
            ]
          },
          "metadata": {
            "tags": []
          },
          "execution_count": 487
        }
      ]
    },
    {
      "cell_type": "code",
      "metadata": {
        "id": "d1-71YK-hX42",
        "colab_type": "code",
        "colab": {
          "base_uri": "https://localhost:8080/",
          "height": 34
        },
        "outputId": "a8a21085-1b5c-4a1a-ff2b-3f8101f03236"
      },
      "source": [
        "len(list (set (data)))"
      ],
      "execution_count": null,
      "outputs": [
        {
          "output_type": "execute_result",
          "data": {
            "text/plain": [
              "35560"
            ]
          },
          "metadata": {
            "tags": []
          },
          "execution_count": 488
        }
      ]
    },
    {
      "cell_type": "markdown",
      "metadata": {
        "id": "B-2j9V0yJzjM",
        "colab_type": "text"
      },
      "source": [
        "### Generating Features"
      ]
    },
    {
      "cell_type": "code",
      "metadata": {
        "id": "FfBDIoRBUj7z",
        "colab_type": "code",
        "colab": {}
      },
      "source": [
        "def word2features(doc):\n",
        "    word = doc[0]\n",
        "    wordPos = doc[1]\n",
        "    depWord = doc[2]\n",
        "    depWordPos = doc[3]\n",
        "    depTag = doc[5]\n",
        "    previousWord = doc[6]\n",
        "    nextWord = doc[7]\n",
        "\n",
        "    features = [\n",
        "        'bias',\n",
        "        'word.lower=' + word.lower(),\n",
        "        'previousWord' + previousWord,\n",
        "        'nextWord=' +nextWord,\n",
        "        'wordLen=' + str(len(word)),\n",
        "        'posTag=' + wordPos,\n",
        "        'depWord=' + str (depWord),\n",
        "        'depWordPos=' + depWordPos,\n",
        "        'depTag=' + depTag\n",
        "        \n",
        "    ]\n",
        "\n",
        "\n",
        "    return features"
      ],
      "execution_count": null,
      "outputs": []
    },
    {
      "cell_type": "code",
      "metadata": {
        "id": "aR8deIIZf1Rx",
        "colab_type": "code",
        "colab": {}
      },
      "source": [
        "def extract_features(doc):\n",
        "    return [word2features(doc) for i in range(len(doc))]"
      ],
      "execution_count": null,
      "outputs": []
    },
    {
      "cell_type": "code",
      "metadata": {
        "id": "hwT-bkSPf0xQ",
        "colab_type": "code",
        "colab": {}
      },
      "source": [
        "def get_labels(doc):\n",
        "    return [doc[-1] for i in range(len(doc))]"
      ],
      "execution_count": null,
      "outputs": []
    },
    {
      "cell_type": "markdown",
      "metadata": {
        "id": "yneyY37HJ6T7",
        "colab_type": "text"
      },
      "source": [
        "### Getting dependent and independent variables"
      ]
    },
    {
      "cell_type": "code",
      "metadata": {
        "id": "FS8_InAWf1YV",
        "colab_type": "code",
        "colab": {}
      },
      "source": [
        "X = [extract_features(doc) for doc in data]"
      ],
      "execution_count": null,
      "outputs": []
    },
    {
      "cell_type": "code",
      "metadata": {
        "id": "Z7nty7XfeUYa",
        "colab_type": "code",
        "colab": {}
      },
      "source": [
        "y = [get_labels(doc) for doc in data]"
      ],
      "execution_count": null,
      "outputs": []
    },
    {
      "cell_type": "code",
      "metadata": {
        "id": "-RjrNKISgBFV",
        "colab_type": "code",
        "colab": {
          "base_uri": "https://localhost:8080/",
          "height": 34
        },
        "outputId": "5823c5d7-bf80-422b-dc44-9095637bcc2a"
      },
      "source": [
        "len(X), len(y)"
      ],
      "execution_count": null,
      "outputs": [
        {
          "output_type": "execute_result",
          "data": {
            "text/plain": [
              "(68668, 68668)"
            ]
          },
          "metadata": {
            "tags": []
          },
          "execution_count": 494
        }
      ]
    },
    {
      "cell_type": "markdown",
      "metadata": {
        "id": "bV_zb0DhJ-07",
        "colab_type": "text"
      },
      "source": [
        "### Splitting into training and test data"
      ]
    },
    {
      "cell_type": "code",
      "metadata": {
        "id": "jvBljiHkaq1l",
        "colab_type": "code",
        "colab": {}
      },
      "source": [
        "from sklearn.model_selection import train_test_split\n",
        "import numpy as np"
      ],
      "execution_count": null,
      "outputs": []
    },
    {
      "cell_type": "code",
      "metadata": {
        "id": "N8ygzSrvauTX",
        "colab_type": "code",
        "colab": {}
      },
      "source": [
        "X_train, X_test, y_train, y_test = train_test_split(X, y, test_size=0.2)"
      ],
      "execution_count": null,
      "outputs": []
    },
    {
      "cell_type": "code",
      "metadata": {
        "id": "3m3GT0ChayT-",
        "colab_type": "code",
        "colab": {}
      },
      "source": [
        "from sklearn_crfsuite import CRF"
      ],
      "execution_count": null,
      "outputs": []
    },
    {
      "cell_type": "markdown",
      "metadata": {
        "id": "oLhAtSX4KKx2",
        "colab_type": "text"
      },
      "source": [
        "### CRF model using Stoachastic Gradient descent with L2 regularization"
      ]
    },
    {
      "cell_type": "code",
      "metadata": {
        "id": "9HVjJA_-a2vQ",
        "colab_type": "code",
        "colab": {}
      },
      "source": [
        "model = CRF(algorithm='l2sgd',\n",
        "    max_iterations=100,\n",
        "    all_possible_transitions=True)"
      ],
      "execution_count": null,
      "outputs": []
    },
    {
      "cell_type": "code",
      "metadata": {
        "id": "iNF8I0a5dYeG",
        "colab_type": "code",
        "colab": {
          "base_uri": "https://localhost:8080/",
          "height": 34
        },
        "outputId": "df74e7e4-1c7a-454a-ba88-ab35be90df77"
      },
      "source": [
        "len(X_train), len(y_train)"
      ],
      "execution_count": null,
      "outputs": [
        {
          "output_type": "execute_result",
          "data": {
            "text/plain": [
              "(54934, 54934)"
            ]
          },
          "metadata": {
            "tags": []
          },
          "execution_count": 500
        }
      ]
    },
    {
      "cell_type": "code",
      "metadata": {
        "id": "mHXF3vmmgxDu",
        "colab_type": "code",
        "colab": {
          "base_uri": "https://localhost:8080/",
          "height": 34
        },
        "outputId": "0a644e36-bea3-4dd5-abe4-783a1ef989c2"
      },
      "source": [
        "for i in range(len(X_train)):\n",
        "  print(type(X_train[i]))\n",
        "  break;"
      ],
      "execution_count": null,
      "outputs": [
        {
          "output_type": "stream",
          "text": [
            "<class 'list'>\n"
          ],
          "name": "stdout"
        }
      ]
    },
    {
      "cell_type": "code",
      "metadata": {
        "id": "IqN5GrFGa4v6",
        "colab_type": "code",
        "colab": {
          "base_uri": "https://localhost:8080/",
          "height": 190
        },
        "outputId": "668709ba-0a51-4c02-9ba2-d486c63f7936"
      },
      "source": [
        "model.fit(X_train, y_train)"
      ],
      "execution_count": null,
      "outputs": [
        {
          "output_type": "stream",
          "text": [
            "/usr/local/lib/python3.6/dist-packages/sklearn/base.py:197: FutureWarning: From version 0.24, get_params will raise an AttributeError if a parameter cannot be retrieved as an instance attribute. Previously it would return None.\n",
            "  FutureWarning)\n"
          ],
          "name": "stderr"
        },
        {
          "output_type": "execute_result",
          "data": {
            "text/plain": [
              "CRF(algorithm='l2sgd', all_possible_states=None, all_possible_transitions=True,\n",
              "    averaging=None, c=None, c1=None, c2=None, calibration_candidates=None,\n",
              "    calibration_eta=None, calibration_max_trials=None, calibration_rate=None,\n",
              "    calibration_samples=None, delta=None, epsilon=None, error_sensitive=None,\n",
              "    gamma=None, keep_tempfiles=None, linesearch=None, max_iterations=100,\n",
              "    max_linesearch=None, min_freq=None, model_filename=None, num_memories=None,\n",
              "    pa_type=None, period=None, trainer_cls=None, variance=None, verbose=False)"
            ]
          },
          "metadata": {
            "tags": []
          },
          "execution_count": 502
        }
      ]
    },
    {
      "cell_type": "markdown",
      "metadata": {
        "id": "vDvrEWrsKRqv",
        "colab_type": "text"
      },
      "source": [
        "### Getting metrics for evaluation"
      ]
    },
    {
      "cell_type": "code",
      "metadata": {
        "id": "15xjPek7d3J9",
        "colab_type": "code",
        "colab": {
          "base_uri": "https://localhost:8080/",
          "height": 289
        },
        "outputId": "51ef51a6-3923-4a53-8071-94ef2a9e48fc"
      },
      "source": [
        "from sklearn_crfsuite import metrics\n",
        " \n",
        "y_pred = model.predict(X_test)\n",
        "print(metrics.flat_accuracy_score(y_test, y_pred))\n",
        "#print(metrics.flat_precision_score(y_test, y_pred))\n",
        "print(metrics.flat_classification_report(y_test, y_pred))"
      ],
      "execution_count": null,
      "outputs": [
        {
          "output_type": "stream",
          "text": [
            "0.9432260570695086\n",
            "              precision    recall  f1-score   support\n",
            "\n",
            "           c       0.95      0.90      0.93      4471\n",
            "           e       0.92      0.94      0.93      5846\n",
            "           f       0.97      0.93      0.95     16342\n",
            "           i       0.88      0.90      0.89      7980\n",
            "           o       0.96      0.94      0.95     34606\n",
            "           p       0.97      0.96      0.96      8028\n",
            "           s       0.90      0.97      0.94     14269\n",
            "          st       0.94      0.95      0.94     26875\n",
            "\n",
            "    accuracy                           0.94    118417\n",
            "   macro avg       0.94      0.94      0.94    118417\n",
            "weighted avg       0.94      0.94      0.94    118417\n",
            "\n"
          ],
          "name": "stdout"
        }
      ]
    },
    {
      "cell_type": "markdown",
      "metadata": {
        "id": "q4OLRJ5QKWrO",
        "colab_type": "text"
      },
      "source": [
        "### Saving Trained Model and Evaluation Metrics of the model"
      ]
    },
    {
      "cell_type": "code",
      "metadata": {
        "id": "S2TuOZF5abYi",
        "colab_type": "code",
        "colab": {}
      },
      "source": [
        "import pickle"
      ],
      "execution_count": null,
      "outputs": []
    },
    {
      "cell_type": "code",
      "metadata": {
        "id": "CjW2HdPoaw4d",
        "colab_type": "code",
        "colab": {}
      },
      "source": [
        "filename = '/finalized_crf_model.sav'"
      ],
      "execution_count": null,
      "outputs": []
    },
    {
      "cell_type": "code",
      "metadata": {
        "id": "fb-uaBZXawoy",
        "colab_type": "code",
        "colab": {}
      },
      "source": [
        "pickle.dump(model, open(pathAR+filename, 'wb'))"
      ],
      "execution_count": null,
      "outputs": []
    },
    {
      "cell_type": "code",
      "metadata": {
        "id": "VaGq0-6JbNU_",
        "colab_type": "code",
        "colab": {}
      },
      "source": [
        "report = metrics.flat_classification_report(y_test, y_pred)"
      ],
      "execution_count": null,
      "outputs": []
    },
    {
      "cell_type": "code",
      "metadata": {
        "id": "jqwcWddrbNDv",
        "colab_type": "code",
        "colab": {}
      },
      "source": [
        "from sklearn.preprocessing import MultiLabelBinarizer"
      ],
      "execution_count": null,
      "outputs": []
    },
    {
      "cell_type": "code",
      "metadata": {
        "id": "yMmJCX7BbZyn",
        "colab_type": "code",
        "colab": {}
      },
      "source": [
        "ml = MultiLabelBinarizer()"
      ],
      "execution_count": null,
      "outputs": []
    },
    {
      "cell_type": "code",
      "metadata": {
        "id": "P-ZJhumVbqj0",
        "colab_type": "code",
        "colab": {
          "base_uri": "https://localhost:8080/",
          "height": 34
        },
        "outputId": "7f133863-5764-46a6-a89a-7f7b0900338f"
      },
      "source": [
        "ml.fit(y_test)"
      ],
      "execution_count": null,
      "outputs": [
        {
          "output_type": "execute_result",
          "data": {
            "text/plain": [
              "MultiLabelBinarizer(classes=None, sparse_output=False)"
            ]
          },
          "metadata": {
            "tags": []
          },
          "execution_count": 516
        }
      ]
    },
    {
      "cell_type": "code",
      "metadata": {
        "id": "fTrIc1whbuPu",
        "colab_type": "code",
        "colab": {}
      },
      "source": [
        "newy_test = ml.transform(y_test)"
      ],
      "execution_count": null,
      "outputs": []
    },
    {
      "cell_type": "code",
      "metadata": {
        "id": "x5pPAne4bujv",
        "colab_type": "code",
        "colab": {}
      },
      "source": [
        "newy_pred = ml.transform(y_pred)"
      ],
      "execution_count": null,
      "outputs": []
    },
    {
      "cell_type": "code",
      "metadata": {
        "id": "OYdLFGitb3g0",
        "colab_type": "code",
        "colab": {}
      },
      "source": [
        "roc_auc = roc_auc_score(newy_test, newy_pred, average=\"macro\")"
      ],
      "execution_count": null,
      "outputs": []
    },
    {
      "cell_type": "code",
      "metadata": {
        "id": "wWM1crOeb30_",
        "colab_type": "code",
        "colab": {
          "base_uri": "https://localhost:8080/",
          "height": 34
        },
        "outputId": "09f1e762-bf47-4c30-cd55-3167dadab74c"
      },
      "source": [
        "roc_auc"
      ],
      "execution_count": null,
      "outputs": [
        {
          "output_type": "execute_result",
          "data": {
            "text/plain": [
              "0.9658188763012202"
            ]
          },
          "metadata": {
            "tags": []
          },
          "execution_count": 521
        }
      ]
    },
    {
      "cell_type": "code",
      "metadata": {
        "id": "glJin5Z0b-rc",
        "colab_type": "code",
        "colab": {}
      },
      "source": [
        "fpr, tpr, _ = roc_curve(newy_test.ravel(), newy_pred.ravel())"
      ],
      "execution_count": null,
      "outputs": []
    },
    {
      "cell_type": "code",
      "metadata": {
        "id": "jqm8pp0dcBKZ",
        "colab_type": "code",
        "colab": {}
      },
      "source": [
        "precision, recall, _ = precision_recall_curve(newy_test.ravel(), newy_pred.ravel())"
      ],
      "execution_count": null,
      "outputs": []
    },
    {
      "cell_type": "code",
      "metadata": {
        "id": "9S59_85Ub--u",
        "colab_type": "code",
        "colab": {}
      },
      "source": [
        "errors = abs(newy_pred.ravel() - newy_test.ravel())"
      ],
      "execution_count": null,
      "outputs": []
    },
    {
      "cell_type": "code",
      "metadata": {
        "id": "wN1x5WJgcA3b",
        "colab_type": "code",
        "colab": {
          "base_uri": "https://localhost:8080/",
          "height": 316
        },
        "outputId": "7315473a-a99f-4664-f099-2385b25479e6"
      },
      "source": [
        "fig, ax = pyplot.subplots()\n",
        "ax.set_title(\"ROC-AUC Curve\")\n",
        "ax.plot(fpr, tpr, marker='.', label='Conditional Random Field')\n",
        "# axis labels\n",
        "ax.set_xlabel('False Positive Rate')\n",
        "ax.set_ylabel('True Positive Rate')\n",
        "## show the legend\n",
        "ax.legend()"
      ],
      "execution_count": null,
      "outputs": [
        {
          "output_type": "execute_result",
          "data": {
            "text/plain": [
              "<matplotlib.legend.Legend at 0x7f3105776c18>"
            ]
          },
          "metadata": {
            "tags": []
          },
          "execution_count": 528
        },
        {
          "output_type": "display_data",
          "data": {
            "image/png": "[encoded data removed]",
            "text/plain": [
              "<Figure size 432x288 with 1 Axes>"
            ]
          },
          "metadata": {
            "tags": []
          }
        }
      ]
    },
    {
      "cell_type": "code",
      "metadata": {
        "id": "j3ptrOd3cAkx",
        "colab_type": "code",
        "colab": {}
      },
      "source": [
        "fig.savefig(pathAR+r'/'+'crf_ROC AUC curve.png')"
      ],
      "execution_count": null,
      "outputs": []
    },
    {
      "cell_type": "code",
      "metadata": {
        "id": "sYUqMNZGcAPE",
        "colab_type": "code",
        "colab": {}
      },
      "source": [
        "ax.cla()"
      ],
      "execution_count": null,
      "outputs": []
    },
    {
      "cell_type": "code",
      "metadata": {
        "id": "CFCa2JKXb_7s",
        "colab_type": "code",
        "colab": {
          "base_uri": "https://localhost:8080/",
          "height": 34
        },
        "outputId": "69002094-bdaf-4bc5-b6d5-aed352e65784"
      },
      "source": [
        "  # plot the precision-recall curves\n",
        "  ax.set_title(\"Precision-Recall Curves\")\n",
        "  ax.plot(recall, precision, marker='.', label='Conditional Random Field')\n",
        "  ax.set_xlabel('Recall')\n",
        "  ax.set_ylabel('Precision')\n",
        "  "
      ],
      "execution_count": null,
      "outputs": [
        {
          "output_type": "execute_result",
          "data": {
            "text/plain": [
              "Text(27.125, 0.5, 'Precision')"
            ]
          },
          "metadata": {
            "tags": []
          },
          "execution_count": 531
        }
      ]
    },
    {
      "cell_type": "code",
      "metadata": {
        "id": "BCJaGFScb_ok",
        "colab_type": "code",
        "colab": {}
      },
      "source": [
        "fig.savefig(pathAR+r'/'+'crf_Precision-Recall Curve.png')"
      ],
      "execution_count": null,
      "outputs": []
    },
    {
      "cell_type": "code",
      "metadata": {
        "id": "2iF7zoqVb_TB",
        "colab_type": "code",
        "colab": {}
      },
      "source": [
        "f1 = f1_score(newy_test.ravel(), newy_pred.ravel())"
      ],
      "execution_count": null,
      "outputs": []
    },
    {
      "cell_type": "code",
      "metadata": {
        "id": "tRTIUS5Xc3bh",
        "colab_type": "code",
        "colab": {}
      },
      "source": [
        "ax.cla()"
      ],
      "execution_count": null,
      "outputs": []
    },
    {
      "cell_type": "code",
      "metadata": {
        "id": "7HafClxVc3Fc",
        "colab_type": "code",
        "colab": {}
      },
      "source": [
        "txt = \"Metrics for Condtional Random Field Trained on Original Data\\n 1. ROC AUC Score: \"+str(roc_auc)+\"\\t\\n 2. F1 Score: \"+str(f1)+\"\\t\\n 3. Average absolute error: \"+str(round(np.mean(errors), 2))+\" degrees\""
      ],
      "execution_count": null,
      "outputs": []
    },
    {
      "cell_type": "code",
      "metadata": {
        "id": "wi3VpXZqdDGZ",
        "colab_type": "code",
        "colab": {
          "base_uri": "https://localhost:8080/",
          "height": 52
        },
        "outputId": "bf690e83-d67f-4830-992d-5b342771b962"
      },
      "source": [
        "txt"
      ],
      "execution_count": null,
      "outputs": [
        {
          "output_type": "execute_result",
          "data": {
            "application/vnd.google.colaboratory.intrinsic+json": {
              "type": "string"
            },
            "text/plain": [
              "'Metrics for Condtional Random Field Trained on Original Data\\n 1. ROC AUC Score: 0.9658188763012202\\t\\n 2. F1 Score: 0.9456094364351245\\t\\n 3. Average absolute error: 0.01 degrees'"
            ]
          },
          "metadata": {
            "tags": []
          },
          "execution_count": 536
        }
      ]
    },
    {
      "cell_type": "code",
      "metadata": {
        "id": "JE_OOJVTdE1w",
        "colab_type": "code",
        "colab": {}
      },
      "source": [
        "  text_file = open(pathAR+r'/'+\"evaluation_metrics_crf.txt\", 'w')\n",
        "  n = text_file.write(txt)\n",
        "  r = text_file.write(\"\\n Classification Report is as follows\\n\"+report)\n",
        "  text_file.close()"
      ],
      "execution_count": null,
      "outputs": []
    },
    {
      "cell_type": "code",
      "metadata": {
        "id": "qMBj0VB2jMF7",
        "colab_type": "code",
        "colab": {}
      },
      "source": [
        "def evaluations(model, y_test, y_pred, modelname):\n",
        "\n",
        "  report = metrics.classification_report(y_test, y_pred)\n",
        "\n",
        "  lb = LabelBinarizer()\n",
        "  lb.fit(y_test)\n",
        "\n",
        "  y_test = lb.transform(y_test)\n",
        "  y_pred = lb.transform(y_pred)\n",
        "\n",
        "  roc_auc = roc_auc_score(y_test, y_pred, average=\"macro\")\n",
        "  \n",
        "  fpr, tpr, _ = roc_curve(y_test.ravel(), y_pred.ravel())\n",
        "\n",
        "  precision, recall, _ = precision_recall_curve(y_test.ravel(), y_pred.ravel())\n",
        "\n",
        "\n",
        "  errors = abs(y_pred.ravel() - y_test.ravel())\n",
        "\n",
        "  fig, ax = pyplot.subplots()\n",
        "  ax.set_title(\"ROC-AUC Curve\")\n",
        "  ax.plot(fpr, tpr, marker='.', label='Random Forest')\n",
        "  # axis labels\n",
        "  ax.set_xlabel('False Positive Rate')\n",
        "  ax.set_ylabel('True Positive Rate')\n",
        "  ## show the legend\n",
        "  ax.legend()\n",
        "  # show the plot\n",
        "  fig.savefig(pathTA+r'/'+modelname+'_ROC-AUC Curve.png')\n",
        "\n",
        "  ax.cla()\n",
        "  # plot the precision-recall curves\n",
        "  ax.set_title(\"Precision-Recall Curves\")\n",
        "  ax.plot(recall, precision, marker='.', label='Random Forest')\n",
        "  ax.set_xlabel('Recall')\n",
        "  ax.set_ylabel('Precision')\n",
        "  fig.savefig(pathTA+r'/'+modelname+'_Precision-Recall Curve.png')\n",
        "\n",
        "  f1 = f1_score(y_test.ravel(), y_pred.ravel())\n",
        "  \n",
        "  \n",
        "  ax.cla()\n",
        "  \n",
        "  txt = \"Metrics for Random Forest Trained on Original Data\\n 1. ROC AUC Score: \"+str(roc_auc)+\"\\t\\n 2. F1 Score: \"+str(f1)+\"\\t\\n 3. Average absolute error: \"+str(round(np.mean(errors), 2))+\" degrees\"\n",
        "\n",
        "  text_file = open(pathTA+r'/'+\"evaluation_metrics_\"+modelname+\".txt\", 'w')\n",
        "  n = text_file.write(txt)\n",
        "  r = text_file.write(\"\\n Classification Report is as follows\\n\"+report)\n",
        "  text_file.close()"
      ],
      "execution_count": null,
      "outputs": []
    },
    {
      "cell_type": "markdown",
      "metadata": {
        "id": "DcRAKSUgeeCw",
        "colab_type": "text"
      },
      "source": [
        "# Classification Part, DO NOT RUN, CODE only for reference"
      ]
    },
    {
      "cell_type": "code",
      "metadata": {
        "id": "OBWKICSSefS0",
        "colab_type": "code",
        "colab": {}
      },
      "source": [
        "import json\n",
        "import glob\n",
        "import pandas as pd\n",
        "\n",
        "from sklearn.preprocessing import OneHotEncoder\n",
        "from keras.preprocessing.text import Tokenizer\n",
        "\n",
        "import pandas as pd\n",
        "from sklearn.feature_extraction.text import CountVectorizer\n",
        "from sklearn.model_selection import train_test_split\n",
        "from sklearn.linear_model import LogisticRegression\n",
        "import matplotlib.pyplot as plt\n",
        "plt.style.use('ggplot')\n",
        "from sklearn.preprocessing import LabelEncoder\n",
        "from keras.models import Sequential\n",
        "from keras import layers\n",
        "from sklearn.preprocessing import OneHotEncoder\n",
        "from keras.preprocessing.text import Tokenizer\n",
        "from keras.preprocessing.sequence import pad_sequences\n",
        "import numpy as np\n",
        "import xml.etree.ElementTree as ET, getopt, logging, sys, random, re, copy, os\n",
        "from lxml import etree\n",
        "from keras.wrappers.scikit_learn import KerasClassifier\n",
        "from sklearn.model_selection import RandomizedSearchCV\n",
        "\n",
        "from keras import backend as K\n",
        "\n",
        "import pickle"
      ],
      "execution_count": null,
      "outputs": []
    },
    {
      "cell_type": "code",
      "metadata": {
        "id": "UkcZsnL-kThC",
        "colab_type": "code",
        "colab": {}
      },
      "source": [
        "def changeAspectTerm(dataframe, aspectterm, key):\n",
        "  newdf = pd.DataFrame()\n",
        "  newdf['id'] = dataframe['id']\n",
        "  newdf['word'] = dataframe[aspectterm]\n",
        "  newdf['Aspect'] = key+'_'+dataframe['Aspect'].str.lower().astype(str)\n",
        "  newdf['id_updated'] = dataframe['id_updated']\n",
        "\n",
        "  return newdf"
      ],
      "execution_count": null,
      "outputs": []
    },
    {
      "cell_type": "code",
      "metadata": {
        "id": "OUQHzekukTeT",
        "colab_type": "code",
        "colab": {}
      },
      "source": [
        "df = pd.read_csv(pathAR+r'/FinalCabinAspects.csv')"
      ],
      "execution_count": null,
      "outputs": []
    },
    {
      "cell_type": "code",
      "metadata": {
        "id": "pmlt_8jSkTb2",
        "colab_type": "code",
        "colab": {
          "base_uri": "https://localhost:8080/",
          "height": 34
        },
        "outputId": "412e2ef4-26cd-4f74-8b21-60d1fb3739ee"
      },
      "source": [
        "df.columns"
      ],
      "execution_count": null,
      "outputs": [
        {
          "output_type": "execute_result",
          "data": {
            "text/plain": [
              "Index(['Unnamed: 0', 'id', 'Cabin', 'Aspect', 'id_updated'], dtype='object')"
            ]
          },
          "metadata": {
            "tags": []
          },
          "execution_count": 8
        }
      ]
    },
    {
      "cell_type": "code",
      "metadata": {
        "id": "f6KVPGw9kTZT",
        "colab_type": "code",
        "colab": {}
      },
      "source": [
        "newdf = changeAspectTerm(df, 'Cabin', 'cabin')"
      ],
      "execution_count": null,
      "outputs": []
    },
    {
      "cell_type": "code",
      "metadata": {
        "id": "b_empqUBkTW3",
        "colab_type": "code",
        "colab": {
          "base_uri": "https://localhost:8080/",
          "height": 197
        },
        "outputId": "c3ff5c3a-3849-4026-d88b-ee328c1ba071"
      },
      "source": [
        "newdf.head()"
      ],
      "execution_count": null,
      "outputs": [
        {
          "output_type": "execute_result",
          "data": {
            "text/html": [
              "<div>\n",
              "<style scoped>\n",
              "    .dataframe tbody tr th:only-of-type {\n",
              "        vertical-align: middle;\n",
              "    }\n",
              "\n",
              "    .dataframe tbody tr th {\n",
              "        vertical-align: top;\n",
              "    }\n",
              "\n",
              "    .dataframe thead th {\n",
              "        text-align: right;\n",
              "    }\n",
              "</style>\n",
              "<table border=\"1\" class=\"dataframe\">\n",
              "  <thead>\n",
              "    <tr style=\"text-align: right;\">\n",
              "      <th></th>\n",
              "      <th>id</th>\n",
              "      <th>word</th>\n",
              "      <th>Aspect</th>\n",
              "      <th>id_updated</th>\n",
              "    </tr>\n",
              "  </thead>\n",
              "  <tbody>\n",
              "    <tr>\n",
              "      <th>0</th>\n",
              "      <td>2970.0</td>\n",
              "      <td>dirty</td>\n",
              "      <td>cabin_condition</td>\n",
              "      <td>2970.0</td>\n",
              "    </tr>\n",
              "    <tr>\n",
              "      <th>1</th>\n",
              "      <td>2970.0</td>\n",
              "      <td>cabin</td>\n",
              "      <td>cabin_condition</td>\n",
              "      <td>2970.0</td>\n",
              "    </tr>\n",
              "    <tr>\n",
              "      <th>2</th>\n",
              "      <td>2970.0</td>\n",
              "      <td>uncomfortably</td>\n",
              "      <td>cabin_condition</td>\n",
              "      <td>2970.0</td>\n",
              "    </tr>\n",
              "    <tr>\n",
              "      <th>3</th>\n",
              "      <td>2970.0</td>\n",
              "      <td>cold</td>\n",
              "      <td>cabin_temperature</td>\n",
              "      <td>2970.0</td>\n",
              "    </tr>\n",
              "    <tr>\n",
              "      <th>4</th>\n",
              "      <td>2970.0</td>\n",
              "      <td>temperature</td>\n",
              "      <td>cabin_temperature</td>\n",
              "      <td>2970.0</td>\n",
              "    </tr>\n",
              "  </tbody>\n",
              "</table>\n",
              "</div>"
            ],
            "text/plain": [
              "       id           word             Aspect  id_updated\n",
              "0  2970.0          dirty    cabin_condition      2970.0\n",
              "1  2970.0          cabin    cabin_condition      2970.0\n",
              "2  2970.0  uncomfortably    cabin_condition      2970.0\n",
              "3  2970.0           cold  cabin_temperature      2970.0\n",
              "4  2970.0    temperature  cabin_temperature      2970.0"
            ]
          },
          "metadata": {
            "tags": []
          },
          "execution_count": 10
        }
      ]
    },
    {
      "cell_type": "code",
      "metadata": {
        "id": "K6srUgLZlKLo",
        "colab_type": "code",
        "colab": {}
      },
      "source": [
        "totLst = []\n",
        "totLst.append(newdf)"
      ],
      "execution_count": null,
      "outputs": []
    },
    {
      "cell_type": "code",
      "metadata": {
        "id": "O4p_hb0PlKEB",
        "colab_type": "code",
        "colab": {
          "base_uri": "https://localhost:8080/",
          "height": 34
        },
        "outputId": "f105fa46-f855-4d3c-be88-f6d28493be83"
      },
      "source": [
        "len(totLst[-1]), len(newdf)"
      ],
      "execution_count": null,
      "outputs": [
        {
          "output_type": "execute_result",
          "data": {
            "text/plain": [
              "(481, 481)"
            ]
          },
          "metadata": {
            "tags": []
          },
          "execution_count": 14
        }
      ]
    },
    {
      "cell_type": "code",
      "metadata": {
        "id": "OtQs_xuInP7F",
        "colab_type": "code",
        "colab": {
          "base_uri": "https://localhost:8080/",
          "height": 34
        },
        "outputId": "9c52ba27-5b62-4054-f1f9-ffb2a7324c80"
      },
      "source": [
        "len(totLst)"
      ],
      "execution_count": null,
      "outputs": [
        {
          "output_type": "execute_result",
          "data": {
            "text/plain": [
              "1"
            ]
          },
          "metadata": {
            "tags": []
          },
          "execution_count": 15
        }
      ]
    },
    {
      "cell_type": "code",
      "metadata": {
        "id": "TFSsg9_XrbaV",
        "colab_type": "code",
        "colab": {}
      },
      "source": [
        "df_aspect = pd.DataFrame()"
      ],
      "execution_count": null,
      "outputs": []
    },
    {
      "cell_type": "code",
      "metadata": {
        "id": "iZ-qJs5CnPgg",
        "colab_type": "code",
        "colab": {}
      },
      "source": [
        "df_aspect=pd.concat(totLst, ignore_index=True)"
      ],
      "execution_count": null,
      "outputs": []
    },
    {
      "cell_type": "code",
      "metadata": {
        "id": "9W0JHaZsnZfL",
        "colab_type": "code",
        "colab": {
          "base_uri": "https://localhost:8080/",
          "height": 347
        },
        "outputId": "26cd2e43-bb36-40a9-e43e-f435340b89ad"
      },
      "source": [
        "df_aspect.sample(10)"
      ],
      "execution_count": null,
      "outputs": [
        {
          "output_type": "execute_result",
          "data": {
            "text/html": [
              "<div>\n",
              "<style scoped>\n",
              "    .dataframe tbody tr th:only-of-type {\n",
              "        vertical-align: middle;\n",
              "    }\n",
              "\n",
              "    .dataframe tbody tr th {\n",
              "        vertical-align: top;\n",
              "    }\n",
              "\n",
              "    .dataframe thead th {\n",
              "        text-align: right;\n",
              "    }\n",
              "</style>\n",
              "<table border=\"1\" class=\"dataframe\">\n",
              "  <thead>\n",
              "    <tr style=\"text-align: right;\">\n",
              "      <th></th>\n",
              "      <th>id</th>\n",
              "      <th>word</th>\n",
              "      <th>Aspect</th>\n",
              "      <th>id_updated</th>\n",
              "    </tr>\n",
              "  </thead>\n",
              "  <tbody>\n",
              "    <tr>\n",
              "      <th>93</th>\n",
              "      <td>3383.0</td>\n",
              "      <td>space</td>\n",
              "      <td>cabin_size</td>\n",
              "      <td>3383.0</td>\n",
              "    </tr>\n",
              "    <tr>\n",
              "      <th>436</th>\n",
              "      <td>3802.0</td>\n",
              "      <td>offputting</td>\n",
              "      <td>cabin_condition</td>\n",
              "      <td>3802.0</td>\n",
              "    </tr>\n",
              "    <tr>\n",
              "      <th>276</th>\n",
              "      <td>3558.0</td>\n",
              "      <td>temperature</td>\n",
              "      <td>cabin_temperature</td>\n",
              "      <td>3558.0</td>\n",
              "    </tr>\n",
              "    <tr>\n",
              "      <th>51</th>\n",
              "      <td>3200.0</td>\n",
              "      <td>cabin</td>\n",
              "      <td>cabin_condition</td>\n",
              "      <td>3200.0</td>\n",
              "    </tr>\n",
              "    <tr>\n",
              "      <th>192</th>\n",
              "      <td>3502.0</td>\n",
              "      <td>broke</td>\n",
              "      <td>cabin_temperature</td>\n",
              "      <td>3502.0</td>\n",
              "    </tr>\n",
              "    <tr>\n",
              "      <th>317</th>\n",
              "      <td>3626.0</td>\n",
              "      <td>were</td>\n",
              "      <td>cabin_condition</td>\n",
              "      <td>3626.0</td>\n",
              "    </tr>\n",
              "    <tr>\n",
              "      <th>194</th>\n",
              "      <td>3503.0</td>\n",
              "      <td>of</td>\n",
              "      <td>cabin_condition</td>\n",
              "      <td>3503.0</td>\n",
              "    </tr>\n",
              "    <tr>\n",
              "      <th>444</th>\n",
              "      <td>3811.0</td>\n",
              "      <td>and</td>\n",
              "      <td>cabin_condition</td>\n",
              "      <td>3811.0</td>\n",
              "    </tr>\n",
              "    <tr>\n",
              "      <th>321</th>\n",
              "      <td>3626.0</td>\n",
              "      <td>tatters</td>\n",
              "      <td>cabin_condition</td>\n",
              "      <td>3626.0</td>\n",
              "    </tr>\n",
              "    <tr>\n",
              "      <th>27</th>\n",
              "      <td>3037.0</td>\n",
              "      <td>friendly</td>\n",
              "      <td>cabin_condition</td>\n",
              "      <td>3037.0</td>\n",
              "    </tr>\n",
              "  </tbody>\n",
              "</table>\n",
              "</div>"
            ],
            "text/plain": [
              "         id         word             Aspect  id_updated\n",
              "93   3383.0        space         cabin_size      3383.0\n",
              "436  3802.0   offputting    cabin_condition      3802.0\n",
              "276  3558.0  temperature  cabin_temperature      3558.0\n",
              "51   3200.0        cabin    cabin_condition      3200.0\n",
              "192  3502.0        broke  cabin_temperature      3502.0\n",
              "317  3626.0         were    cabin_condition      3626.0\n",
              "194  3503.0           of    cabin_condition      3503.0\n",
              "444  3811.0          and    cabin_condition      3811.0\n",
              "321  3626.0      tatters    cabin_condition      3626.0\n",
              "27   3037.0     friendly    cabin_condition      3037.0"
            ]
          },
          "metadata": {
            "tags": []
          },
          "execution_count": 18
        }
      ]
    },
    {
      "cell_type": "code",
      "metadata": {
        "id": "YYBa5D-Urg4v",
        "colab_type": "code",
        "colab": {
          "base_uri": "https://localhost:8080/",
          "height": 34
        },
        "outputId": "58928280-a4e6-4113-f052-bee57bd562ea"
      },
      "source": [
        "len(df_aspect)"
      ],
      "execution_count": null,
      "outputs": [
        {
          "output_type": "execute_result",
          "data": {
            "text/plain": [
              "481"
            ]
          },
          "metadata": {
            "tags": []
          },
          "execution_count": 19
        }
      ]
    },
    {
      "cell_type": "code",
      "metadata": {
        "id": "BlbX0mPoeo6f",
        "colab_type": "code",
        "colab": {}
      },
      "source": [
        "pathAR = r'/content/drive/My Drive/Practicum/Labelled/AirlineRatings'"
      ],
      "execution_count": null,
      "outputs": []
    },
    {
      "cell_type": "code",
      "metadata": {
        "id": "GUHShZPdjvrO",
        "colab_type": "code",
        "colab": {}
      },
      "source": [
        "filesAR = glob.glob(pathAR+r'/*.csv')"
      ],
      "execution_count": null,
      "outputs": []
    },
    {
      "cell_type": "code",
      "metadata": {
        "id": "ssBBGBtRez9A",
        "colab_type": "code",
        "colab": {}
      },
      "source": [
        "pathTA = r'/content/drive/My Drive/Practicum/Labelled/TripAdvisor'"
      ],
      "execution_count": null,
      "outputs": []
    },
    {
      "cell_type": "code",
      "metadata": {
        "id": "SPkgwVNFjvmt",
        "colab_type": "code",
        "colab": {}
      },
      "source": [
        "filesTA = glob.glob(pathTA+r'/*.csv')"
      ],
      "execution_count": null,
      "outputs": []
    },
    {
      "cell_type": "code",
      "metadata": {
        "id": "8GIYrAVpj84M",
        "colab_type": "code",
        "colab": {}
      },
      "source": [
        "totFiles = filesAR + filesTA"
      ],
      "execution_count": null,
      "outputs": []
    },
    {
      "cell_type": "code",
      "metadata": {
        "id": "SorP8r5Yj8sO",
        "colab_type": "code",
        "colab": {
          "base_uri": "https://localhost:8080/",
          "height": 34
        },
        "outputId": "94e05d96-b454-4f5b-a6b1-260622657389"
      },
      "source": [
        "len(totFiles)"
      ],
      "execution_count": null,
      "outputs": [
        {
          "output_type": "execute_result",
          "data": {
            "text/plain": [
              "16"
            ]
          },
          "metadata": {
            "tags": []
          },
          "execution_count": 25
        }
      ]
    },
    {
      "cell_type": "code",
      "metadata": {
        "id": "S_rlgzOpflNS",
        "colab_type": "code",
        "colab": {}
      },
      "source": [
        "details = []\n",
        "for i in range(len(finInfo)):\n",
        "  info = finInfo[i]\n",
        "  for j in range(len(info)):\n",
        "    dic = {}\n",
        "    ids = info[j]['id']\n",
        "    dic['id'] = info[j]['id']\n",
        "    sent = info[j]['sentence']\n",
        "    newSent = ' '.join(sent)\n",
        "    dic['sentences'] = sent\n",
        "    sentTkn = newSent.split()\n",
        "    det = info[j]['Details']\n",
        "    nli = []\n",
        "    for k in range(len(det)):\n",
        "      li = []\n",
        "      for l in range(len(sentTkn)):\n",
        "        if (det[k][0] == 1):  \n",
        "          word = det[k][2][0]\n",
        "          if word in corpus and word not in stop_words:\n",
        "            if word == sentTkn[l]:\n",
        "              if (l == 0):\n",
        "                a = (word, det[k][2][1], det[k][1][0], det[k][1][1], det[k][2][2], det[k][3], '', sentTkn[l+1], det[k][4], ids)\n",
        "              elif (l == len(sentTkn)-1):\n",
        "                a = (word, det[k][2][1], det[k][1][0], det[k][1][1], det[k][2][2], det[k][3], sentTkn[l-1], '', det[k][4], ids)\n",
        "              else:\n",
        "                a = (word, det[k][2][1], det[k][1][0], det[k][1][1], det[k][2][2], det[k][3], sentTkn[l-1], sentTkn[l+1], det[k][4], ids)\n",
        "        else:\n",
        "          word = det[k][1][0]\n",
        "          if word in corpus and word not in stop_words:\n",
        "            if word == sentTkn[l]:\n",
        "              if (l == 0):\n",
        "                a = (word, det[k][1][1], det[k][1][2], det[k][2][0], det[k][2][1], '', sentTkn[l+1], det[k][4])\n",
        "              elif (l == len(sentTkn)-1):\n",
        "                a = (word, det[k][1][1], det[k][1][2], det[k][2][0], det[k][2][1], sentTkn[l-1], '', det[k][4])\n",
        "              else:\n",
        "                a = (word, det[k][1][1], det[k][1][2], det[k][2][0], det[k][2][1], sentTkn[l-1], sentTkn[l+1], det[k][4])\n",
        "        li.append(a)\n",
        "      li = list(set(li))\n",
        "      nli.append(li)\n",
        "    dic['details'] = nli\n",
        "    details.append(dic)"
      ],
      "execution_count": null,
      "outputs": []
    },
    {
      "cell_type": "code",
      "metadata": {
        "id": "-Tlt6sMYe51E",
        "colab_type": "code",
        "colab": {
          "base_uri": "https://localhost:8080/",
          "height": 34
        },
        "outputId": "fe22d59f-093d-4b6b-d93d-346e1da2b8cc"
      },
      "source": [
        "len(details)"
      ],
      "execution_count": null,
      "outputs": [
        {
          "output_type": "execute_result",
          "data": {
            "text/plain": [
              "1803"
            ]
          },
          "metadata": {
            "tags": []
          },
          "execution_count": 49
        }
      ]
    },
    {
      "cell_type": "code",
      "metadata": {
        "id": "QaYHUSwUjHwI",
        "colab_type": "code",
        "colab": {
          "base_uri": "https://localhost:8080/",
          "height": 34
        },
        "outputId": "6892840f-09f8-4ba1-baaa-066ef3947b6e"
      },
      "source": [
        "data = []\n",
        "for i in range(len(details)):\n",
        "    if details[i]['details'] != []:\n",
        "        det = details[i]['details']\n",
        "        for d in det:\n",
        "            for combos in d:\n",
        "                data.append(combos)\n",
        "\n",
        "data = list(set(data))\n",
        "            \n",
        "print(len(data))"
      ],
      "execution_count": null,
      "outputs": [
        {
          "output_type": "stream",
          "text": [
            "36226\n"
          ],
          "name": "stdout"
        }
      ]
    },
    {
      "cell_type": "code",
      "metadata": {
        "id": "gHN2XqzejPn0",
        "colab_type": "code",
        "colab": {}
      },
      "source": [
        "columns=['main','main_pos','dep','dep_pos','main_sent','dep_tag','prev','next','entity','id']\n",
        "df_entity=pd.DataFrame(data)\n",
        "df_entity.columns=columns"
      ],
      "execution_count": null,
      "outputs": []
    },
    {
      "cell_type": "code",
      "metadata": {
        "id": "q1DFib-vjTxf",
        "colab_type": "code",
        "colab": {
          "base_uri": "https://localhost:8080/",
          "height": 34
        },
        "outputId": "5f6a025e-69b5-463e-a35f-d65387b4a913"
      },
      "source": [
        "len(df_entity)"
      ],
      "execution_count": null,
      "outputs": [
        {
          "output_type": "execute_result",
          "data": {
            "text/plain": [
              "36226"
            ]
          },
          "metadata": {
            "tags": []
          },
          "execution_count": 52
        }
      ]
    },
    {
      "cell_type": "code",
      "metadata": {
        "id": "_tSdQUp6jVUy",
        "colab_type": "code",
        "colab": {
          "base_uri": "https://localhost:8080/",
          "height": 647
        },
        "outputId": "5c3c38fa-aef7-450f-b7d6-1c82bd919297"
      },
      "source": [
        "df_entity.sample(20)"
      ],
      "execution_count": null,
      "outputs": [
        {
          "output_type": "execute_result",
          "data": {
            "text/html": [
              "<div>\n",
              "<style scoped>\n",
              "    .dataframe tbody tr th:only-of-type {\n",
              "        vertical-align: middle;\n",
              "    }\n",
              "\n",
              "    .dataframe tbody tr th {\n",
              "        vertical-align: top;\n",
              "    }\n",
              "\n",
              "    .dataframe thead th {\n",
              "        text-align: right;\n",
              "    }\n",
              "</style>\n",
              "<table border=\"1\" class=\"dataframe\">\n",
              "  <thead>\n",
              "    <tr style=\"text-align: right;\">\n",
              "      <th></th>\n",
              "      <th>main</th>\n",
              "      <th>main_pos</th>\n",
              "      <th>dep</th>\n",
              "      <th>dep_pos</th>\n",
              "      <th>main_sent</th>\n",
              "      <th>dep_tag</th>\n",
              "      <th>prev</th>\n",
              "      <th>next</th>\n",
              "      <th>entity</th>\n",
              "      <th>id</th>\n",
              "    </tr>\n",
              "  </thead>\n",
              "  <tbody>\n",
              "    <tr>\n",
              "      <th>20691</th>\n",
              "      <td>onboard</td>\n",
              "      <td>RB</td>\n",
              "      <td>0</td>\n",
              "      <td>entertainment</td>\n",
              "      <td>NN</td>\n",
              "      <td>personal</td>\n",
              "      <td>and</td>\n",
              "      <td>e</td>\n",
              "      <td>None</td>\n",
              "      <td>NaN</td>\n",
              "    </tr>\n",
              "    <tr>\n",
              "      <th>8237</th>\n",
              "      <td>allowance</td>\n",
              "      <td>NN</td>\n",
              "      <td>change</td>\n",
              "      <td>VB</td>\n",
              "      <td>0</td>\n",
              "      <td>obj</td>\n",
              "      <td>baggage</td>\n",
              "      <td>but</td>\n",
              "      <td>b</td>\n",
              "      <td>3164.0</td>\n",
              "    </tr>\n",
              "    <tr>\n",
              "      <th>23695</th>\n",
              "      <td>attendant</td>\n",
              "      <td>NN</td>\n",
              "      <td>avail</td>\n",
              "      <td>NN</td>\n",
              "      <td>0</td>\n",
              "      <td>dep</td>\n",
              "      <td>some</td>\n",
              "      <td>who</td>\n",
              "      <td>st</td>\n",
              "      <td>3720.0</td>\n",
              "    </tr>\n",
              "    <tr>\n",
              "      <th>3315</th>\n",
              "      <td>great</td>\n",
              "      <td>JJ</td>\n",
              "      <td>improvement</td>\n",
              "      <td>NN</td>\n",
              "      <td>0.62</td>\n",
              "      <td>amod</td>\n",
              "      <td>a</td>\n",
              "      <td>improvement</td>\n",
              "      <td>i</td>\n",
              "      <td>3475.0</td>\n",
              "    </tr>\n",
              "    <tr>\n",
              "      <th>5675</th>\n",
              "      <td>luggage</td>\n",
              "      <td>NN</td>\n",
              "      <td>front</td>\n",
              "      <td>NN</td>\n",
              "      <td>0</td>\n",
              "      <td>conj:nor</td>\n",
              "      <td>checkin</td>\n",
              "      <td>for</td>\n",
              "      <td>p</td>\n",
              "      <td>846.0</td>\n",
              "    </tr>\n",
              "    <tr>\n",
              "      <th>21009</th>\n",
              "      <td>cramped</td>\n",
              "      <td>JJ</td>\n",
              "      <td>felt</td>\n",
              "      <td>VBD</td>\n",
              "      <td>0</td>\n",
              "      <td>xcomp</td>\n",
              "      <td>felt</td>\n",
              "      <td>in</td>\n",
              "      <td>s</td>\n",
              "      <td>3536.0</td>\n",
              "    </tr>\n",
              "    <tr>\n",
              "      <th>28043</th>\n",
              "      <td>pyjamas</td>\n",
              "      <td>NNS</td>\n",
              "      <td>0</td>\n",
              "      <td>amenity</td>\n",
              "      <td>NN</td>\n",
              "      <td>blanket</td>\n",
              "      <td>and</td>\n",
              "      <td>i</td>\n",
              "      <td>None</td>\n",
              "      <td>NaN</td>\n",
              "    </tr>\n",
              "    <tr>\n",
              "      <th>19131</th>\n",
              "      <td>receive</td>\n",
              "      <td>VB</td>\n",
              "      <td>0</td>\n",
              "      <td>not</td>\n",
              "      <td>RB</td>\n",
              "      <td>not</td>\n",
              "      <td>any</td>\n",
              "      <td>b</td>\n",
              "      <td>None</td>\n",
              "      <td>NaN</td>\n",
              "    </tr>\n",
              "    <tr>\n",
              "      <th>20153</th>\n",
              "      <td>expected</td>\n",
              "      <td>VBN</td>\n",
              "      <td>0</td>\n",
              "      <td>nice</td>\n",
              "      <td>JJ</td>\n",
              "      <td>above</td>\n",
              "      <td>seemed</td>\n",
              "      <td>st</td>\n",
              "      <td>None</td>\n",
              "      <td>NaN</td>\n",
              "    </tr>\n",
              "    <tr>\n",
              "      <th>29394</th>\n",
              "      <td>time</td>\n",
              "      <td>NN</td>\n",
              "      <td>playing</td>\n",
              "      <td>VBG</td>\n",
              "      <td>0</td>\n",
              "      <td>obl:at</td>\n",
              "      <td>the</td>\n",
              "      <td>of</td>\n",
              "      <td>o</td>\n",
              "      <td>10.0</td>\n",
              "    </tr>\n",
              "    <tr>\n",
              "      <th>4112</th>\n",
              "      <td>inflight</td>\n",
              "      <td>NN</td>\n",
              "      <td>experience</td>\n",
              "      <td>NN</td>\n",
              "      <td>0</td>\n",
              "      <td>compound</td>\n",
              "      <td>the</td>\n",
              "      <td>experience</td>\n",
              "      <td>i</td>\n",
              "      <td>2986.0</td>\n",
              "    </tr>\n",
              "    <tr>\n",
              "      <th>30500</th>\n",
              "      <td>always</td>\n",
              "      <td>RB</td>\n",
              "      <td>offers</td>\n",
              "      <td>NNS</td>\n",
              "      <td>0</td>\n",
              "      <td>advmod</td>\n",
              "      <td>was</td>\n",
              "      <td>offers</td>\n",
              "      <td>f</td>\n",
              "      <td>1628.0</td>\n",
              "    </tr>\n",
              "    <tr>\n",
              "      <th>3963</th>\n",
              "      <td>good</td>\n",
              "      <td>JJ</td>\n",
              "      <td>selection</td>\n",
              "      <td>NN</td>\n",
              "      <td>0.44</td>\n",
              "      <td>amod</td>\n",
              "      <td>was</td>\n",
              "      <td>entertainment</td>\n",
              "      <td>f</td>\n",
              "      <td>2349.0</td>\n",
              "    </tr>\n",
              "    <tr>\n",
              "      <th>21086</th>\n",
              "      <td>seated</td>\n",
              "      <td>VBN</td>\n",
              "      <td>0</td>\n",
              "      <td>were</td>\n",
              "      <td>VBD</td>\n",
              "      <td>were</td>\n",
              "      <td>in</td>\n",
              "      <td>st</td>\n",
              "      <td>None</td>\n",
              "      <td>NaN</td>\n",
              "    </tr>\n",
              "    <tr>\n",
              "      <th>13612</th>\n",
              "      <td>delayed</td>\n",
              "      <td>VBN</td>\n",
              "      <td>came</td>\n",
              "      <td>VBD</td>\n",
              "      <td>-0.23</td>\n",
              "      <td>conj:and</td>\n",
              "      <td>was</td>\n",
              "      <td>the</td>\n",
              "      <td>p</td>\n",
              "      <td>2956.0</td>\n",
              "    </tr>\n",
              "    <tr>\n",
              "      <th>13254</th>\n",
              "      <td>provided</td>\n",
              "      <td>VBN</td>\n",
              "      <td>0</td>\n",
              "      <td>was</td>\n",
              "      <td>VBD</td>\n",
              "      <td>were</td>\n",
              "      <td>which</td>\n",
              "      <td>o</td>\n",
              "      <td>None</td>\n",
              "      <td>NaN</td>\n",
              "    </tr>\n",
              "    <tr>\n",
              "      <th>29959</th>\n",
              "      <td>unable</td>\n",
              "      <td>JJ</td>\n",
              "      <td>0</td>\n",
              "      <td>open</td>\n",
              "      <td>VB</td>\n",
              "      <td>seat</td>\n",
              "      <td>to</td>\n",
              "      <td>c</td>\n",
              "      <td>None</td>\n",
              "      <td>NaN</td>\n",
              "    </tr>\n",
              "    <tr>\n",
              "      <th>24326</th>\n",
              "      <td>attendants</td>\n",
              "      <td>NNS</td>\n",
              "      <td>flight</td>\n",
              "      <td>NN</td>\n",
              "      <td>0</td>\n",
              "      <td>nmod:with</td>\n",
              "      <td>great</td>\n",
              "      <td>i</td>\n",
              "      <td>st</td>\n",
              "      <td>3404.0</td>\n",
              "    </tr>\n",
              "    <tr>\n",
              "      <th>8410</th>\n",
              "      <td>vegan</td>\n",
              "      <td>JJ</td>\n",
              "      <td>0</td>\n",
              "      <td>curry</td>\n",
              "      <td>NN</td>\n",
              "      <td>of</td>\n",
              "      <td>food</td>\n",
              "      <td>f</td>\n",
              "      <td>None</td>\n",
              "      <td>NaN</td>\n",
              "    </tr>\n",
              "    <tr>\n",
              "      <th>1905</th>\n",
              "      <td>deliver</td>\n",
              "      <td>VB</td>\n",
              "      <td>promised</td>\n",
              "      <td>VBD</td>\n",
              "      <td>0</td>\n",
              "      <td>xcomp</td>\n",
              "      <td>to</td>\n",
              "      <td>it</td>\n",
              "      <td>p</td>\n",
              "      <td>3514.0</td>\n",
              "    </tr>\n",
              "  </tbody>\n",
              "</table>\n",
              "</div>"
            ],
            "text/plain": [
              "             main main_pos          dep  ...           next entity      id\n",
              "20691     onboard       RB            0  ...              e   None     NaN\n",
              "8237    allowance       NN       change  ...            but      b  3164.0\n",
              "23695   attendant       NN        avail  ...            who     st  3720.0\n",
              "3315        great       JJ  improvement  ...    improvement      i  3475.0\n",
              "5675      luggage       NN        front  ...            for      p   846.0\n",
              "21009     cramped       JJ         felt  ...             in      s  3536.0\n",
              "28043     pyjamas      NNS            0  ...              i   None     NaN\n",
              "19131     receive       VB            0  ...              b   None     NaN\n",
              "20153    expected      VBN            0  ...             st   None     NaN\n",
              "29394        time       NN      playing  ...             of      o    10.0\n",
              "4112     inflight       NN   experience  ...     experience      i  2986.0\n",
              "30500      always       RB       offers  ...         offers      f  1628.0\n",
              "3963         good       JJ    selection  ...  entertainment      f  2349.0\n",
              "21086      seated      VBN            0  ...             st   None     NaN\n",
              "13612     delayed      VBN         came  ...            the      p  2956.0\n",
              "13254    provided      VBN            0  ...              o   None     NaN\n",
              "29959      unable       JJ            0  ...              c   None     NaN\n",
              "24326  attendants      NNS       flight  ...              i     st  3404.0\n",
              "8410        vegan       JJ            0  ...              f   None     NaN\n",
              "1905      deliver       VB     promised  ...             it      p  3514.0\n",
              "\n",
              "[20 rows x 10 columns]"
            ]
          },
          "metadata": {
            "tags": []
          },
          "execution_count": 53
        }
      ]
    },
    {
      "cell_type": "code",
      "metadata": {
        "id": "EqgKidKojgel",
        "colab_type": "code",
        "colab": {
          "base_uri": "https://localhost:8080/",
          "height": 34
        },
        "outputId": "f7f13ffc-becc-4b84-ca0b-ec973f1f06f4"
      },
      "source": [
        "len(df_aspect), len(df_entity)"
      ],
      "execution_count": null,
      "outputs": [
        {
          "output_type": "execute_result",
          "data": {
            "text/plain": [
              "(481, 36226)"
            ]
          },
          "metadata": {
            "tags": []
          },
          "execution_count": 54
        }
      ]
    },
    {
      "cell_type": "code",
      "metadata": {
        "id": "rfXcJZS7niTI",
        "colab_type": "code",
        "colab": {}
      },
      "source": [
        "df_data=pd.merge(df_entity, df_aspect, how='inner', left_on=['id','main'], right_on=['id','word'],\n",
        "         left_index=False, right_index=False, sort=True)"
      ],
      "execution_count": null,
      "outputs": []
    },
    {
      "cell_type": "code",
      "metadata": {
        "id": "BrztbCKTnlhN",
        "colab_type": "code",
        "colab": {
          "base_uri": "https://localhost:8080/",
          "height": 347
        },
        "outputId": "efedb807-e479-49f9-bf11-4138e400a82f"
      },
      "source": [
        "df_data.sample(10)"
      ],
      "execution_count": null,
      "outputs": [
        {
          "output_type": "execute_result",
          "data": {
            "text/html": [
              "<div>\n",
              "<style scoped>\n",
              "    .dataframe tbody tr th:only-of-type {\n",
              "        vertical-align: middle;\n",
              "    }\n",
              "\n",
              "    .dataframe tbody tr th {\n",
              "        vertical-align: top;\n",
              "    }\n",
              "\n",
              "    .dataframe thead th {\n",
              "        text-align: right;\n",
              "    }\n",
              "</style>\n",
              "<table border=\"1\" class=\"dataframe\">\n",
              "  <thead>\n",
              "    <tr style=\"text-align: right;\">\n",
              "      <th></th>\n",
              "      <th>main</th>\n",
              "      <th>main_pos</th>\n",
              "      <th>dep</th>\n",
              "      <th>dep_pos</th>\n",
              "      <th>main_sent</th>\n",
              "      <th>dep_tag</th>\n",
              "      <th>prev</th>\n",
              "      <th>next</th>\n",
              "      <th>entity</th>\n",
              "      <th>id</th>\n",
              "      <th>word</th>\n",
              "      <th>Aspect</th>\n",
              "      <th>id_updated</th>\n",
              "    </tr>\n",
              "  </thead>\n",
              "  <tbody>\n",
              "    <tr>\n",
              "      <th>180</th>\n",
              "      <td>comfortable</td>\n",
              "      <td>JJ</td>\n",
              "      <td>nice</td>\n",
              "      <td>JJ</td>\n",
              "      <td>0.51</td>\n",
              "      <td>conj:and</td>\n",
              "      <td>and</td>\n",
              "      <td>even</td>\n",
              "      <td>c</td>\n",
              "      <td>3475.0</td>\n",
              "      <td>comfortable</td>\n",
              "      <td>cabin_condition</td>\n",
              "      <td>3475.0</td>\n",
              "    </tr>\n",
              "    <tr>\n",
              "      <th>124</th>\n",
              "      <td>bad</td>\n",
              "      <td>JJ</td>\n",
              "      <td>system</td>\n",
              "      <td>NN</td>\n",
              "      <td>-0.54</td>\n",
              "      <td>amod</td>\n",
              "      <td>very</td>\n",
              "      <td>food</td>\n",
              "      <td>c</td>\n",
              "      <td>3389.0</td>\n",
              "      <td>bad</td>\n",
              "      <td>cabin_size</td>\n",
              "      <td>3389.0</td>\n",
              "    </tr>\n",
              "    <tr>\n",
              "      <th>239</th>\n",
              "      <td>new</td>\n",
              "      <td>JJ</td>\n",
              "      <td>aircraft</td>\n",
              "      <td>NN</td>\n",
              "      <td>0</td>\n",
              "      <td>amod</td>\n",
              "      <td>boarding</td>\n",
              "      <td>comfortable</td>\n",
              "      <td>c</td>\n",
              "      <td>3531.0</td>\n",
              "      <td>new</td>\n",
              "      <td>cabin_condition</td>\n",
              "      <td>3531.0</td>\n",
              "    </tr>\n",
              "    <tr>\n",
              "      <th>236</th>\n",
              "      <td>clean</td>\n",
              "      <td>JJ</td>\n",
              "      <td>airport</td>\n",
              "      <td>NN</td>\n",
              "      <td>0.4</td>\n",
              "      <td>amod</td>\n",
              "      <td>huge</td>\n",
              "      <td>with</td>\n",
              "      <td>c</td>\n",
              "      <td>3521.0</td>\n",
              "      <td>clean</td>\n",
              "      <td>cabin_condition</td>\n",
              "      <td>3521.0</td>\n",
              "    </tr>\n",
              "    <tr>\n",
              "      <th>70</th>\n",
              "      <td>cabin</td>\n",
              "      <td>NN</td>\n",
              "      <td>crews</td>\n",
              "      <td>NNS</td>\n",
              "      <td>0</td>\n",
              "      <td>compound</td>\n",
              "      <td>by</td>\n",
              "      <td>crews</td>\n",
              "      <td>c</td>\n",
              "      <td>3200.0</td>\n",
              "      <td>cabin</td>\n",
              "      <td>cabin_condition</td>\n",
              "      <td>3200.0</td>\n",
              "    </tr>\n",
              "    <tr>\n",
              "      <th>72</th>\n",
              "      <td>toilets</td>\n",
              "      <td>NNS</td>\n",
              "      <td>check</td>\n",
              "      <td>NN</td>\n",
              "      <td>0</td>\n",
              "      <td>nmod:in</td>\n",
              "      <td>cabin</td>\n",
              "      <td>is</td>\n",
              "      <td>c</td>\n",
              "      <td>3200.0</td>\n",
              "      <td>toilets</td>\n",
              "      <td>cabin_condition</td>\n",
              "      <td>3200.0</td>\n",
              "    </tr>\n",
              "    <tr>\n",
              "      <th>88</th>\n",
              "      <td>comfortable</td>\n",
              "      <td>JJ</td>\n",
              "      <td>flight</td>\n",
              "      <td>NN</td>\n",
              "      <td>0.51</td>\n",
              "      <td>conj:and</td>\n",
              "      <td>very</td>\n",
              "      <td>i</td>\n",
              "      <td>s</td>\n",
              "      <td>3334.0</td>\n",
              "      <td>comfortable</td>\n",
              "      <td>cabin_condition</td>\n",
              "      <td>3334.0</td>\n",
              "    </tr>\n",
              "    <tr>\n",
              "      <th>262</th>\n",
              "      <td>not</td>\n",
              "      <td>RB</td>\n",
              "      <td>working</td>\n",
              "      <td>VBG</td>\n",
              "      <td>0</td>\n",
              "      <td>advmod</td>\n",
              "      <td>were</td>\n",
              "      <td>working</td>\n",
              "      <td>i</td>\n",
              "      <td>3553.0</td>\n",
              "      <td>not</td>\n",
              "      <td>cabin_condition</td>\n",
              "      <td>3553.0</td>\n",
              "    </tr>\n",
              "    <tr>\n",
              "      <th>74</th>\n",
              "      <td>renting</td>\n",
              "      <td>VBG</td>\n",
              "      <td>screen</td>\n",
              "      <td>NN</td>\n",
              "      <td>0</td>\n",
              "      <td>acl</td>\n",
              "      <td>screen</td>\n",
              "      <td>a</td>\n",
              "      <td>c</td>\n",
              "      <td>3257.0</td>\n",
              "      <td>renting</td>\n",
              "      <td>cabin_condition</td>\n",
              "      <td>3257.0</td>\n",
              "    </tr>\n",
              "    <tr>\n",
              "      <th>285</th>\n",
              "      <td>full</td>\n",
              "      <td>JJ</td>\n",
              "      <td>rating</td>\n",
              "      <td>NN</td>\n",
              "      <td>0</td>\n",
              "      <td>amod</td>\n",
              "      <td>completely</td>\n",
              "      <td>the</td>\n",
              "      <td>c</td>\n",
              "      <td>3566.0</td>\n",
              "      <td>full</td>\n",
              "      <td>cabin_condition</td>\n",
              "      <td>3566.0</td>\n",
              "    </tr>\n",
              "  </tbody>\n",
              "</table>\n",
              "</div>"
            ],
            "text/plain": [
              "            main main_pos       dep  ...         word           Aspect id_updated\n",
              "180  comfortable       JJ      nice  ...  comfortable  cabin_condition     3475.0\n",
              "124          bad       JJ    system  ...          bad       cabin_size     3389.0\n",
              "239          new       JJ  aircraft  ...          new  cabin_condition     3531.0\n",
              "236        clean       JJ   airport  ...        clean  cabin_condition     3521.0\n",
              "70         cabin       NN     crews  ...        cabin  cabin_condition     3200.0\n",
              "72       toilets      NNS     check  ...      toilets  cabin_condition     3200.0\n",
              "88   comfortable       JJ    flight  ...  comfortable  cabin_condition     3334.0\n",
              "262          not       RB   working  ...          not  cabin_condition     3553.0\n",
              "74       renting      VBG    screen  ...      renting  cabin_condition     3257.0\n",
              "285         full       JJ    rating  ...         full  cabin_condition     3566.0\n",
              "\n",
              "[10 rows x 13 columns]"
            ]
          },
          "metadata": {
            "tags": []
          },
          "execution_count": 56
        }
      ]
    },
    {
      "cell_type": "code",
      "metadata": {
        "id": "DIKu8DcjnnaI",
        "colab_type": "code",
        "colab": {
          "base_uri": "https://localhost:8080/",
          "height": 34
        },
        "outputId": "3f88aa47-3d6a-47d0-d626-781181b82a52"
      },
      "source": [
        "details[0]"
      ],
      "execution_count": null,
      "outputs": [
        {
          "output_type": "execute_result",
          "data": {
            "text/plain": [
              "{'details': [], 'id': 2945, 'sentences': ['aerlingus']}"
            ]
          },
          "metadata": {
            "tags": []
          },
          "execution_count": 57
        }
      ]
    },
    {
      "cell_type": "code",
      "metadata": {
        "id": "MH1bKijqoL7C",
        "colab_type": "code",
        "colab": {}
      },
      "source": [
        "alltxt = []\n",
        "for i in range(len(details)):\n",
        "  for j in range(len(details[i]['sentences'])):\n",
        "    alltxt.append(details[i]['sentences'][j])"
      ],
      "execution_count": null,
      "outputs": []
    },
    {
      "cell_type": "code",
      "metadata": {
        "id": "cYuHh1wnofnT",
        "colab_type": "code",
        "colab": {
          "base_uri": "https://localhost:8080/",
          "height": 34
        },
        "outputId": "e178a6ad-a305-49c0-b161-55e369183be6"
      },
      "source": [
        "len(alltxt)"
      ],
      "execution_count": null,
      "outputs": [
        {
          "output_type": "execute_result",
          "data": {
            "text/plain": [
              "9331"
            ]
          },
          "metadata": {
            "tags": []
          },
          "execution_count": 59
        }
      ]
    },
    {
      "cell_type": "code",
      "metadata": {
        "id": "G5wZ_n6iogqs",
        "colab_type": "code",
        "colab": {}
      },
      "source": [
        "tokenizer = Tokenizer(num_words = 5000)\n",
        "tokenizer.fit_on_texts(alltxt)"
      ],
      "execution_count": null,
      "outputs": []
    },
    {
      "cell_type": "code",
      "metadata": {
        "id": "FjH3fyb1on53",
        "colab_type": "code",
        "colab": {}
      },
      "source": [
        "#main dep prev next\n",
        "# Text to sequence\n",
        "\n",
        "df_data['main_s']=df_data['main'].apply( lambda x: tokenizer.texts_to_sequences([x])).apply(lambda x: (x[0])[-1] if x!=[[]] else 0 )\n",
        "df_data['dep_s']=df_data['dep'].apply( lambda x: tokenizer.texts_to_sequences([x])).apply(lambda x: (x[0])[-1] if x!=[[]] else 0 )\n",
        "df_data['prev_s']=df_data['prev'].apply( lambda x: tokenizer.texts_to_sequences([x])).apply(lambda x: (x[0])[-1] if x!=[[]] else 0 )\n",
        "df_data['next_s']=df_data['next'].apply( lambda x: tokenizer.texts_to_sequences([x])).apply(lambda x: (x[0])[-1] if x!=[[]] else 0 )"
      ],
      "execution_count": null,
      "outputs": []
    },
    {
      "cell_type": "code",
      "metadata": {
        "id": "kjPqvtrhouqP",
        "colab_type": "code",
        "colab": {}
      },
      "source": [
        "#main_pos  dep_pos dep_tag\n",
        "#One hot encoding \n",
        "\n",
        "df_main_pos=pd.get_dummies(df_data['main_pos'],prefix='main_pos')\n",
        "df_dep_pos=pd.get_dummies(df_data['dep_pos'],prefix='dep_pos')\n",
        "df_dep_tag=pd.get_dummies(df_data['dep_tag'],prefix='dep_tag')\n",
        "\n",
        "df_data2=pd.concat([df_data,df_main_pos,df_dep_pos,df_dep_tag], axis=1)"
      ],
      "execution_count": null,
      "outputs": []
    },
    {
      "cell_type": "code",
      "metadata": {
        "id": "QO5WcSmgoyrf",
        "colab_type": "code",
        "colab": {
          "base_uri": "https://localhost:8080/",
          "height": 246
        },
        "outputId": "a526d55a-18e6-4917-d9fd-51343abfa8d7"
      },
      "source": [
        "df_data2.head()"
      ],
      "execution_count": null,
      "outputs": [
        {
          "output_type": "execute_result",
          "data": {
            "text/html": [
              "<div>\n",
              "<style scoped>\n",
              "    .dataframe tbody tr th:only-of-type {\n",
              "        vertical-align: middle;\n",
              "    }\n",
              "\n",
              "    .dataframe tbody tr th {\n",
              "        vertical-align: top;\n",
              "    }\n",
              "\n",
              "    .dataframe thead th {\n",
              "        text-align: right;\n",
              "    }\n",
              "</style>\n",
              "<table border=\"1\" class=\"dataframe\">\n",
              "  <thead>\n",
              "    <tr style=\"text-align: right;\">\n",
              "      <th></th>\n",
              "      <th>main</th>\n",
              "      <th>main_pos</th>\n",
              "      <th>dep</th>\n",
              "      <th>dep_pos</th>\n",
              "      <th>main_sent</th>\n",
              "      <th>dep_tag</th>\n",
              "      <th>prev</th>\n",
              "      <th>next</th>\n",
              "      <th>entity</th>\n",
              "      <th>id</th>\n",
              "      <th>word</th>\n",
              "      <th>Aspect</th>\n",
              "      <th>id_updated</th>\n",
              "      <th>main_s</th>\n",
              "      <th>dep_s</th>\n",
              "      <th>prev_s</th>\n",
              "      <th>next_s</th>\n",
              "      <th>main_pos_AFX</th>\n",
              "      <th>main_pos_IN</th>\n",
              "      <th>main_pos_JJ</th>\n",
              "      <th>main_pos_JJR</th>\n",
              "      <th>main_pos_JJS</th>\n",
              "      <th>main_pos_NN</th>\n",
              "      <th>main_pos_NNS</th>\n",
              "      <th>main_pos_RB</th>\n",
              "      <th>main_pos_VB</th>\n",
              "      <th>main_pos_VBD</th>\n",
              "      <th>main_pos_VBG</th>\n",
              "      <th>main_pos_VBN</th>\n",
              "      <th>main_pos_VBZ</th>\n",
              "      <th>dep_pos_CD</th>\n",
              "      <th>dep_pos_IN</th>\n",
              "      <th>dep_pos_JJ</th>\n",
              "      <th>dep_pos_JJR</th>\n",
              "      <th>dep_pos_JJS</th>\n",
              "      <th>dep_pos_MD</th>\n",
              "      <th>dep_pos_NN</th>\n",
              "      <th>dep_pos_NNP</th>\n",
              "      <th>dep_pos_NNS</th>\n",
              "      <th>dep_pos_PRP</th>\n",
              "      <th>...</th>\n",
              "      <th>dep_tag_acl:to</th>\n",
              "      <th>dep_tag_advcl</th>\n",
              "      <th>dep_tag_advcl:like</th>\n",
              "      <th>dep_tag_advcl:though</th>\n",
              "      <th>dep_tag_advmod</th>\n",
              "      <th>dep_tag_amod</th>\n",
              "      <th>dep_tag_case</th>\n",
              "      <th>dep_tag_ccomp</th>\n",
              "      <th>dep_tag_compound</th>\n",
              "      <th>dep_tag_conj</th>\n",
              "      <th>dep_tag_conj:and</th>\n",
              "      <th>dep_tag_conj:but</th>\n",
              "      <th>dep_tag_conj:plus</th>\n",
              "      <th>dep_tag_csubj</th>\n",
              "      <th>dep_tag_csubj:pass</th>\n",
              "      <th>dep_tag_dep</th>\n",
              "      <th>dep_tag_nmod:between</th>\n",
              "      <th>dep_tag_nmod:for</th>\n",
              "      <th>dep_tag_nmod:from</th>\n",
              "      <th>dep_tag_nmod:in</th>\n",
              "      <th>dep_tag_nmod:of</th>\n",
              "      <th>dep_tag_nmod:on</th>\n",
              "      <th>dep_tag_nmod:with</th>\n",
              "      <th>dep_tag_nsubj</th>\n",
              "      <th>dep_tag_nsubj:pass</th>\n",
              "      <th>dep_tag_nsubj:xsubj</th>\n",
              "      <th>dep_tag_obj</th>\n",
              "      <th>dep_tag_obl:at</th>\n",
              "      <th>dep_tag_obl:for</th>\n",
              "      <th>dep_tag_obl:in</th>\n",
              "      <th>dep_tag_obl:into</th>\n",
              "      <th>dep_tag_obl:like</th>\n",
              "      <th>dep_tag_obl:npmod</th>\n",
              "      <th>dep_tag_obl:of</th>\n",
              "      <th>dep_tag_obl:on</th>\n",
              "      <th>dep_tag_obl:through</th>\n",
              "      <th>dep_tag_obl:to</th>\n",
              "      <th>dep_tag_obl:with</th>\n",
              "      <th>dep_tag_parataxis</th>\n",
              "      <th>dep_tag_xcomp</th>\n",
              "    </tr>\n",
              "  </thead>\n",
              "  <tbody>\n",
              "    <tr>\n",
              "      <th>0</th>\n",
              "      <td>cabin</td>\n",
              "      <td>NN</td>\n",
              "      <td>everyone</td>\n",
              "      <td>NN</td>\n",
              "      <td>0</td>\n",
              "      <td>compound</td>\n",
              "      <td>dirty</td>\n",
              "      <td>and</td>\n",
              "      <td>st</td>\n",
              "      <td>2970.0</td>\n",
              "      <td>cabin</td>\n",
              "      <td>cabin_condition</td>\n",
              "      <td>2970.0</td>\n",
              "      <td>76</td>\n",
              "      <td>494</td>\n",
              "      <td>1165</td>\n",
              "      <td>3</td>\n",
              "      <td>0</td>\n",
              "      <td>0</td>\n",
              "      <td>0</td>\n",
              "      <td>0</td>\n",
              "      <td>0</td>\n",
              "      <td>1</td>\n",
              "      <td>0</td>\n",
              "      <td>0</td>\n",
              "      <td>0</td>\n",
              "      <td>0</td>\n",
              "      <td>0</td>\n",
              "      <td>0</td>\n",
              "      <td>0</td>\n",
              "      <td>0</td>\n",
              "      <td>0</td>\n",
              "      <td>0</td>\n",
              "      <td>0</td>\n",
              "      <td>0</td>\n",
              "      <td>0</td>\n",
              "      <td>1</td>\n",
              "      <td>0</td>\n",
              "      <td>0</td>\n",
              "      <td>0</td>\n",
              "      <td>...</td>\n",
              "      <td>0</td>\n",
              "      <td>0</td>\n",
              "      <td>0</td>\n",
              "      <td>0</td>\n",
              "      <td>0</td>\n",
              "      <td>0</td>\n",
              "      <td>0</td>\n",
              "      <td>0</td>\n",
              "      <td>1</td>\n",
              "      <td>0</td>\n",
              "      <td>0</td>\n",
              "      <td>0</td>\n",
              "      <td>0</td>\n",
              "      <td>0</td>\n",
              "      <td>0</td>\n",
              "      <td>0</td>\n",
              "      <td>0</td>\n",
              "      <td>0</td>\n",
              "      <td>0</td>\n",
              "      <td>0</td>\n",
              "      <td>0</td>\n",
              "      <td>0</td>\n",
              "      <td>0</td>\n",
              "      <td>0</td>\n",
              "      <td>0</td>\n",
              "      <td>0</td>\n",
              "      <td>0</td>\n",
              "      <td>0</td>\n",
              "      <td>0</td>\n",
              "      <td>0</td>\n",
              "      <td>0</td>\n",
              "      <td>0</td>\n",
              "      <td>0</td>\n",
              "      <td>0</td>\n",
              "      <td>0</td>\n",
              "      <td>0</td>\n",
              "      <td>0</td>\n",
              "      <td>0</td>\n",
              "      <td>0</td>\n",
              "      <td>0</td>\n",
              "    </tr>\n",
              "    <tr>\n",
              "      <th>1</th>\n",
              "      <td>cabin</td>\n",
              "      <td>NN</td>\n",
              "      <td>everyone</td>\n",
              "      <td>NN</td>\n",
              "      <td>0</td>\n",
              "      <td>compound</td>\n",
              "      <td>unfriendly</td>\n",
              "      <td>crew</td>\n",
              "      <td>c</td>\n",
              "      <td>2970.0</td>\n",
              "      <td>cabin</td>\n",
              "      <td>cabin_condition</td>\n",
              "      <td>2970.0</td>\n",
              "      <td>76</td>\n",
              "      <td>494</td>\n",
              "      <td>1650</td>\n",
              "      <td>65</td>\n",
              "      <td>0</td>\n",
              "      <td>0</td>\n",
              "      <td>0</td>\n",
              "      <td>0</td>\n",
              "      <td>0</td>\n",
              "      <td>1</td>\n",
              "      <td>0</td>\n",
              "      <td>0</td>\n",
              "      <td>0</td>\n",
              "      <td>0</td>\n",
              "      <td>0</td>\n",
              "      <td>0</td>\n",
              "      <td>0</td>\n",
              "      <td>0</td>\n",
              "      <td>0</td>\n",
              "      <td>0</td>\n",
              "      <td>0</td>\n",
              "      <td>0</td>\n",
              "      <td>0</td>\n",
              "      <td>1</td>\n",
              "      <td>0</td>\n",
              "      <td>0</td>\n",
              "      <td>0</td>\n",
              "      <td>...</td>\n",
              "      <td>0</td>\n",
              "      <td>0</td>\n",
              "      <td>0</td>\n",
              "      <td>0</td>\n",
              "      <td>0</td>\n",
              "      <td>0</td>\n",
              "      <td>0</td>\n",
              "      <td>0</td>\n",
              "      <td>1</td>\n",
              "      <td>0</td>\n",
              "      <td>0</td>\n",
              "      <td>0</td>\n",
              "      <td>0</td>\n",
              "      <td>0</td>\n",
              "      <td>0</td>\n",
              "      <td>0</td>\n",
              "      <td>0</td>\n",
              "      <td>0</td>\n",
              "      <td>0</td>\n",
              "      <td>0</td>\n",
              "      <td>0</td>\n",
              "      <td>0</td>\n",
              "      <td>0</td>\n",
              "      <td>0</td>\n",
              "      <td>0</td>\n",
              "      <td>0</td>\n",
              "      <td>0</td>\n",
              "      <td>0</td>\n",
              "      <td>0</td>\n",
              "      <td>0</td>\n",
              "      <td>0</td>\n",
              "      <td>0</td>\n",
              "      <td>0</td>\n",
              "      <td>0</td>\n",
              "      <td>0</td>\n",
              "      <td>0</td>\n",
              "      <td>0</td>\n",
              "      <td>0</td>\n",
              "      <td>0</td>\n",
              "      <td>0</td>\n",
              "    </tr>\n",
              "    <tr>\n",
              "      <th>2</th>\n",
              "      <td>cabin</td>\n",
              "      <td>NN</td>\n",
              "      <td>point</td>\n",
              "      <td>VBP</td>\n",
              "      <td>0</td>\n",
              "      <td>dep</td>\n",
              "      <td>dirty</td>\n",
              "      <td>and</td>\n",
              "      <td>st</td>\n",
              "      <td>2970.0</td>\n",
              "      <td>cabin</td>\n",
              "      <td>cabin_condition</td>\n",
              "      <td>2970.0</td>\n",
              "      <td>76</td>\n",
              "      <td>48</td>\n",
              "      <td>1165</td>\n",
              "      <td>3</td>\n",
              "      <td>0</td>\n",
              "      <td>0</td>\n",
              "      <td>0</td>\n",
              "      <td>0</td>\n",
              "      <td>0</td>\n",
              "      <td>1</td>\n",
              "      <td>0</td>\n",
              "      <td>0</td>\n",
              "      <td>0</td>\n",
              "      <td>0</td>\n",
              "      <td>0</td>\n",
              "      <td>0</td>\n",
              "      <td>0</td>\n",
              "      <td>0</td>\n",
              "      <td>0</td>\n",
              "      <td>0</td>\n",
              "      <td>0</td>\n",
              "      <td>0</td>\n",
              "      <td>0</td>\n",
              "      <td>0</td>\n",
              "      <td>0</td>\n",
              "      <td>0</td>\n",
              "      <td>0</td>\n",
              "      <td>...</td>\n",
              "      <td>0</td>\n",
              "      <td>0</td>\n",
              "      <td>0</td>\n",
              "      <td>0</td>\n",
              "      <td>0</td>\n",
              "      <td>0</td>\n",
              "      <td>0</td>\n",
              "      <td>0</td>\n",
              "      <td>0</td>\n",
              "      <td>0</td>\n",
              "      <td>0</td>\n",
              "      <td>0</td>\n",
              "      <td>0</td>\n",
              "      <td>0</td>\n",
              "      <td>0</td>\n",
              "      <td>1</td>\n",
              "      <td>0</td>\n",
              "      <td>0</td>\n",
              "      <td>0</td>\n",
              "      <td>0</td>\n",
              "      <td>0</td>\n",
              "      <td>0</td>\n",
              "      <td>0</td>\n",
              "      <td>0</td>\n",
              "      <td>0</td>\n",
              "      <td>0</td>\n",
              "      <td>0</td>\n",
              "      <td>0</td>\n",
              "      <td>0</td>\n",
              "      <td>0</td>\n",
              "      <td>0</td>\n",
              "      <td>0</td>\n",
              "      <td>0</td>\n",
              "      <td>0</td>\n",
              "      <td>0</td>\n",
              "      <td>0</td>\n",
              "      <td>0</td>\n",
              "      <td>0</td>\n",
              "      <td>0</td>\n",
              "      <td>0</td>\n",
              "    </tr>\n",
              "    <tr>\n",
              "      <th>3</th>\n",
              "      <td>cabin</td>\n",
              "      <td>NN</td>\n",
              "      <td>point</td>\n",
              "      <td>VBP</td>\n",
              "      <td>0</td>\n",
              "      <td>dep</td>\n",
              "      <td>cold</td>\n",
              "      <td>temperature</td>\n",
              "      <td>st</td>\n",
              "      <td>2970.0</td>\n",
              "      <td>cabin</td>\n",
              "      <td>cabin_condition</td>\n",
              "      <td>2970.0</td>\n",
              "      <td>76</td>\n",
              "      <td>48</td>\n",
              "      <td>768</td>\n",
              "      <td>1538</td>\n",
              "      <td>0</td>\n",
              "      <td>0</td>\n",
              "      <td>0</td>\n",
              "      <td>0</td>\n",
              "      <td>0</td>\n",
              "      <td>1</td>\n",
              "      <td>0</td>\n",
              "      <td>0</td>\n",
              "      <td>0</td>\n",
              "      <td>0</td>\n",
              "      <td>0</td>\n",
              "      <td>0</td>\n",
              "      <td>0</td>\n",
              "      <td>0</td>\n",
              "      <td>0</td>\n",
              "      <td>0</td>\n",
              "      <td>0</td>\n",
              "      <td>0</td>\n",
              "      <td>0</td>\n",
              "      <td>0</td>\n",
              "      <td>0</td>\n",
              "      <td>0</td>\n",
              "      <td>0</td>\n",
              "      <td>...</td>\n",
              "      <td>0</td>\n",
              "      <td>0</td>\n",
              "      <td>0</td>\n",
              "      <td>0</td>\n",
              "      <td>0</td>\n",
              "      <td>0</td>\n",
              "      <td>0</td>\n",
              "      <td>0</td>\n",
              "      <td>0</td>\n",
              "      <td>0</td>\n",
              "      <td>0</td>\n",
              "      <td>0</td>\n",
              "      <td>0</td>\n",
              "      <td>0</td>\n",
              "      <td>0</td>\n",
              "      <td>1</td>\n",
              "      <td>0</td>\n",
              "      <td>0</td>\n",
              "      <td>0</td>\n",
              "      <td>0</td>\n",
              "      <td>0</td>\n",
              "      <td>0</td>\n",
              "      <td>0</td>\n",
              "      <td>0</td>\n",
              "      <td>0</td>\n",
              "      <td>0</td>\n",
              "      <td>0</td>\n",
              "      <td>0</td>\n",
              "      <td>0</td>\n",
              "      <td>0</td>\n",
              "      <td>0</td>\n",
              "      <td>0</td>\n",
              "      <td>0</td>\n",
              "      <td>0</td>\n",
              "      <td>0</td>\n",
              "      <td>0</td>\n",
              "      <td>0</td>\n",
              "      <td>0</td>\n",
              "      <td>0</td>\n",
              "      <td>0</td>\n",
              "    </tr>\n",
              "    <tr>\n",
              "      <th>4</th>\n",
              "      <td>cabin</td>\n",
              "      <td>NN</td>\n",
              "      <td>point</td>\n",
              "      <td>NN</td>\n",
              "      <td>0</td>\n",
              "      <td>dep</td>\n",
              "      <td>unfriendly</td>\n",
              "      <td>crew</td>\n",
              "      <td>st</td>\n",
              "      <td>2970.0</td>\n",
              "      <td>cabin</td>\n",
              "      <td>cabin_condition</td>\n",
              "      <td>2970.0</td>\n",
              "      <td>76</td>\n",
              "      <td>48</td>\n",
              "      <td>1650</td>\n",
              "      <td>65</td>\n",
              "      <td>0</td>\n",
              "      <td>0</td>\n",
              "      <td>0</td>\n",
              "      <td>0</td>\n",
              "      <td>0</td>\n",
              "      <td>1</td>\n",
              "      <td>0</td>\n",
              "      <td>0</td>\n",
              "      <td>0</td>\n",
              "      <td>0</td>\n",
              "      <td>0</td>\n",
              "      <td>0</td>\n",
              "      <td>0</td>\n",
              "      <td>0</td>\n",
              "      <td>0</td>\n",
              "      <td>0</td>\n",
              "      <td>0</td>\n",
              "      <td>0</td>\n",
              "      <td>0</td>\n",
              "      <td>1</td>\n",
              "      <td>0</td>\n",
              "      <td>0</td>\n",
              "      <td>0</td>\n",
              "      <td>...</td>\n",
              "      <td>0</td>\n",
              "      <td>0</td>\n",
              "      <td>0</td>\n",
              "      <td>0</td>\n",
              "      <td>0</td>\n",
              "      <td>0</td>\n",
              "      <td>0</td>\n",
              "      <td>0</td>\n",
              "      <td>0</td>\n",
              "      <td>0</td>\n",
              "      <td>0</td>\n",
              "      <td>0</td>\n",
              "      <td>0</td>\n",
              "      <td>0</td>\n",
              "      <td>0</td>\n",
              "      <td>1</td>\n",
              "      <td>0</td>\n",
              "      <td>0</td>\n",
              "      <td>0</td>\n",
              "      <td>0</td>\n",
              "      <td>0</td>\n",
              "      <td>0</td>\n",
              "      <td>0</td>\n",
              "      <td>0</td>\n",
              "      <td>0</td>\n",
              "      <td>0</td>\n",
              "      <td>0</td>\n",
              "      <td>0</td>\n",
              "      <td>0</td>\n",
              "      <td>0</td>\n",
              "      <td>0</td>\n",
              "      <td>0</td>\n",
              "      <td>0</td>\n",
              "      <td>0</td>\n",
              "      <td>0</td>\n",
              "      <td>0</td>\n",
              "      <td>0</td>\n",
              "      <td>0</td>\n",
              "      <td>0</td>\n",
              "      <td>0</td>\n",
              "    </tr>\n",
              "  </tbody>\n",
              "</table>\n",
              "<p>5 rows × 90 columns</p>\n",
              "</div>"
            ],
            "text/plain": [
              "    main main_pos       dep  ... dep_tag_obl:with dep_tag_parataxis dep_tag_xcomp\n",
              "0  cabin       NN  everyone  ...                0                 0             0\n",
              "1  cabin       NN  everyone  ...                0                 0             0\n",
              "2  cabin       NN     point  ...                0                 0             0\n",
              "3  cabin       NN     point  ...                0                 0             0\n",
              "4  cabin       NN     point  ...                0                 0             0\n",
              "\n",
              "[5 rows x 90 columns]"
            ]
          },
          "metadata": {
            "tags": []
          },
          "execution_count": 63
        }
      ]
    },
    {
      "cell_type": "code",
      "metadata": {
        "id": "L9fFiLPirq_t",
        "colab_type": "code",
        "colab": {}
      },
      "source": [
        "df_data2=pd.concat([df_data,df_main_pos,df_dep_pos,df_dep_tag], axis=1)\n",
        "\n",
        "new_columns=['main_s','dep_s', 'prev_s', 'next_s','main_sent'] + list(df_main_pos.columns)+ list(df_dep_pos.columns)+ list(df_dep_tag.columns)+['Aspect']\n",
        "df_data3=df_data2[new_columns]"
      ],
      "execution_count": null,
      "outputs": []
    },
    {
      "cell_type": "code",
      "metadata": {
        "id": "fkPQRB_FnOvp",
        "colab_type": "code",
        "colab": {
          "base_uri": "https://localhost:8080/",
          "height": 34
        },
        "outputId": "aae39429-1cda-44bd-aee4-cdd7b37373e4"
      },
      "source": [
        "len(list(df_data3.columns))"
      ],
      "execution_count": null,
      "outputs": [
        {
          "output_type": "execute_result",
          "data": {
            "text/plain": [
              "79"
            ]
          },
          "metadata": {
            "tags": []
          },
          "execution_count": 65
        }
      ]
    },
    {
      "cell_type": "code",
      "metadata": {
        "id": "1UN37XAdnOlL",
        "colab_type": "code",
        "colab": {}
      },
      "source": [
        ""
      ],
      "execution_count": null,
      "outputs": []
    },
    {
      "cell_type": "code",
      "metadata": {
        "id": "nspjo0JwsIrn",
        "colab_type": "code",
        "colab": {}
      },
      "source": [
        "from sklearn.ensemble import RandomForestClassifier\n",
        "\n",
        "def getPredictions(x_train, x_test, y_train, model):#, test):\n",
        "    \n",
        "    predictions = model.predict(x_test)\n",
        "    return predictions"
      ],
      "execution_count": null,
      "outputs": []
    },
    {
      "cell_type": "code",
      "metadata": {
        "id": "dn6rBNb1sOkk",
        "colab_type": "code",
        "colab": {}
      },
      "source": [
        "def check_acc(pred,y_test):\n",
        "    right=0\n",
        "    for i in range(len(y_test)):\n",
        "        if pred[i]==y_test.iloc[i]:\n",
        "            right+=1\n",
        "    return right/len(y_test)"
      ],
      "execution_count": null,
      "outputs": []
    },
    {
      "cell_type": "code",
      "metadata": {
        "id": "8AffwP7csmZI",
        "colab_type": "code",
        "colab": {}
      },
      "source": [
        "def classifyModel(dataframe, modelname):\n",
        "  msk=(np.random.rand(len(dataframe)) < 0.8)\n",
        "  train=dataframe[msk]\n",
        "  test=dataframe[~msk]\n",
        "\n",
        "\n",
        "  x_train=train[x_columns]\n",
        "  x_test=test[x_columns]\n",
        "  y_train=train['Aspect']\n",
        "  y_test=test['Aspect']\n",
        "\n",
        "\n",
        "  model = RandomForestClassifier(n_estimators=150)\n",
        "  model.fit(x_train, y_train)\n",
        "  with open(pathTA+r'/'+modelname+'.sav', 'wb') as f:\n",
        "    pickle.dump(model, f)\n",
        "\n",
        "\n",
        "  pred = getPredictions(x_train, x_test, y_train, model)\n",
        "\n",
        "  return pred, y_test"
      ],
      "execution_count": null,
      "outputs": []
    },
    {
      "cell_type": "code",
      "metadata": {
        "id": "Vkv9MBsRsMKT",
        "colab_type": "code",
        "colab": {}
      },
      "source": [
        "x_columns=['main_s','dep_s', 'prev_s', 'next_s','main_sent'] + list(df_main_pos.columns)+ list(df_dep_pos.columns)+ list(df_dep_tag.columns)"
      ],
      "execution_count": null,
      "outputs": []
    },
    {
      "cell_type": "code",
      "metadata": {
        "id": "7ncU0hG0sAG6",
        "colab_type": "code",
        "colab": {}
      },
      "source": [
        "df_data_food=df_data3[df_data3['Aspect'].str.contains(\"food\")]\n",
        "df_data_entertainment=df_data3[df_data3['Aspect'].str.contains(\"entertainment\")]\n",
        "df_data_cabin=df_data3[df_data3['Aspect'].str.contains(\"cabin\")]\n",
        "df_data_inflight=df_data3[df_data3['Aspect'].str.contains(\"inf\")]\n",
        "df_data_offflight=df_data3[df_data3['Aspect'].str.contains(\"off\")]\n",
        "df_data_possession=df_data3[df_data3['Aspect'].str.contains(\"possession\")]\n",
        "df_data_seat=df_data3[df_data3['Aspect'].str.contains(\"seat\")]\n",
        "df_data_staff=df_data3[df_data3['Aspect'].str.contains(\"staff\")]"
      ],
      "execution_count": null,
      "outputs": []
    },
    {
      "cell_type": "code",
      "metadata": {
        "id": "7dDyLecE5nst",
        "colab_type": "code",
        "colab": {}
      },
      "source": [
        "df_data_entertainment = df_data_entertainment.replace({'entertainment_s':'entertainment_audio', 'entertainment_c': 'entertainment_general'})"
      ],
      "execution_count": null,
      "outputs": []
    },
    {
      "cell_type": "code",
      "metadata": {
        "id": "GNtC7AW93Usr",
        "colab_type": "code",
        "colab": {}
      },
      "source": [
        "df_data_entertainment, df_data_cabin, df_data_food, df_data_inflight, df_data_offflight, df_data_possession, df_data_seat, df_data_staff"
      ],
      "execution_count": null,
      "outputs": []
    },
    {
      "cell_type": "code",
      "metadata": {
        "id": "NTSisHRJtISt",
        "colab_type": "code",
        "colab": {
          "base_uri": "https://localhost:8080/",
          "height": 932
        },
        "outputId": "b0338951-8292-4150-d944-df545a845392"
      },
      "source": [
        "predict_, test_ = classifyModel(df_data_staff, 'staff')"
      ],
      "execution_count": null,
      "outputs": [
        {
          "output_type": "display_data",
          "data": {
            "image/png": "[encoded data removed]",
            "text/plain": [
              "<Figure size 432x288 with 1 Axes>"
            ]
          },
          "metadata": {
            "tags": []
          }
        },
        {
          "output_type": "display_data",
          "data": {
            "image/png": "[encoded data removed]",
            "text/plain": [
              "<Figure size 720x720 with 2 Axes>"
            ]
          },
          "metadata": {
            "tags": []
          }
        }
      ]
    },
    {
      "cell_type": "code",
      "metadata": {
        "id": "-gGTsPL6tYBw",
        "colab_type": "code",
        "colab": {
          "base_uri": "https://localhost:8080/",
          "height": 34
        },
        "outputId": "6f3285e9-001f-4dd0-d4a7-7350d4022898"
      },
      "source": [
        "check_acc(food_pred, food_test)"
      ],
      "execution_count": null,
      "outputs": [
        {
          "output_type": "execute_result",
          "data": {
            "text/plain": [
              "0.803448275862069"
            ]
          },
          "metadata": {
            "tags": []
          },
          "execution_count": 303
        }
      ]
    },
    {
      "cell_type": "markdown",
      "metadata": {
        "id": "AyODvcUr4Dss",
        "colab_type": "text"
      },
      "source": [
        "Score"
      ]
    },
    {
      "cell_type": "code",
      "metadata": {
        "id": "SZd7AC_Y7vaO",
        "colab_type": "code",
        "colab": {}
      },
      "source": [
        "from sklearn.preprocessing import LabelBinarizer"
      ],
      "execution_count": null,
      "outputs": []
    },
    {
      "cell_type": "code",
      "metadata": {
        "id": "8KJCsqdE8rk5",
        "colab_type": "code",
        "colab": {}
      },
      "source": [
        "from matplotlib import pyplot"
      ],
      "execution_count": null,
      "outputs": []
    },
    {
      "cell_type": "code",
      "metadata": {
        "id": "tWoNLFIA_l2I",
        "colab_type": "code",
        "colab": {}
      },
      "source": [
        "from sklearn.metrics import precision_recall_curve"
      ],
      "execution_count": null,
      "outputs": []
    },
    {
      "cell_type": "code",
      "metadata": {
        "id": "SYfx2hfb_0AI",
        "colab_type": "code",
        "colab": {}
      },
      "source": [
        "from sklearn.metrics import f1_score\n",
        "from sklearn.metrics import auc"
      ],
      "execution_count": null,
      "outputs": []
    },
    {
      "cell_type": "code",
      "metadata": {
        "id": "DnjM-lzQAXQ3",
        "colab_type": "code",
        "colab": {
          "base_uri": "https://localhost:8080/",
          "height": 71
        },
        "outputId": "5a5a120b-9b48-4c87-9ad3-3840e3694048"
      },
      "source": [
        "from sklearn.metrics import f1_score\n",
        "from sklearn.metrics import confusion_matrix\n",
        "from sklearn.metrics import auc\n",
        "import seaborn as sns\n",
        "import matplotlib.pyplot as plt\n",
        "from sklearn.metrics import precision_recall_curve\n",
        "from sklearn.preprocessing import LabelBinarizer\n",
        "from sklearn import metrics"
      ],
      "execution_count": null,
      "outputs": [
        {
          "output_type": "stream",
          "text": [
            "/usr/local/lib/python3.6/dist-packages/statsmodels/tools/_testing.py:19: FutureWarning: pandas.util.testing is deprecated. Use the functions in the public API at pandas.testing instead.\n",
            "  import pandas.util.testing as tm\n"
          ],
          "name": "stderr"
        }
      ]
    },
    {
      "cell_type": "code",
      "metadata": {
        "id": "tPVGp6hhTTbE",
        "colab_type": "code",
        "colab": {}
      },
      "source": [
        "from sklearn import metrics"
      ],
      "execution_count": null,
      "outputs": []
    },
    {
      "cell_type": "code",
      "metadata": {
        "id": "o3HxN2shGulV",
        "colab_type": "code",
        "colab": {}
      },
      "source": [
        "def evaluations(model, y_test, y_pred, modelname):\n",
        "\n",
        "  report = metrics.classification_report(y_test, y_pred)\n",
        "\n",
        "  lb = LabelBinarizer()\n",
        "  lb.fit(y_test)\n",
        "\n",
        "  y_test = lb.transform(y_test)\n",
        "  y_pred = lb.transform(y_pred)\n",
        "\n",
        "  roc_auc = roc_auc_score(y_test, y_pred, average=\"macro\")\n",
        "  \n",
        "  fpr, tpr, _ = roc_curve(y_test.ravel(), y_pred.ravel())\n",
        "\n",
        "  precision, recall, _ = precision_recall_curve(y_test.ravel(), y_pred.ravel())\n",
        "\n",
        "\n",
        "  errors = abs(y_pred.ravel() - y_test.ravel())\n",
        "\n",
        "  fig, ax = pyplot.subplots()\n",
        "  ax.set_title(\"ROC-AUC Curve\")\n",
        "  ax.plot(fpr, tpr, marker='.', label='Random Forest')\n",
        "  # axis labels\n",
        "  ax.set_xlabel('False Positive Rate')\n",
        "  ax.set_ylabel('True Positive Rate')\n",
        "  ## show the legend\n",
        "  ax.legend()\n",
        "  # show the plot\n",
        "  fig.savefig(pathTA+r'/'+modelname+'_ROC-AUC Curve.png')\n",
        "\n",
        "  ax.cla()\n",
        "  # plot the precision-recall curves\n",
        "  ax.set_title(\"Precision-Recall Curves\")\n",
        "  ax.plot(recall, precision, marker='.', label='Random Forest')\n",
        "  ax.set_xlabel('Recall')\n",
        "  ax.set_ylabel('Precision')\n",
        "  fig.savefig(pathTA+r'/'+modelname+'_Precision-Recall Curve.png')\n",
        "\n",
        "  f1 = f1_score(y_test.ravel(), y_pred.ravel())\n",
        "  \n",
        "  \n",
        "  ax.cla()\n",
        "  \n",
        "  txt = \"Metrics for Random Forest Trained on Original Data\\n 1. ROC AUC Score: \"+str(roc_auc)+\"\\t\\n 2. F1 Score: \"+str(f1)+\"\\t\\n 3. Average absolute error: \"+str(round(np.mean(errors), 2))+\" degrees\"\n",
        "\n",
        "  text_file = open(pathTA+r'/'+\"evaluation_metrics_\"+modelname+\".txt\", 'w')\n",
        "  n = text_file.write(txt)\n",
        "  r = text_file.write(\"\\n Classification Report is as follows\\n\"+report)\n",
        "  text_file.close()"
      ],
      "execution_count": null,
      "outputs": []
    },
    {
      "cell_type": "code",
      "metadata": {
        "id": "rukuBVPUN86v",
        "colab_type": "code",
        "colab": {}
      },
      "source": [
        "def getImportant(model, feature_list, modelname):\n",
        "  importances = list(model.feature_importances_)\n",
        "\n",
        "  feature_importances = [(feature, round(importance, 2)) for feature, importance in zip(feature_list, importances)]\n",
        "\n",
        "  feature_importances = sorted(feature_importances, key = lambda x: x[1], reverse = True)\n",
        "  newimportances = []\n",
        "  newfeaturelist = []\n",
        "  for i in range(len(feature_importances)):\n",
        "    if (i <= 5):\n",
        "      newimportances.append(feature_importances[i][1])\n",
        "      newfeaturelist.append(feature_importances[i][0])\n",
        "  \n",
        "\n",
        "  # list of x locations for plotting\n",
        "  x_values = list(range(len(newimportances)))                             \n",
        "\n",
        "  # Make a bar chart\n",
        "  pyplot.bar(x_values, newimportances, orientation = 'vertical', color = 'r', edgecolor = 'k', linewidth = 1.2)\n",
        "\n",
        "  # Tick labels for x axis\n",
        "  pyplot.xticks(x_values, newfeaturelist, rotation='vertical')\n",
        "\n",
        "  # Axis labels and title\n",
        "  pyplot.ylabel('Importance')\n",
        "  pyplot.xlabel('Variable')\n",
        "  pyplot.title('Variable Importances')\n",
        "  pyplot.savefig(pathTA+r'/'+modelname+'_Variable-Importances.png')"
      ],
      "execution_count": null,
      "outputs": []
    },
    {
      "cell_type": "code",
      "metadata": {
        "id": "yxCEHbqm4LzQ",
        "colab_type": "code",
        "colab": {}
      },
      "source": [
        "def classifyModel(dataframe, modelname):\n",
        "  msk=(np.random.rand(len(dataframe)) < 0.8)\n",
        "  train=dataframe[msk]\n",
        "  test=dataframe[~msk]\n",
        "\n",
        "\n",
        "  x_train=train[x_columns]\n",
        "  x_test=test[x_columns]\n",
        "  y_train=train['Aspect']\n",
        "  y_test=test['Aspect']\n",
        "\n",
        "  feature_list = list(dataframe.columns)\n",
        "\n",
        "\n",
        "\n",
        "  model = RandomForestClassifier(n_estimators=150)\n",
        "  model.fit(x_train, y_train)\n",
        "  with open(pathTA+r'/'+modelname+'.sav', 'wb') as f:\n",
        "    pickle.dump(model, f)\n",
        "\n",
        "  \n",
        "  pred = getPredictions(x_train, x_test, y_train, model)\n",
        "\n",
        "  \n",
        "  evaluations(model, y_test, pred, modelname)\n",
        "\n",
        "  getImportant(model, feature_list, modelname)\n",
        "\n",
        "  labels = np.unique(y_test) \n",
        "  a = confusion_matrix(y_test, pred, labels=labels) \n",
        "  \n",
        "  #print(a)\n",
        "\n",
        "  cm_df = pd.DataFrame(a, index=labels, columns=labels)\n",
        "  plt.figure(figsize=(10,10))  \n",
        "  sns.heatmap(cm_df, annot=True, fmt='g')\n",
        "\n",
        "  plt.savefig(pathTA+r'/'+modelname+'_Confusion Matrix.png')\n",
        "  \n",
        "  return pred, y_test"
      ],
      "execution_count": null,
      "outputs": []
    },
    {
      "cell_type": "code",
      "metadata": {
        "id": "rpQl8USj7O_e",
        "colab_type": "code",
        "colab": {}
      },
      "source": [
        "model.decision_path()"
      ],
      "execution_count": null,
      "outputs": []
    },
    {
      "cell_type": "code",
      "metadata": {
        "id": "o3_7uxx65nZR",
        "colab_type": "code",
        "colab": {
          "base_uri": "https://localhost:8080/",
          "height": 34
        },
        "outputId": "4909afaa-b85c-452d-c2e0-9d7cbfa8dfe1"
      },
      "source": [
        "list(df_data_entertainment['Aspect'].unique())"
      ],
      "execution_count": null,
      "outputs": [
        {
          "output_type": "execute_result",
          "data": {
            "text/plain": [
              "['entertainment_audio', 'entertainment_visual', 'entertainment_general']"
            ]
          },
          "metadata": {
            "tags": []
          },
          "execution_count": 326
        }
      ]
    },
    {
      "cell_type": "code",
      "metadata": {
        "id": "7ThUpwss4FoF",
        "colab_type": "code",
        "colab": {}
      },
      "source": [
        ""
      ],
      "execution_count": null,
      "outputs": []
    }
  ]
}