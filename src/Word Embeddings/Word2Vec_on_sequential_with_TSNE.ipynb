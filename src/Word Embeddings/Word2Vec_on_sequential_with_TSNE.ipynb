{
  "nbformat": 4,
  "nbformat_minor": 0,
  "metadata": {
    "colab": {
      "name": "Final-DataMining.ipynb",
      "provenance": [],
      "collapsed_sections": [
        "JI-NtgbfRVaQ",
        "fgAiMbP1IUBO",
        "AT45ZxK3IeL2",
        "yZhpGiKsI-Qw"
      ]
    },
    "kernelspec": {
      "name": "python3",
      "display_name": "Python 3"
    }
  },
  "cells": [
    {
      "cell_type": "markdown",
      "metadata": {
        "id": "A00rPaTatUxw",
        "colab_type": "text"
      },
      "source": [
        "#Table of Contents"
      ]
    },
    {
      "cell_type": "markdown",
      "metadata": {
        "id": "FB8hP499tUl4",
        "colab_type": "text"
      },
      "source": [
        "\n",
        "\n",
        "1.   Importing Project Dependencies\n",
        "  1.   Mounting the Drive\n",
        "  2.   Importing the necessary Python Libraries\n",
        "\n",
        "2.   Setting up the Datasets\n",
        "  1.   Set Path\n",
        "  2.   Function to Load Files\n",
        "\n",
        "3.   Pre-processing Steps\n",
        "  1.   Identifying Stopwords\n",
        "  2.   Clean Function\n",
        "\n",
        "4.   Part-Of-Speech Tagging\n",
        "  1.   All Parts-of-Speech Tagging\n",
        "  2.   Noun-Adjective Part-of-speech Tagging\n",
        "\n",
        "5.   Defining the Word2Vec Continuous Skip-gram Model\n",
        "\n",
        "6.   Visualising elements of Word2Vec Model\n",
        "  1.   Calculating the Cosine Distance, Cosine Similarity and plotting a Heat-map to visualise the cosine similarities\n",
        "  2.   Most similar words using Gensim Inbuilt Function\n",
        "  3.   TSNE\n",
        "  4.   Plotting TSNE\n",
        "  5.   Interpretation of the TSNE-plot graph\n",
        "\n",
        "7.   Helper functions for Embedding as features in Neural Model\n",
        "  1.   Map words to their corresponding IDs\n",
        "  2.   Getting Integer Model\n",
        "  3.   Adding Missing Words (if any)\n",
        "\n",
        "8.   Training the Classifying Neural Network Model\n",
        "9.   Evaluation of the model\n",
        "  1.   Classification Report\n",
        "  2.   ROC - AUC Score and Curve\n",
        "10. Output Result  \n",
        "\n",
        "\n",
        "\n"
      ]
    },
    {
      "cell_type": "markdown",
      "metadata": {
        "id": "8J_5VdArQqJg",
        "colab_type": "text"
      },
      "source": [
        "#1. Importing Project Dependencies"
      ]
    },
    {
      "cell_type": "markdown",
      "metadata": {
        "id": "8dS9UZUOvkoR",
        "colab_type": "text"
      },
      "source": [
        "\n",
        "\n",
        "*   Mounting the Drive\n",
        "\n",
        "\n",
        "\n",
        "\n",
        "\n"
      ]
    },
    {
      "cell_type": "code",
      "metadata": {
        "id": "xPrR6gqiQik8",
        "colab_type": "code",
        "colab": {
          "base_uri": "https://localhost:8080/",
          "height": 122
        },
        "outputId": "117c782e-bba2-4f26-d778-3dff6c44c064"
      },
      "source": [
        "from google.colab import drive\n",
        "drive.mount('/content/drive')"
      ],
      "execution_count": null,
      "outputs": [
        {
          "output_type": "stream",
          "text": [
            "Go to this URL in a browser: https://accounts.google.com/o/oauth2/auth?client_id=947318989803-6bn6qk8qdgf4n4g3pfee6491hc0brc4i.apps.googleusercontent.com&redirect_uri=urn%3aietf%3awg%3aoauth%3a2.0%3aoob&response_type=code&scope=email%20https%3a%2f%2fwww.googleapis.com%2fauth%2fdocs.test%20https%3a%2f%2fwww.googleapis.com%2fauth%2fdrive%20https%3a%2f%2fwww.googleapis.com%2fauth%2fdrive.photos.readonly%20https%3a%2f%2fwww.googleapis.com%2fauth%2fpeopleapi.readonly\n",
            "\n",
            "Enter your authorization code:\n",
            "··········\n",
            "Mounted at /content/drive\n"
          ],
          "name": "stdout"
        }
      ]
    },
    {
      "cell_type": "markdown",
      "metadata": {
        "id": "6IyK8wJBvod8",
        "colab_type": "text"
      },
      "source": [
        "\n",
        "\n",
        "\n",
        "\n",
        "*   Importing the Libraries\n",
        "\n",
        "\n",
        "\n"
      ]
    },
    {
      "cell_type": "code",
      "metadata": {
        "id": "WLNPhTmOQsL1",
        "colab_type": "code",
        "colab": {
          "base_uri": "https://localhost:8080/",
          "height": 187
        },
        "outputId": "48844e13-58b9-455d-b143-df599336a464"
      },
      "source": [
        "import nltk\n",
        "import pandas as pd\n",
        "from sklearn.model_selection import train_test_split\n",
        "from nltk.tokenize import word_tokenize, sent_tokenize\n",
        "from nltk.stem import PorterStemmer\n",
        "from nltk.stem import WordNetLemmatizer\n",
        "import re\n",
        "from gensim.models import Word2Vec\n",
        "import multiprocessing\n",
        "nltk.download('averaged_perceptron_tagger')\n",
        "from keras.utils import to_categorical\n",
        "import numpy as np\n",
        "from keras.models import Sequential\n",
        "from keras.layers import Dense, Activation, Embedding, Flatten\n",
        "import tensorflow as tf\n",
        "import collections\n",
        "from nltk.corpus import stopwords\n",
        "nltk.download('stopwords')\n",
        "nltk.download('punkt')\n",
        "nltk.download('wordnet') \n",
        "import scipy\n",
        "import seaborn as sns\n",
        "import matplotlib.pyplot as plt\n",
        "import matplotlib.cm as cm\n",
        "% matplotlib inline\n",
        "from sklearn.feature_extraction.text import TfidfVectorizer"
      ],
      "execution_count": null,
      "outputs": [
        {
          "output_type": "stream",
          "text": [
            "[nltk_data] Downloading package averaged_perceptron_tagger to\n",
            "[nltk_data]     /root/nltk_data...\n",
            "[nltk_data]   Package averaged_perceptron_tagger is already up-to-\n",
            "[nltk_data]       date!\n",
            "[nltk_data] Downloading package stopwords to /root/nltk_data...\n",
            "[nltk_data]   Package stopwords is already up-to-date!\n",
            "[nltk_data] Downloading package punkt to /root/nltk_data...\n",
            "[nltk_data]   Package punkt is already up-to-date!\n",
            "[nltk_data] Downloading package wordnet to /root/nltk_data...\n",
            "[nltk_data]   Package wordnet is already up-to-date!\n"
          ],
          "name": "stdout"
        }
      ]
    },
    {
      "cell_type": "markdown",
      "metadata": {
        "id": "JI-NtgbfRVaQ",
        "colab_type": "text"
      },
      "source": [
        "#2. Setting up the Dataset"
      ]
    },
    {
      "cell_type": "markdown",
      "metadata": {
        "id": "sMUAS_9PwEcd",
        "colab_type": "text"
      },
      "source": [
        "\n",
        "\n",
        "*   Set Path\n",
        "\n"
      ]
    },
    {
      "cell_type": "code",
      "metadata": {
        "id": "lUCe-qsFQtW0",
        "colab_type": "code",
        "colab": {}
      },
      "source": [
        "import glob\n",
        "path = '/content/drive/My Drive/Practicum_Data/'"
      ],
      "execution_count": null,
      "outputs": []
    },
    {
      "cell_type": "code",
      "metadata": {
        "id": "-j-cwpQMRbOo",
        "colab_type": "code",
        "colab": {}
      },
      "source": [
        "files = glob.glob(path+'*.csv')"
      ],
      "execution_count": null,
      "outputs": []
    },
    {
      "cell_type": "markdown",
      "metadata": {
        "id": "p2tWbG58wJGE",
        "colab_type": "text"
      },
      "source": [
        "\n",
        "\n",
        "*   Function to load all CSV files into a dataframe from set path\n",
        "\n"
      ]
    },
    {
      "cell_type": "code",
      "metadata": {
        "id": "twiAvi3YIOMJ",
        "colab_type": "code",
        "colab": {}
      },
      "source": [
        "def loadData(files):\n",
        "  '''\n",
        "  This  function loads all CSV files into a dataframe from the set path.\n",
        "  '''\n",
        "  comments = []\n",
        "  for f in files:\n",
        "    df = pd.read_csv(f)\n",
        "    for review in df['Comment']:\n",
        "      comments.append(review)\n",
        "    df = pd.DataFrame() \n",
        "  return comments"
      ],
      "execution_count": null,
      "outputs": []
    },
    {
      "cell_type": "code",
      "metadata": {
        "id": "YrAnxHdQIPmK",
        "colab_type": "code",
        "colab": {}
      },
      "source": [
        "com = loadData(files)\n",
        "train, test = train_test_split(com, test_size = 0.3)"
      ],
      "execution_count": null,
      "outputs": []
    },
    {
      "cell_type": "code",
      "metadata": {
        "id": "81vkQg8lISH3",
        "colab_type": "code",
        "colab": {
          "base_uri": "https://localhost:8080/",
          "height": 34
        },
        "outputId": "ca150031-22bc-4995-c218-2c7ba9bba415"
      },
      "source": [
        "len(train), len(test)"
      ],
      "execution_count": null,
      "outputs": [
        {
          "output_type": "execute_result",
          "data": {
            "text/plain": [
              "(944, 405)"
            ]
          },
          "metadata": {
            "tags": []
          },
          "execution_count": 7
        }
      ]
    },
    {
      "cell_type": "markdown",
      "metadata": {
        "id": "fgAiMbP1IUBO",
        "colab_type": "text"
      },
      "source": [
        "# 3. Pre-processing"
      ]
    },
    {
      "cell_type": "markdown",
      "metadata": {
        "id": "cMklY96XwjzU",
        "colab_type": "text"
      },
      "source": [
        "\n",
        "\n",
        "*   Identifying Stopwords\n",
        "\n",
        "\n",
        "> There is also a corpus of stopwords, that is, high-frequency words like the, to and also that we sometimes want to filter out of a document before further processing. Stopwords usually have little lexical content, and their presence in a text fails to distinguish it from other texts. (https://www.nltk.org/book/ch02.html)\n",
        "\n",
        "\n",
        "\n"
      ]
    },
    {
      "cell_type": "code",
      "metadata": {
        "id": "77hP0y02IWd8",
        "colab_type": "code",
        "colab": {}
      },
      "source": [
        "stop_words=nltk.corpus.stopwords.words('english')\n",
        "custom_stopwords=['i','u','pm','am','nd', 'ga', 'th']\n",
        "for words in custom_stopwords:\n",
        "  stop_words.append(words)"
      ],
      "execution_count": null,
      "outputs": []
    },
    {
      "cell_type": "markdown",
      "metadata": {
        "id": "mYn9nNX_wrQs",
        "colab_type": "text"
      },
      "source": [
        "\n",
        "\n",
        "*   Function to clean text from the CSV files\n",
        "\n",
        "\n",
        "> In this function, we first tokenize each sentence of the review. Using the LOWER method of string class, we change the case of each word. Punctuations can make the text a bit confusing for the system to understand. \n",
        "So, for this assignment we have removed all punctuations in the text. To do so, we have made use of Punctuations method from string class. We have also removed the non-alphabetic texts using ISALPHA() method.\n",
        "At last, we have removed the STOPWORDS which occur quite often in the coprus. And voila! we now have clean texts from the raw scrapped data.\n",
        "\n",
        "\n",
        "\n",
        "\n",
        "\n",
        "\n"
      ]
    },
    {
      "cell_type": "code",
      "metadata": {
        "id": "w-XN7noUIYsN",
        "colab_type": "code",
        "colab": {}
      },
      "source": [
        "def clean(text):\n",
        "  '''\n",
        "  This function will clean the text by splitting texts in words to remove punctuations and stopwords.\n",
        "  '''\n",
        "  c = []\n",
        "  corpus = []\n",
        "  for sent in text:\n",
        "    #Splitting into words\n",
        "    tokens = word_tokenize(sent)\n",
        "    \n",
        "    #Converting into lower case\n",
        "    tokens = [w.lower() for w in tokens]\n",
        "\n",
        "    #removing punctuations\n",
        "    import string\n",
        "    table = str.maketrans(\"\", \"\", string.punctuation)\n",
        "    stripped = [w.translate(table) for w in tokens]\n",
        "\n",
        "    #removing non-alphabetic tokens\n",
        "    words = [word for word in stripped if word.isalpha()]\n",
        "\n",
        "    #filtering stopwords\n",
        "    words = [w for w in words if not w in stop_words]\n",
        "\n",
        "    c.append(words)\n",
        "  \n",
        "  for i in range(0, len(c)):\n",
        "    for j in c[i]:\n",
        "      corpus.append(j)\n",
        "  \n",
        "  return corpus"
      ],
      "execution_count": null,
      "outputs": []
    },
    {
      "cell_type": "code",
      "metadata": {
        "id": "Y9_fZuX8IZ_l",
        "colab_type": "code",
        "colab": {}
      },
      "source": [
        "cleanText = clean(com)\n",
        "trainCorpus = clean(train)\n",
        "testCorpus = clean(test)"
      ],
      "execution_count": null,
      "outputs": []
    },
    {
      "cell_type": "code",
      "metadata": {
        "id": "dEsZTCsIIcUb",
        "colab_type": "code",
        "colab": {
          "base_uri": "https://localhost:8080/",
          "height": 34
        },
        "outputId": "9d2191e2-84de-42b9-a8b3-e249098e97b4"
      },
      "source": [
        "len(trainCorpus), len(testCorpus), len(cleanText)"
      ],
      "execution_count": null,
      "outputs": [
        {
          "output_type": "execute_result",
          "data": {
            "text/plain": [
              "(63689, 27173, 90862)"
            ]
          },
          "metadata": {
            "tags": []
          },
          "execution_count": 11
        }
      ]
    },
    {
      "cell_type": "markdown",
      "metadata": {
        "id": "AT45ZxK3IeL2",
        "colab_type": "text"
      },
      "source": [
        "#4. Part of Speech Tagging"
      ]
    },
    {
      "cell_type": "markdown",
      "metadata": {
        "id": "cBF3KUGtzYwT",
        "colab_type": "text"
      },
      "source": [
        "\n",
        "\n",
        "> The process of classifying words into their parts of speech and labeling them accordingly is known as part-of-speech tagging, POS-tagging, or simply tagging. Parts of speech are also known as word classes or lexical categories. The collection of tags used for a particular task is known as a tagset. (http://www.nltk.org/book/ch05.html)\n",
        "\n"
      ]
    },
    {
      "cell_type": "markdown",
      "metadata": {
        "id": "xJqxg2LfzaCe",
        "colab_type": "text"
      },
      "source": [
        "\n",
        "\n",
        "*  Part-of-Speech Tagging\n",
        "\n"
      ]
    },
    {
      "cell_type": "code",
      "metadata": {
        "id": "S7GnvWlKIdnv",
        "colab_type": "code",
        "colab": {}
      },
      "source": [
        "posTrain = nltk.pos_tag(trainCorpus)\n",
        "posTest = nltk.pos_tag(testCorpus)"
      ],
      "execution_count": null,
      "outputs": []
    },
    {
      "cell_type": "code",
      "metadata": {
        "id": "nG6y2PhqIhfK",
        "colab_type": "code",
        "colab": {}
      },
      "source": [
        "pos = nltk.pos_tag(cleanText)"
      ],
      "execution_count": null,
      "outputs": []
    },
    {
      "cell_type": "code",
      "metadata": {
        "id": "vJ774826Iil2",
        "colab_type": "code",
        "colab": {
          "base_uri": "https://localhost:8080/",
          "height": 34
        },
        "outputId": "66d78e73-f234-4b85-c28a-adb866ed0b19"
      },
      "source": [
        "len(posTrain), len(posTest), len(pos)"
      ],
      "execution_count": null,
      "outputs": [
        {
          "output_type": "execute_result",
          "data": {
            "text/plain": [
              "(63689, 27173, 90862)"
            ]
          },
          "metadata": {
            "tags": []
          },
          "execution_count": 14
        }
      ]
    },
    {
      "cell_type": "markdown",
      "metadata": {
        "id": "8PgwC2BFI0HK",
        "colab_type": "text"
      },
      "source": [
        "*   Adjective-Noun Tagging\n",
        "\n",
        "\n"
      ]
    },
    {
      "cell_type": "markdown",
      "metadata": {
        "id": "0BqZvmEo1WcG",
        "colab_type": "text"
      },
      "source": [
        "\n",
        "\n",
        "> Since most, aspect terms are in the form of Nouns and their attributes are in the form of Adjectives. We will be only using Adjective-Noun pairs for our study.\n",
        "(https://www.aclweb.org/anthology/D17-1058.pdf)\n",
        "\n"
      ]
    },
    {
      "cell_type": "code",
      "metadata": {
        "id": "vFuMy0ECIrwi",
        "colab_type": "code",
        "colab": {}
      },
      "source": [
        "def nounAdjective(lists):\n",
        "  '''\n",
        "  This function that picks Adjectives --> JJ/JJS/JJR tag words and Nouns --> NNS/NNP/NN/NNPS tag words from the training/testing corpus.\n",
        "  '''\n",
        "  nounAdj = []\n",
        "  #for i in range(0, len(lists)):\n",
        "  for word, tag in lists:\n",
        "    if (tag==('NN' or 'NNS' or 'NNP' or 'NNPS')):\n",
        "      n = (word, tag)\n",
        "      nounAdj.append(n)\n",
        "    elif (tag == ('JJ' or 'JJR' or 'JJS')):\n",
        "      adj = (word, tag)\n",
        "      nounAdj.append(adj)\n",
        "  return nounAdj"
      ],
      "execution_count": null,
      "outputs": []
    },
    {
      "cell_type": "code",
      "metadata": {
        "id": "g9QDlePrI2gE",
        "colab_type": "code",
        "colab": {}
      },
      "source": [
        "adjNounTrain = nounAdjective(posTrain)\n",
        "adjNounTest = nounAdjective(posTest)\n",
        "adjNoun = nounAdjective(pos)"
      ],
      "execution_count": null,
      "outputs": []
    },
    {
      "cell_type": "code",
      "metadata": {
        "id": "ZiYfgNb3I5VP",
        "colab_type": "code",
        "colab": {
          "base_uri": "https://localhost:8080/",
          "height": 34
        },
        "outputId": "ffad0993-612a-492e-e0b1-330bf79614c8"
      },
      "source": [
        "len(adjNoun), len(adjNounTest), len(adjNounTrain)"
      ],
      "execution_count": null,
      "outputs": [
        {
          "output_type": "execute_result",
          "data": {
            "text/plain": [
              "(51028, 15289, 35719)"
            ]
          },
          "metadata": {
            "tags": []
          },
          "execution_count": 17
        }
      ]
    },
    {
      "cell_type": "markdown",
      "metadata": {
        "id": "yZhpGiKsI-Qw",
        "colab_type": "text"
      },
      "source": [
        "#5. Defining the Word2Vec Model"
      ]
    },
    {
      "cell_type": "markdown",
      "metadata": {
        "id": "wfV7UrCE0MFU",
        "colab_type": "text"
      },
      "source": [
        "\n",
        "\n",
        "> A small brief on the parameters of the Word2Vec model\n",
        "\n",
        "\n",
        "*   **Size**: The dimensionality of our embeddings. Since, there isn’t a single best value suiting all applications. We have set the size at 300.\n",
        "*   **Window**: This determines which words are considered contexts for the target. The n words to the right and to the left are considered as context words\n",
        "*   **Min_count**: This parameter is a threshold value that tells the model if frequency of a word is less than the min_count, it should be ignored.\n",
        "*   **Negative**: It defines the incorrect training pair instances.\n",
        "*   **Iter**: It is the same as the concept of Epochs.\n",
        "*   **Workers**: Number of threads that will be used to train the model, in our case to avoid frequent crashing of Google Colab Notebook, using the Multiprocessing library we deploy as many threads as the cpu_count.\n",
        "\n",
        "\n"
      ]
    },
    {
      "cell_type": "code",
      "metadata": {
        "id": "9-szP9pmI6tT",
        "colab_type": "code",
        "colab": {}
      },
      "source": [
        "dim = 300\n",
        "w2v = Word2Vec(adjNounTrain, size=dim, window=5,\n",
        "               min_count=1, negative = 15, iter=10, \n",
        "               compute_loss = True,\n",
        "               workers = multiprocessing.cpu_count())"
      ],
      "execution_count": null,
      "outputs": []
    },
    {
      "cell_type": "markdown",
      "metadata": {
        "id": "iEeKCoM509QT",
        "colab_type": "text"
      },
      "source": [
        "\n",
        "\n",
        "> Getting the Keyed Vectors of the Word2Vec Model\n",
        "\n"
      ]
    },
    {
      "cell_type": "code",
      "metadata": {
        "id": "hCSz9SdkJBVf",
        "colab_type": "code",
        "colab": {}
      },
      "source": [
        "word_vector = w2v.wv"
      ],
      "execution_count": null,
      "outputs": []
    },
    {
      "cell_type": "markdown",
      "metadata": {
        "id": "AxMh-4h31yut",
        "colab_type": "text"
      },
      "source": [
        "# 6. Visualising elements of the Word2Vec Model"
      ]
    },
    {
      "cell_type": "markdown",
      "metadata": {
        "id": "gfMKQ4zbGTbB",
        "colab_type": "text"
      },
      "source": [
        "\n",
        "\n",
        "*   Calculating the Cosine Distance, Cosine Similarity and plotting a Heat-map to visualise the cosine similarities\n"
      ]
    },
    {
      "cell_type": "code",
      "metadata": {
        "id": "nHdxEvqZGV6Y",
        "colab_type": "code",
        "colab": {}
      },
      "source": [
        "def cosine_distance_between_two_words(word1, word2):\n",
        "    '''\n",
        "    Takes input of words and returns the cosine distance of each word.\n",
        "    '''\n",
        "    return (1- scipy.spatial.distance.cosine(w2v[word1], w2v[word2]))\n",
        "\n",
        "def calculate_heat_matrix_for_two_sentences(s1,s2):\n",
        "    '''\n",
        "    This function calculcates  heat matrix based on the cosine distances of words from one another.\n",
        "    '''\n",
        "    result_list = [[cosine_distance_between_two_words(word1, word2) for word2 in s2] for word1 in s1]\n",
        "    result_df = pd.DataFrame(result_list)\n",
        "    result_df.columns = s2\n",
        "    result_df.index = s1\n",
        "    return result_df\n",
        "\n",
        "def cosine_distance_wordembedding_method(s1, s2):\n",
        "    '''\n",
        "    Returns the cosine similarity index.\n",
        "    '''\n",
        "    vector_1 = np.mean([w2v[word] for word in s1],axis=0)\n",
        "    vector_2 = np.mean([w2v[word] for word in s2],axis=0)\n",
        "    cosine = scipy.spatial.distance.cosine(vector_1, vector_2)\n",
        "    print('Word Embedding method with a cosine distance asses that our two sentences are similar to',round((1-cosine)*100,2),'%')\n",
        "\n",
        "def heat_map_matrix_between_two_sentences(s1,s2):\n",
        "    '''\n",
        "    Plots the heat matrix.\n",
        "    '''\n",
        "    df = calculate_heat_matrix_for_two_sentences(s1,s2)\n",
        "    fig, ax = plt.subplots(figsize=(5,5)) \n",
        "    ax_blue = sns.heatmap(df, cmap=\"YlGnBu\")\n",
        "    # ax_red = sns.heatmap(df)\n",
        "    print(cosine_distance_wordembedding_method(s1, s2))\n",
        "    return ax_blue"
      ],
      "execution_count": null,
      "outputs": []
    },
    {
      "cell_type": "markdown",
      "metadata": {
        "id": "pBTLQ014GtE8",
        "colab_type": "text"
      },
      "source": [
        "Separating Adjective and Noun words for comparision"
      ]
    },
    {
      "cell_type": "code",
      "metadata": {
        "id": "QGC58VMwGVyk",
        "colab_type": "code",
        "colab": {}
      },
      "source": [
        "adjTest =[]\n",
        "nounTest =[]\n",
        "for w, t in adjNounTest:\n",
        "  if t == 'JJ':\n",
        "    adjTest.append(w)\n",
        "for w,t in adjNounTrain:\n",
        "  if t == 'NN':\n",
        "    nounTest.append(w)"
      ],
      "execution_count": null,
      "outputs": []
    },
    {
      "cell_type": "markdown",
      "metadata": {
        "id": "d5QvxgASGrx0",
        "colab_type": "text"
      },
      "source": [
        "Top 5 Adjective and Noun Words"
      ]
    },
    {
      "cell_type": "code",
      "metadata": {
        "id": "pIsB_2YjGVil",
        "colab_type": "code",
        "colab": {}
      },
      "source": [
        "vectorizer2 = TfidfVectorizer(max_features=5)\n",
        "X2 = vectorizer2.fit_transform(adjTest)\n",
        "words2 = vectorizer2.get_feature_names()\n",
        "vectorizer3 = TfidfVectorizer(max_features=5)\n",
        "X3 = vectorizer3.fit_transform(nounTest)\n",
        "words3 = vectorizer3.get_feature_names()"
      ],
      "execution_count": null,
      "outputs": []
    },
    {
      "cell_type": "code",
      "metadata": {
        "id": "nAJoyAcrGpmk",
        "colab_type": "code",
        "colab": {
          "base_uri": "https://localhost:8080/",
          "height": 51
        },
        "outputId": "3706a0f9-d82d-41ae-a71f-4892fe4d334c"
      },
      "source": [
        "words2, words3"
      ],
      "execution_count": null,
      "outputs": [
        {
          "output_type": "execute_result",
          "data": {
            "text/plain": [
              "(['comfortable', 'good', 'great', 'last', 'new'],\n",
              " ['airline', 'flight', 'service', 'staff', 'time'])"
            ]
          },
          "metadata": {
            "tags": []
          },
          "execution_count": 25
        }
      ]
    },
    {
      "cell_type": "markdown",
      "metadata": {
        "id": "nBm_93t9G3KA",
        "colab_type": "text"
      },
      "source": [
        "Cosine Distance between the words"
      ]
    },
    {
      "cell_type": "code",
      "metadata": {
        "id": "Bv6_nCPIGVgE",
        "colab_type": "code",
        "colab": {
          "base_uri": "https://localhost:8080/",
          "height": 88
        },
        "outputId": "0b688586-20b4-4224-8a6a-3bc6bb5da8ce"
      },
      "source": [
        "cosine_distance_wordembedding_method(words2,words3)"
      ],
      "execution_count": null,
      "outputs": [
        {
          "output_type": "stream",
          "text": [
            "Word Embedding method with a cosine distance asses that our two sentences are similar to 73.42 %\n"
          ],
          "name": "stdout"
        },
        {
          "output_type": "stream",
          "text": [
            "/usr/local/lib/python3.6/dist-packages/ipykernel_launcher.py:21: DeprecationWarning: Call to deprecated `__getitem__` (Method will be removed in 4.0.0, use self.wv.__getitem__() instead).\n",
            "/usr/local/lib/python3.6/dist-packages/ipykernel_launcher.py:22: DeprecationWarning: Call to deprecated `__getitem__` (Method will be removed in 4.0.0, use self.wv.__getitem__() instead).\n"
          ],
          "name": "stderr"
        }
      ]
    },
    {
      "cell_type": "markdown",
      "metadata": {
        "id": "h946pq4IG6Cn",
        "colab_type": "text"
      },
      "source": [
        "Plotting the Heatmap"
      ]
    },
    {
      "cell_type": "code",
      "metadata": {
        "id": "iLaNR6ALGVck",
        "colab_type": "code",
        "colab": {
          "base_uri": "https://localhost:8080/",
          "height": 459
        },
        "outputId": "551de419-15e2-4ba6-e6b6-94435ce15130"
      },
      "source": [
        "heat_map_matrix_between_two_sentences(words2, words3)"
      ],
      "execution_count": null,
      "outputs": [
        {
          "output_type": "stream",
          "text": [
            "Word Embedding method with a cosine distance asses that our two sentences are similar to 73.42 %\n",
            "None\n"
          ],
          "name": "stdout"
        },
        {
          "output_type": "stream",
          "text": [
            "/usr/local/lib/python3.6/dist-packages/ipykernel_launcher.py:5: DeprecationWarning: Call to deprecated `__getitem__` (Method will be removed in 4.0.0, use self.wv.__getitem__() instead).\n",
            "  \"\"\"\n",
            "/usr/local/lib/python3.6/dist-packages/ipykernel_launcher.py:21: DeprecationWarning: Call to deprecated `__getitem__` (Method will be removed in 4.0.0, use self.wv.__getitem__() instead).\n",
            "/usr/local/lib/python3.6/dist-packages/ipykernel_launcher.py:22: DeprecationWarning: Call to deprecated `__getitem__` (Method will be removed in 4.0.0, use self.wv.__getitem__() instead).\n"
          ],
          "name": "stderr"
        },
        {
          "output_type": "execute_result",
          "data": {
            "text/plain": [
              "<matplotlib.axes._subplots.AxesSubplot at 0x7f95817689b0>"
            ]
          },
          "metadata": {
            "tags": []
          },
          "execution_count": 27
        },
        {
          "output_type": "display_data",
          "data": {
            "image/png": "[encoded data removed]",
            "text/plain": [
              "<Figure size 360x360 with 2 Axes>"
            ]
          },
          "metadata": {
            "tags": [],
            "needs_background": "light"
          }
        }
      ]
    },
    {
      "cell_type": "markdown",
      "metadata": {
        "id": "bvpvKnnc25Qt",
        "colab_type": "text"
      },
      "source": [
        "\n",
        "*   Getting most similar words through in_built function --> MOST_SIMILAR\n",
        "\n",
        "> This method computes cosine similarity between a simple mean of the projection weight vectors of the given words and the vectors for each word in the model. The method corresponds to the word-analogy and distance scripts in the original word2vec implementation. (https://radimrehurek.com/gensim/models/keyedvectors.html#gensim.models.keyedvectors.WordEmbeddingsKeyedVectors.most_similar)\n",
        "\n",
        "\n",
        "\n"
      ]
    },
    {
      "cell_type": "code",
      "metadata": {
        "id": "LAnEmwnz2IOw",
        "colab_type": "code",
        "colab": {
          "base_uri": "https://localhost:8080/",
          "height": 190
        },
        "outputId": "93654fd1-ff8d-43cf-c443-2ede6258249b"
      },
      "source": [
        "w2v.most_similar('airline',topn=5)"
      ],
      "execution_count": null,
      "outputs": [
        {
          "output_type": "stream",
          "text": [
            "/usr/local/lib/python3.6/dist-packages/ipykernel_launcher.py:1: DeprecationWarning: Call to deprecated `most_similar` (Method will be removed in 4.0.0, use self.wv.most_similar() instead).\n",
            "  \"\"\"Entry point for launching an IPython kernel.\n",
            "/usr/local/lib/python3.6/dist-packages/gensim/matutils.py:737: FutureWarning: Conversion of the second argument of issubdtype from `int` to `np.signedinteger` is deprecated. In future, it will be treated as `np.int64 == np.dtype(int).type`.\n",
            "  if np.issubdtype(vec.dtype, np.int):\n"
          ],
          "name": "stderr"
        },
        {
          "output_type": "execute_result",
          "data": {
            "text/plain": [
              "[('food', 0.9999422430992126),\n",
              " ('customer', 0.9999407529830933),\n",
              " ('staff', 0.9999277591705322),\n",
              " ('service', 0.9999265670776367),\n",
              " ('economy', 0.9999100565910339)]"
            ]
          },
          "metadata": {
            "tags": []
          },
          "execution_count": 28
        }
      ]
    },
    {
      "cell_type": "code",
      "metadata": {
        "id": "5B3KYORl2H3s",
        "colab_type": "code",
        "colab": {
          "base_uri": "https://localhost:8080/",
          "height": 190
        },
        "outputId": "cf4f8e3a-40bf-4316-8456-014c7c9286a3"
      },
      "source": [
        "w2v.most_similar('experience',topn=5)"
      ],
      "execution_count": null,
      "outputs": [
        {
          "output_type": "stream",
          "text": [
            "/usr/local/lib/python3.6/dist-packages/ipykernel_launcher.py:1: DeprecationWarning: Call to deprecated `most_similar` (Method will be removed in 4.0.0, use self.wv.most_similar() instead).\n",
            "  \"\"\"Entry point for launching an IPython kernel.\n",
            "/usr/local/lib/python3.6/dist-packages/gensim/matutils.py:737: FutureWarning: Conversion of the second argument of issubdtype from `int` to `np.signedinteger` is deprecated. In future, it will be treated as `np.int64 == np.dtype(int).type`.\n",
            "  if np.issubdtype(vec.dtype, np.int):\n"
          ],
          "name": "stderr"
        },
        {
          "output_type": "execute_result",
          "data": {
            "text/plain": [
              "[('ticket', 0.9998923540115356),\n",
              " ('plane', 0.9998880624771118),\n",
              " ('cathay', 0.9998026490211487),\n",
              " ('jakarta', 0.9996894598007202),\n",
              " ('check', 0.9996140003204346)]"
            ]
          },
          "metadata": {
            "tags": []
          },
          "execution_count": 29
        }
      ]
    },
    {
      "cell_type": "code",
      "metadata": {
        "id": "-mdO9p5O2HmR",
        "colab_type": "code",
        "colab": {
          "base_uri": "https://localhost:8080/",
          "height": 190
        },
        "outputId": "abc05f17-88b2-41a9-c2b6-ab81e99cabf9"
      },
      "source": [
        "w2v.most_similar('food',topn=5)"
      ],
      "execution_count": null,
      "outputs": [
        {
          "output_type": "stream",
          "text": [
            "/usr/local/lib/python3.6/dist-packages/ipykernel_launcher.py:1: DeprecationWarning: Call to deprecated `most_similar` (Method will be removed in 4.0.0, use self.wv.most_similar() instead).\n",
            "  \"\"\"Entry point for launching an IPython kernel.\n",
            "/usr/local/lib/python3.6/dist-packages/gensim/matutils.py:737: FutureWarning: Conversion of the second argument of issubdtype from `int` to `np.signedinteger` is deprecated. In future, it will be treated as `np.int64 == np.dtype(int).type`.\n",
            "  if np.issubdtype(vec.dtype, np.int):\n"
          ],
          "name": "stderr"
        },
        {
          "output_type": "execute_result",
          "data": {
            "text/plain": [
              "[('airline', 0.9999422430992126),\n",
              " ('customer', 0.999931275844574),\n",
              " ('service', 0.9999234676361084),\n",
              " ('economy', 0.9999073147773743),\n",
              " ('staff', 0.9999057650566101)]"
            ]
          },
          "metadata": {
            "tags": []
          },
          "execution_count": 30
        }
      ]
    },
    {
      "cell_type": "markdown",
      "metadata": {
        "id": "JizbmCd93Pw7",
        "colab_type": "text"
      },
      "source": [
        "\n",
        "*   TF-IDF to find top-2 most-common words from Test set\n",
        "\n",
        "\n",
        "> Tf-idf stands for term frequency-inverse document frequency, and the tf-idf weight is a weight often used in information retrieval and text mining. This weight is a statistical measure used to evaluate how important a word is to a document in a collection or corpus. The importance increases proportionally to the number of times a word appears in the document but is offset by the frequency of the word in the corpus. Variations of the tf-idf weighting scheme are often used by search engines as a central tool in scoring and ranking a document's relevance given a user query (http://www.tfidf.com/)\n",
        "\n",
        "\n"
      ]
    },
    {
      "cell_type": "code",
      "metadata": {
        "id": "7-T54oPY2Hfv",
        "colab_type": "code",
        "colab": {}
      },
      "source": [
        "from sklearn.feature_extraction.text import TfidfVectorizer\n",
        "final = [(tagged_word[0]) for tagged_word in adjNounTest]\n",
        "vectorizer = TfidfVectorizer(max_features=2)\n",
        "X = vectorizer.fit_transform(final)\n",
        "words = vectorizer.get_feature_names()"
      ],
      "execution_count": null,
      "outputs": []
    },
    {
      "cell_type": "markdown",
      "metadata": {
        "id": "MqCdSm5l5uCn",
        "colab_type": "text"
      },
      "source": [
        "*   T-SNE (t-distributed stochastic neighbouring embedding)\n",
        "\n",
        "> The visualization can be useful to understand how Word2Vec works and how to interpret relations between vectors captured from your texts before using them in neural networks or other machine learning algorithms.\n",
        "\n",
        "> T-SNE is quite useful in case it is necessary to visualize similarity between objects which are located into multidimensional space. With a large dataset, it is becoming more and more difficult to make an easy-to-read t-SNE plot, so it is common practice to visualize groups of the most similar words.\n",
        "\n"
      ]
    },
    {
      "cell_type": "code",
      "metadata": {
        "id": "Xl4-lgGz2HXZ",
        "colab_type": "code",
        "colab": {
          "base_uri": "https://localhost:8080/",
          "height": 139
        },
        "outputId": "9c043b36-683c-4594-eed1-280f0bd9bf12"
      },
      "source": [
        "embedding_clusters = []\n",
        "word_clusters = []\n",
        "for word in words:\n",
        "    embeddings = []\n",
        "    words = []\n",
        "    for similar_word, _ in w2v.most_similar(word, topn=30):\n",
        "        words.append(similar_word)\n",
        "        embeddings.append(w2v[similar_word])\n",
        "    embedding_clusters.append(embeddings)\n",
        "    word_clusters.append(words)"
      ],
      "execution_count": null,
      "outputs": [
        {
          "output_type": "stream",
          "text": [
            "/usr/local/lib/python3.6/dist-packages/ipykernel_launcher.py:6: DeprecationWarning: Call to deprecated `most_similar` (Method will be removed in 4.0.0, use self.wv.most_similar() instead).\n",
            "  \n",
            "/usr/local/lib/python3.6/dist-packages/gensim/matutils.py:737: FutureWarning: Conversion of the second argument of issubdtype from `int` to `np.signedinteger` is deprecated. In future, it will be treated as `np.int64 == np.dtype(int).type`.\n",
            "  if np.issubdtype(vec.dtype, np.int):\n",
            "/usr/local/lib/python3.6/dist-packages/ipykernel_launcher.py:8: DeprecationWarning: Call to deprecated `__getitem__` (Method will be removed in 4.0.0, use self.wv.__getitem__() instead).\n",
            "  \n"
          ],
          "name": "stderr"
        }
      ]
    },
    {
      "cell_type": "markdown",
      "metadata": {
        "id": "78C2kILt7lWo",
        "colab_type": "text"
      },
      "source": [
        "\n",
        "\n",
        "> Next, we need to configure the TSNE. So, there are a few hyperparameters, we should be aware of\n",
        "\n"
      ]
    },
    {
      "cell_type": "markdown",
      "metadata": {
        "id": "29vrNzeP7y3r",
        "colab_type": "text"
      },
      "source": [
        "\n",
        "\n",
        "*   **perplexity**: It is a value which in context of T-SNE, may be viewed as a smooth measure of the effective number of neighbours. It is related to the number of nearest neighbours that are employed in many other manifold learners\n",
        "*   **n_components**: dimension of the output space\n",
        "*   **n_iter**: Maximum number of iterations for optimization\n",
        "*   **init**: Initialization of embedding matrix\n",
        "\n",
        "\n",
        "\n"
      ]
    },
    {
      "cell_type": "code",
      "metadata": {
        "id": "Cd5IpzLG3eq9",
        "colab_type": "code",
        "colab": {}
      },
      "source": [
        "from sklearn.manifold import TSNE\n",
        "\n",
        "embedding_clusters = np.array(embedding_clusters)\n",
        "n, m, k = embedding_clusters.shape\n",
        "tsne_model_en_2d = TSNE(perplexity=15, n_components=2, init='pca', n_iter=3500, random_state=32)\n",
        "embeddings_en_2d = np.array(tsne_model_en_2d.fit_transform(embedding_clusters.reshape(n * m, k))).reshape(n, m, 2)"
      ],
      "execution_count": null,
      "outputs": []
    },
    {
      "cell_type": "markdown",
      "metadata": {
        "id": "Mr1Q8U0-8tc2",
        "colab_type": "text"
      },
      "source": [
        "*   Plotting the TSNE\n",
        "\n"
      ]
    },
    {
      "cell_type": "code",
      "metadata": {
        "id": "pIfvPJam6kuH",
        "colab_type": "code",
        "colab": {
          "base_uri": "https://localhost:8080/",
          "height": 551
        },
        "outputId": "ae757ccd-c518-428e-a5f9-5cfb66e79b79"
      },
      "source": [
        "def tsne_plot_similar_words(title, labels, embedding_clusters, word_clusters, a, filename=None):\n",
        "    '''\n",
        "    This function returns a t-distributed stochastic neighbour embedding similarity plot graph.\n",
        "    '''\n",
        "    plt.figure(figsize=(16, 9))\n",
        "    for label, embeddings, words in zip(labels, embedding_clusters, word_clusters):\n",
        "        x = embeddings[:, 0]\n",
        "        y = embeddings[:, 1]\n",
        "        plt.scatter(x, y, alpha=a, label=label)\n",
        "        for i, word in enumerate(words):\n",
        "            plt.annotate(word, alpha=0.5, xy=(x[i], y[i]), xytext=(5, 2),\n",
        "                         textcoords='offset points', ha='right', va='bottom', size=8)\n",
        "    plt.legend(loc=4)\n",
        "    plt.title(title)\n",
        "    plt.grid(True)\n",
        "    if filename:\n",
        "        plt.savefig(filename, format='png', dpi=150, bbox_inches='tight')\n",
        "    plt.show()\n",
        "\n",
        "\n",
        "tsne_plot_similar_words('Similar words for top 2 words from Test-Data', words, embeddings_en_2d, word_clusters, 0.7)"
      ],
      "execution_count": null,
      "outputs": [
        {
          "output_type": "display_data",
          "data": {
            "image/png": "[encoded data removed]",
            "text/plain": [
              "<Figure size 1152x648 with 1 Axes>"
            ]
          },
          "metadata": {
            "tags": [],
            "needs_background": "light"
          }
        }
      ]
    },
    {
      "cell_type": "markdown",
      "metadata": {
        "id": "aqGt2Iew9E2_",
        "colab_type": "text"
      },
      "source": [
        "*   Interpretation of the graph\n",
        "\n",
        "> From the Test Dataset, using TF-IDF we found that the words \"Food\" and \"Hour\" are most common. So, to find the words in the embedding that are most associated with these two words, we plotted a TSNE-plot.\n",
        "As, described before, TSNE finds the nearest neighbour embedding for the words and thus, the TSNE plotted shows clusters of words that are closely embeded together.\n",
        "Orange highlights the words that are associated for the word-HOUR, Blue highlights the words that are associated for the word-FOOD. and the Brown highlighted words are associated with both the words Hour and Food\n",
        "\n",
        "\n",
        "\n"
      ]
    },
    {
      "cell_type": "markdown",
      "metadata": {
        "id": "RryTbFUL-suV",
        "colab_type": "text"
      },
      "source": [
        "#7. Helper functions for Embedding as features in Neural Model"
      ]
    },
    {
      "cell_type": "markdown",
      "metadata": {
        "id": "TUYWsUIUJJUZ",
        "colab_type": "text"
      },
      "source": [
        "*   Dicitionary to map words to their corresponding ids\n",
        "\n",
        "> Replace the words and tags with their corresponding indexes and split the data into input and output tag labels\n",
        "\n",
        "\n",
        "\n",
        "\n"
      ]
    },
    {
      "cell_type": "code",
      "metadata": {
        "id": "dBr8ptEjJE30",
        "colab_type": "code",
        "colab": {}
      },
      "source": [
        "def tag2Vocab (tag_words):\n",
        "  '''\n",
        "  Returns a dictionary.\n",
        "  '''\n",
        "  tag2id = {}\n",
        "  #for terms in tag_words:\n",
        "  for item in tag_words:\n",
        "    tag = item[1]\n",
        "    tag2id.setdefault(tag, len(tag2id))\n",
        "  return tag2id"
      ],
      "execution_count": null,
      "outputs": []
    },
    {
      "cell_type": "code",
      "metadata": {
        "id": "myvC5wVhJLaT",
        "colab_type": "code",
        "colab": {}
      },
      "source": [
        "word2id = {key: value.index for key, value in word_vector.vocab.items()}"
      ],
      "execution_count": null,
      "outputs": []
    },
    {
      "cell_type": "code",
      "metadata": {
        "id": "CMedMwlBJMeG",
        "colab_type": "code",
        "colab": {}
      },
      "source": [
        "tag2id = tag2Vocab(adjNounTrain)"
      ],
      "execution_count": null,
      "outputs": []
    },
    {
      "cell_type": "markdown",
      "metadata": {
        "id": "Dny0zH87JOgF",
        "colab_type": "text"
      },
      "source": [
        "\n",
        "*   Getting an Integer Model\n",
        "\n",
        "\n",
        "> Creating an integer array of the test and train dataset\n",
        "\n",
        "\n",
        "\n"
      ]
    },
    {
      "cell_type": "code",
      "metadata": {
        "id": "mYDXeCNrJNhO",
        "colab_type": "code",
        "colab": {}
      },
      "source": [
        "def intData (tag_words, word2id, tag2id):\n",
        "  '''\n",
        "  Returns a numpy array.\n",
        "  '''\n",
        "  x,y = [], []\n",
        "  unk = []\n",
        "  unknown_count = 0\n",
        "  for w, t in tag_words:\n",
        "    if w in word2id:\n",
        "      y.append(tag2id.get(t))\n",
        "      x.append(word2id.get(w))\n",
        "    else:\n",
        "      unk.append(w)\n",
        "      unknown_count += 1\n",
        "  print(\"Data created. Count of Unknown words\", len(unk))\n",
        "  return np.array(x), np.array(y), unk"
      ],
      "execution_count": null,
      "outputs": []
    },
    {
      "cell_type": "code",
      "metadata": {
        "id": "2hicl5KAJR38",
        "colab_type": "code",
        "colab": {
          "base_uri": "https://localhost:8080/",
          "height": 34
        },
        "outputId": "1b62d62d-91ab-4395-ecb8-61082df34a7b"
      },
      "source": [
        "x_train, y_train, train_unk = intData(posTrain, word2id, tag2id)"
      ],
      "execution_count": null,
      "outputs": [
        {
          "output_type": "stream",
          "text": [
            "Data created. Count of Unknown words 14898\n"
          ],
          "name": "stdout"
        }
      ]
    },
    {
      "cell_type": "code",
      "metadata": {
        "id": "MPWwQLmTJUp0",
        "colab_type": "code",
        "colab": {
          "base_uri": "https://localhost:8080/",
          "height": 34
        },
        "outputId": "f2a3e245-84c2-4ca0-8818-a0a0c335cfb8"
      },
      "source": [
        "x_test, y_test, test_unk = intData(posTest, word2id, tag2id)"
      ],
      "execution_count": null,
      "outputs": [
        {
          "output_type": "stream",
          "text": [
            "Data created. Count of Unknown words 7322\n"
          ],
          "name": "stdout"
        }
      ]
    },
    {
      "cell_type": "code",
      "metadata": {
        "id": "y4suinaWJVud",
        "colab_type": "code",
        "colab": {
          "base_uri": "https://localhost:8080/",
          "height": 34
        },
        "outputId": "a377c128-bba1-4dc9-c00b-84be2b87a1e5"
      },
      "source": [
        "x_train.shape, x_test.shape, y_train.shape, y_test.shape"
      ],
      "execution_count": null,
      "outputs": [
        {
          "output_type": "execute_result",
          "data": {
            "text/plain": [
              "((48791,), (19851,), (48791,), (19851,))"
            ]
          },
          "metadata": {
            "tags": []
          },
          "execution_count": 41
        }
      ]
    },
    {
      "cell_type": "code",
      "metadata": {
        "id": "IwI8n4XCJbAE",
        "colab_type": "code",
        "colab": {}
      },
      "source": [
        "embedding_matrix = word_vector.vectors"
      ],
      "execution_count": null,
      "outputs": []
    },
    {
      "cell_type": "code",
      "metadata": {
        "id": "EqX_bdQlJcM1",
        "colab_type": "code",
        "colab": {
          "base_uri": "https://localhost:8080/",
          "height": 34
        },
        "outputId": "fb3acadb-d46e-471f-829c-3fea60d23b1f"
      },
      "source": [
        "embedding_matrix.shape"
      ],
      "execution_count": null,
      "outputs": [
        {
          "output_type": "execute_result",
          "data": {
            "text/plain": [
              "(4170, 300)"
            ]
          },
          "metadata": {
            "tags": []
          },
          "execution_count": 43
        }
      ]
    },
    {
      "cell_type": "markdown",
      "metadata": {
        "id": "-VbdWYvPJYQl",
        "colab_type": "text"
      },
      "source": [
        "\n",
        "*   Adding missing words, if any\n",
        "\n",
        "\n"
      ]
    },
    {
      "cell_type": "code",
      "metadata": {
        "id": "E4_DD8lBJXR_",
        "colab_type": "code",
        "colab": {}
      },
      "source": [
        "def add_new_word (new_word, new_vector, new_index, embedding_matrix, word2id):\n",
        "  '''\n",
        "  This function adds missing words and references the embedding matrix.\n",
        "  '''\n",
        "  embedding_matrix = np.insert(embedding_matrix, [new_index], [new_vector], axis=0)\n",
        "\n",
        "  word2id = {word: (index+1) if index >= new_index else index for word, index in word2id.items()}\n",
        "\n",
        "  word2id[new_word] = new_index\n",
        "\n",
        "  return embedding_matrix, word2id"
      ],
      "execution_count": null,
      "outputs": []
    },
    {
      "cell_type": "code",
      "metadata": {
        "id": "LePp2gs3JhEw",
        "colab_type": "code",
        "colab": {}
      },
      "source": [
        "unk_vector = embedding_matrix.mean(0)"
      ],
      "execution_count": null,
      "outputs": []
    },
    {
      "cell_type": "code",
      "metadata": {
        "id": "XjpKCJcaJidj",
        "colab_type": "code",
        "colab": {}
      },
      "source": [
        "common = list(set(train_unk)&set(test_unk))"
      ],
      "execution_count": null,
      "outputs": []
    },
    {
      "cell_type": "code",
      "metadata": {
        "id": "mQCAEOe-Jjf1",
        "colab_type": "code",
        "colab": {
          "base_uri": "https://localhost:8080/",
          "height": 34
        },
        "outputId": "3b0dcd35-32fb-4514-ea0f-a30244cbb86b"
      },
      "source": [
        "len(common)"
      ],
      "execution_count": null,
      "outputs": [
        {
          "output_type": "execute_result",
          "data": {
            "text/plain": [
              "1021"
            ]
          },
          "metadata": {
            "tags": []
          },
          "execution_count": 47
        }
      ]
    },
    {
      "cell_type": "code",
      "metadata": {
        "id": "AJrHM9f2Jkjl",
        "colab_type": "code",
        "colab": {}
      },
      "source": [
        "for i in range(0, len(common)):\n",
        "  embedding_matrix, word2id = add_new_word(common[i], unk_vector, \n",
        "                                           i, embedding_matrix, word2id)"
      ],
      "execution_count": null,
      "outputs": []
    },
    {
      "cell_type": "code",
      "metadata": {
        "id": "mSMS5idXJmMS",
        "colab_type": "code",
        "colab": {
          "base_uri": "https://localhost:8080/",
          "height": 51
        },
        "outputId": "4e5131f2-1f2c-4812-9167-e4799ef7fbd4"
      },
      "source": [
        "x_train, y_train, train_unk = intData(adjNounTrain, word2id, tag2id)\n",
        "x_test, y_test, test_unk = intData(adjNounTest, word2id, tag2id)"
      ],
      "execution_count": null,
      "outputs": [
        {
          "output_type": "stream",
          "text": [
            "Data created. Count of Unknown words 0\n",
            "Data created. Count of Unknown words 766\n"
          ],
          "name": "stdout"
        }
      ]
    },
    {
      "cell_type": "code",
      "metadata": {
        "id": "UPhNnCSXJnYs",
        "colab_type": "code",
        "colab": {}
      },
      "source": [
        "y_train = to_categorical(y_train)\n",
        "y_test = to_categorical(y_test)"
      ],
      "execution_count": null,
      "outputs": []
    },
    {
      "cell_type": "code",
      "metadata": {
        "id": "V7-dzsXZJoow",
        "colab_type": "code",
        "colab": {
          "base_uri": "https://localhost:8080/",
          "height": 34
        },
        "outputId": "4002a9d6-6c42-4b2e-88a4-46a14a8413f4"
      },
      "source": [
        "y_train.shape, y_test.shape, x_train.shape, x_test.shape"
      ],
      "execution_count": null,
      "outputs": [
        {
          "output_type": "execute_result",
          "data": {
            "text/plain": [
              "((35719, 2), (14523, 2), (35719,), (14523,))"
            ]
          },
          "metadata": {
            "tags": []
          },
          "execution_count": 51
        }
      ]
    },
    {
      "cell_type": "markdown",
      "metadata": {
        "id": "8BkKcf1-JrNu",
        "colab_type": "text"
      },
      "source": [
        "# 8. Training Neural Network"
      ]
    },
    {
      "cell_type": "markdown",
      "metadata": {
        "id": "KjNTjgOJE172",
        "colab_type": "text"
      },
      "source": [
        "Our intention was to use the Word2Vec to extract features for adjective-noun part-of-speech tagging models and therefore, we designed a simple neural network model for multi-class classification"
      ]
    },
    {
      "cell_type": "code",
      "metadata": {
        "id": "n-VTZezfJqHy",
        "colab_type": "code",
        "colab": {
          "base_uri": "https://localhost:8080/",
          "height": 34
        },
        "outputId": "d6ac4104-3093-47a8-fc89-80b40af30f63"
      },
      "source": [
        "len(embedding_matrix), len(tag2id)"
      ],
      "execution_count": null,
      "outputs": [
        {
          "output_type": "execute_result",
          "data": {
            "text/plain": [
              "(5191, 2)"
            ]
          },
          "metadata": {
            "tags": []
          },
          "execution_count": 52
        }
      ]
    },
    {
      "cell_type": "code",
      "metadata": {
        "id": "WqzU8A7pJvNa",
        "colab_type": "code",
        "colab": {}
      },
      "source": [
        "hidden_size = 50\n",
        "batch_size = 128\n",
        "\n",
        "def define_model(embedding_matrix, tag2id ):\n",
        "  '''\n",
        "  This function defines a Sequential Neural Network.\n",
        "  '''\n",
        "  class_count = len(tag2id)\n",
        "  vocab_length = len(embedding_matrix)\n",
        "  print(embedding_matrix.shape)\n",
        "  model = Sequential()\n",
        "\n",
        "  model.add(Embedding(input_dim=vocab_length, \n",
        "                      output_dim = dim, \n",
        "                      weights = [embedding_matrix],\n",
        "                      input_length = 1))\n",
        "  \n",
        "  model.add(Flatten())\n",
        "\n",
        "  model.add(Dense(hidden_size))\n",
        "\n",
        "  model.add(Activation(\"sigmoid\"))\n",
        "\n",
        "  model.add(Dense(class_count))\n",
        "\n",
        "  model.add(Activation(\"softmax\"))\n",
        "\n",
        "  model.compile(optimizer=tf.optimizers.Adam(),\n",
        "                loss = \"categorical_crossentropy\",\n",
        "                metrics = [\"accuracy\"])\n",
        "  \n",
        "  return model"
      ],
      "execution_count": null,
      "outputs": []
    },
    {
      "cell_type": "code",
      "metadata": {
        "id": "FAs3mU5GJ1GP",
        "colab_type": "code",
        "colab": {
          "base_uri": "https://localhost:8080/",
          "height": 34
        },
        "outputId": "596634cf-cd1f-4eef-e36e-9beac337faf1"
      },
      "source": [
        "pos_model = define_model(embedding_matrix, tag2id)"
      ],
      "execution_count": null,
      "outputs": [
        {
          "output_type": "stream",
          "text": [
            "(5191, 300)\n"
          ],
          "name": "stdout"
        }
      ]
    },
    {
      "cell_type": "code",
      "metadata": {
        "id": "1dAeWqT9J-SF",
        "colab_type": "code",
        "colab": {
          "base_uri": "https://localhost:8080/",
          "height": 394
        },
        "outputId": "253a9973-a919-40c6-9c5b-1a27e7af973e"
      },
      "source": [
        "history = pos_model.fit(x_train, y_train, epochs=10, verbose=1,  validation_data=(x_test,y_test))"
      ],
      "execution_count": null,
      "outputs": [
        {
          "output_type": "stream",
          "text": [
            "Train on 35719 samples, validate on 14523 samples\n",
            "Epoch 1/10\n",
            "35719/35719 [==============================] - 18s 497us/step - loss: 0.3176 - accuracy: 0.8555 - val_loss: 0.2707 - val_accuracy: 0.8808\n",
            "Epoch 2/10\n",
            "35719/35719 [==============================] - 17s 484us/step - loss: 0.2436 - accuracy: 0.8991 - val_loss: 0.2707 - val_accuracy: 0.8805\n",
            "Epoch 3/10\n",
            "35719/35719 [==============================] - 17s 477us/step - loss: 0.2284 - accuracy: 0.9005 - val_loss: 0.2751 - val_accuracy: 0.8808\n",
            "Epoch 4/10\n",
            "35719/35719 [==============================] - 18s 490us/step - loss: 0.2215 - accuracy: 0.9021 - val_loss: 0.2768 - val_accuracy: 0.8811\n",
            "Epoch 5/10\n",
            "35719/35719 [==============================] - 17s 481us/step - loss: 0.2180 - accuracy: 0.9025 - val_loss: 0.2813 - val_accuracy: 0.8847\n",
            "Epoch 6/10\n",
            "35719/35719 [==============================] - 17s 482us/step - loss: 0.2150 - accuracy: 0.9018 - val_loss: 0.2852 - val_accuracy: 0.8827\n",
            "Epoch 7/10\n",
            "35719/35719 [==============================] - 17s 482us/step - loss: 0.2123 - accuracy: 0.9027 - val_loss: 0.2921 - val_accuracy: 0.8810\n",
            "Epoch 8/10\n",
            "35719/35719 [==============================] - 18s 497us/step - loss: 0.2104 - accuracy: 0.9037 - val_loss: 0.2899 - val_accuracy: 0.8812\n",
            "Epoch 9/10\n",
            "35719/35719 [==============================] - 18s 497us/step - loss: 0.2089 - accuracy: 0.9042 - val_loss: 0.2890 - val_accuracy: 0.8835\n",
            "Epoch 10/10\n",
            "35719/35719 [==============================] - 18s 497us/step - loss: 0.2077 - accuracy: 0.9045 - val_loss: 0.2971 - val_accuracy: 0.8842\n"
          ],
          "name": "stdout"
        }
      ]
    },
    {
      "cell_type": "markdown",
      "metadata": {
        "id": "pUqnDWSpFCa6",
        "colab_type": "text"
      },
      "source": [
        "Summary"
      ]
    },
    {
      "cell_type": "code",
      "metadata": {
        "id": "knOxc144B3NX",
        "colab_type": "code",
        "colab": {
          "base_uri": "https://localhost:8080/",
          "height": 357
        },
        "outputId": "8f0b2ffa-9f5b-4381-aa66-f852ec1fd7a4"
      },
      "source": [
        "pos_model.summary()"
      ],
      "execution_count": null,
      "outputs": [
        {
          "output_type": "stream",
          "text": [
            "Model: \"sequential_1\"\n",
            "_________________________________________________________________\n",
            "Layer (type)                 Output Shape              Param #   \n",
            "=================================================================\n",
            "embedding_1 (Embedding)      (None, 1, 300)            1557300   \n",
            "_________________________________________________________________\n",
            "flatten_1 (Flatten)          (None, 300)               0         \n",
            "_________________________________________________________________\n",
            "dense_1 (Dense)              (None, 50)                15050     \n",
            "_________________________________________________________________\n",
            "activation_1 (Activation)    (None, 50)                0         \n",
            "_________________________________________________________________\n",
            "dense_2 (Dense)              (None, 2)                 102       \n",
            "_________________________________________________________________\n",
            "activation_2 (Activation)    (None, 2)                 0         \n",
            "=================================================================\n",
            "Total params: 1,572,452\n",
            "Trainable params: 1,572,452\n",
            "Non-trainable params: 0\n",
            "_________________________________________________________________\n"
          ],
          "name": "stdout"
        }
      ]
    },
    {
      "cell_type": "markdown",
      "metadata": {
        "id": "daQXHTo6BYwI",
        "colab_type": "text"
      },
      "source": [
        "#9.Evaluation of Network Model"
      ]
    },
    {
      "cell_type": "markdown",
      "metadata": {
        "id": "h6TF7ulbBg-J",
        "colab_type": "text"
      },
      "source": [
        "\n",
        "\n",
        "*   Classification Report\n",
        "\n",
        "\n",
        "> Build a text report showing the main classification metrics\n",
        "\n",
        "\n",
        "\n",
        "\n",
        "\n"
      ]
    },
    {
      "cell_type": "code",
      "metadata": {
        "id": "QKVYDrcZBas9",
        "colab_type": "code",
        "colab": {}
      },
      "source": [
        "from sklearn.metrics import classification_report"
      ],
      "execution_count": null,
      "outputs": []
    },
    {
      "cell_type": "code",
      "metadata": {
        "id": "liYb-r1oBarN",
        "colab_type": "code",
        "colab": {}
      },
      "source": [
        "predictions = pos_model.predict(x_test)"
      ],
      "execution_count": null,
      "outputs": []
    },
    {
      "cell_type": "code",
      "metadata": {
        "id": "MnQeB2pxBapR",
        "colab_type": "code",
        "colab": {}
      },
      "source": [
        "df = pd.DataFrame(predictions, columns=['NN', 'JJ'])"
      ],
      "execution_count": null,
      "outputs": []
    },
    {
      "cell_type": "code",
      "metadata": {
        "id": "I-iDTI8ABam-",
        "colab_type": "code",
        "colab": {}
      },
      "source": [
        "for i in range(0, len(df)):\n",
        "  if (df.NN.iloc[i] < df.JJ.iloc[i]):\n",
        "    df.NN.iloc[i] = 0\n",
        "    df.JJ.iloc[i] = 1\n",
        "  else:\n",
        "    df.NN.iloc[i] = 1\n",
        "    df.JJ.iloc[i] = 0"
      ],
      "execution_count": null,
      "outputs": []
    },
    {
      "cell_type": "code",
      "metadata": {
        "id": "7JP1p7LgBaib",
        "colab_type": "code",
        "colab": {}
      },
      "source": [
        "predicitons = df.to_numpy()"
      ],
      "execution_count": null,
      "outputs": []
    },
    {
      "cell_type": "code",
      "metadata": {
        "id": "kXTrxCKOB0xz",
        "colab_type": "code",
        "colab": {
          "base_uri": "https://localhost:8080/",
          "height": 187
        },
        "outputId": "dd523a86-29a0-40be-e4a4-e46f961b38f2"
      },
      "source": [
        "print(classification_report(y_test, predictions))"
      ],
      "execution_count": null,
      "outputs": [
        {
          "output_type": "stream",
          "text": [
            "              precision    recall  f1-score   support\n",
            "\n",
            "           0       0.90      0.93      0.92      9845\n",
            "           1       0.85      0.78      0.81      4678\n",
            "\n",
            "   micro avg       0.88      0.88      0.88     14523\n",
            "   macro avg       0.87      0.86      0.86     14523\n",
            "weighted avg       0.88      0.88      0.88     14523\n",
            " samples avg       0.88      0.88      0.88     14523\n",
            "\n"
          ],
          "name": "stdout"
        }
      ]
    },
    {
      "cell_type": "markdown",
      "metadata": {
        "id": "t7MYNudPCPms",
        "colab_type": "text"
      },
      "source": [
        "\n",
        "\n",
        "*   ROC - AUC Score and Curve\n",
        "\n",
        "\n",
        "\n",
        "> AUC - ROC curve is a performance measurement for classification problem at various thresholds settings. ROC is a probability curve and AUC represents degree or measure of separability. It tells how much model is capable of distinguishing between classes. Higher the AUC, better the model is at predicting 0s as 0s and 1s as 1s. (https://towardsdatascience.com/understanding-auc-roc-curve-68b2303cc9c5)\n",
        "\n",
        "\n",
        "\n"
      ]
    },
    {
      "cell_type": "code",
      "metadata": {
        "id": "SKoMGtdI2s4J",
        "colab_type": "code",
        "colab": {}
      },
      "source": [
        "hidden_size = 50\n",
        "batch_size = 128\n",
        "\n",
        "def define_model1():\n",
        "  '''\n",
        "  This function defines a Sequential Neural Network.\n",
        "  '''\n",
        "  class_count = len(tag2id)\n",
        "  vocab_length = len(embedding_matrix)\n",
        "  print(embedding_matrix.shape)\n",
        "  model = Sequential()\n",
        "\n",
        "  model.add(Embedding(input_dim=vocab_length, \n",
        "                      output_dim = dim, \n",
        "                      weights = [embedding_matrix],\n",
        "                      input_length = 1))\n",
        "  \n",
        "  model.add(Flatten())\n",
        "\n",
        "  model.add(Dense(hidden_size))\n",
        "\n",
        "  model.add(Activation(\"sigmoid\"))\n",
        "\n",
        "  model.add(Dense(class_count))\n",
        "\n",
        "  model.add(Activation(\"softmax\"))\n",
        "\n",
        "  model.compile(optimizer=tf.optimizers.Adam(),\n",
        "                loss = \"categorical_crossentropy\",\n",
        "                metrics = [\"accuracy\"])\n",
        "  \n",
        "  return model"
      ],
      "execution_count": null,
      "outputs": []
    },
    {
      "cell_type": "code",
      "metadata": {
        "id": "WI1KpR9hCTLN",
        "colab_type": "code",
        "colab": {
          "base_uri": "https://localhost:8080/",
          "height": 68
        },
        "outputId": "795c7258-3233-4a52-cf39-bac2e0f6a0db"
      },
      "source": [
        "# roc curve and auc for binary label\n",
        "from sklearn.metrics import roc_curve\n",
        "from sklearn.metrics import roc_auc_score\n",
        "from sklearn.metrics import auc\n",
        "from matplotlib import pyplot\n",
        "\n",
        "# generate a no skill prediction (majority class)\n",
        "# fit a model\n",
        "model = define_model1()\n",
        "model.fit(x_train, y_train)\n",
        "# predict probabilities\n",
        "sq_probs = model.predict_proba(x_test)"
      ],
      "execution_count": null,
      "outputs": [
        {
          "output_type": "stream",
          "text": [
            "(5191, 300)\n",
            "Epoch 1/1\n",
            "35719/35719 [==============================] - 17s 471us/step - loss: 0.3208 - accuracy: 0.8497\n"
          ],
          "name": "stdout"
        }
      ]
    },
    {
      "cell_type": "code",
      "metadata": {
        "id": "eIbk4qe6V-uE",
        "colab_type": "code",
        "colab": {
          "base_uri": "https://localhost:8080/",
          "height": 34
        },
        "outputId": "74b01a8a-d763-4324-a16b-d6bc6c4e9eca"
      },
      "source": [
        "# calculate scores\n",
        "skill_auc = roc_auc_score(y_test, sq_probs)\n",
        "\n",
        "\n",
        "# summarize scores\n",
        "print('Sequential: ROC AUC=%.3f' % (skill_auc))"
      ],
      "execution_count": null,
      "outputs": [
        {
          "output_type": "stream",
          "text": [
            "Sequential: ROC AUC=0.945\n"
          ],
          "name": "stdout"
        }
      ]
    },
    {
      "cell_type": "markdown",
      "metadata": {
        "id": "Le1Lih8cWDbM",
        "colab_type": "text"
      },
      "source": [
        "Changing Shape for ROC Curve"
      ]
    },
    {
      "cell_type": "code",
      "metadata": {
        "id": "0rLMui5GWAZH",
        "colab_type": "code",
        "colab": {
          "base_uri": "https://localhost:8080/",
          "height": 51
        },
        "outputId": "362d63e6-40b5-49a5-d713-91813ca64adc"
      },
      "source": [
        "x_train, y_train, train_unk = intData(adjNounTrain, word2id, tag2id)\n",
        "x_test, y_test, test_unk = intData(adjNounTest, word2id, tag2id)"
      ],
      "execution_count": null,
      "outputs": [
        {
          "output_type": "stream",
          "text": [
            "Data created. Count of Unknown words 0\n",
            "Data created. Count of Unknown words 766\n"
          ],
          "name": "stdout"
        }
      ]
    },
    {
      "cell_type": "markdown",
      "metadata": {
        "id": "68MKeWPMWGvV",
        "colab_type": "text"
      },
      "source": [
        "ROC Curve"
      ]
    },
    {
      "cell_type": "code",
      "metadata": {
        "id": "sU6EzyiEWAU6",
        "colab_type": "code",
        "colab": {
          "base_uri": "https://localhost:8080/",
          "height": 279
        },
        "outputId": "486c1cd3-bf33-460a-f78f-a83981229bc7"
      },
      "source": [
        "sq_probs = sq_probs[:, 1]\n",
        "# calculate roc curves\n",
        "ns_fpr, ns_tpr, _ = roc_curve(y_test, sq_probs)\n",
        "\n",
        "# plot the roc curve for the model\n",
        "pyplot.plot(ns_fpr, ns_tpr, linestyle='--', label='Sequential')\n",
        "\n",
        "# axis labels\n",
        "pyplot.xlabel('False Positive Rate')\n",
        "pyplot.ylabel('True Positive Rate')\n",
        "# show the legend\n",
        "pyplot.legend()\n",
        "# show the plot\n",
        "pyplot.show()"
      ],
      "execution_count": null,
      "outputs": [
        {
          "output_type": "display_data",
          "data": {
            "image/png": "[encoded data removed]",
            "text/plain": [
              "<Figure size 432x288 with 1 Axes>"
            ]
          },
          "metadata": {
            "tags": [],
            "needs_background": "light"
          }
        }
      ]
    },
    {
      "cell_type": "markdown",
      "metadata": {
        "id": "DJSTVi4YTmVC",
        "colab_type": "text"
      },
      "source": [
        "# 10. Output Result"
      ]
    },
    {
      "cell_type": "markdown",
      "metadata": {
        "id": "piuxYc0nWKxX",
        "colab_type": "text"
      },
      "source": [
        "To get Testing Words"
      ]
    },
    {
      "cell_type": "code",
      "metadata": {
        "id": "1d9lsRtZToKw",
        "colab_type": "code",
        "colab": {}
      },
      "source": [
        "test = []\n",
        "for w,t in adjNounTest:\n",
        "  if (w not in test_unk):\n",
        "    test.append(w)"
      ],
      "execution_count": null,
      "outputs": []
    },
    {
      "cell_type": "code",
      "metadata": {
        "id": "nVEBbgOoWMWc",
        "colab_type": "code",
        "colab": {}
      },
      "source": [
        "new_df = pd.DataFrame(columns=['Words', 'Truth Value', 'Predicted', 'Prediciton_Probability', 'Cosine_Similarity_With_Previous_Word'])"
      ],
      "execution_count": null,
      "outputs": []
    },
    {
      "cell_type": "markdown",
      "metadata": {
        "id": "darEg_TaWPGE",
        "colab_type": "text"
      },
      "source": [
        "Cosine Distances"
      ]
    },
    {
      "cell_type": "code",
      "metadata": {
        "id": "HTnpGxKBWOEa",
        "colab_type": "code",
        "colab": {}
      },
      "source": [
        "def cosine_distance_between_two_words(word1, word2):\n",
        "    '''\n",
        "    Takes input of words and returns the cosine distance of each word.\n",
        "    '''\n",
        "    return (1- scipy.spatial.distance.cosine(w2v[word1], w2v[word2]))"
      ],
      "execution_count": null,
      "outputs": []
    },
    {
      "cell_type": "code",
      "metadata": {
        "id": "04Oh6WI_WQb3",
        "colab_type": "code",
        "colab": {
          "base_uri": "https://localhost:8080/",
          "height": 71
        },
        "outputId": "3737fa28-aa54-4fdd-f2ef-64537c910d6e"
      },
      "source": [
        "d= []\n",
        "for i in range(0, len(test)):\n",
        "  try:\n",
        "    dist = cosine_distance_between_two_words(test[i-1], test[i])\n",
        "  except KeyError as e:\n",
        "    dist = 0\n",
        "  d.append(dist)"
      ],
      "execution_count": null,
      "outputs": [
        {
          "output_type": "stream",
          "text": [
            "/usr/local/lib/python3.6/dist-packages/ipykernel_launcher.py:5: DeprecationWarning: Call to deprecated `__getitem__` (Method will be removed in 4.0.0, use self.wv.__getitem__() instead).\n",
            "  \"\"\"\n"
          ],
          "name": "stderr"
        }
      ]
    },
    {
      "cell_type": "code",
      "metadata": {
        "id": "pz3qUZ_PWRau",
        "colab_type": "code",
        "colab": {}
      },
      "source": [
        "new_df['Words'] = test\n",
        "new_df['Truth Value'] = y_test\n",
        "new_df['Predicted'] = predicitons[:,1:2]\n",
        "new_df['Prediciton_Probability'] = sq_probs\n",
        "new_df['Cosine_Similarity_With_Previous_Word'] = d"
      ],
      "execution_count": null,
      "outputs": []
    },
    {
      "cell_type": "code",
      "metadata": {
        "id": "t0IA8lTAWSw0",
        "colab_type": "code",
        "colab": {
          "base_uri": "https://localhost:8080/",
          "height": 204
        },
        "outputId": "71c1233a-a690-4d84-eb1d-ded0f1e4b1fe"
      },
      "source": [
        "new_df.head()"
      ],
      "execution_count": null,
      "outputs": [
        {
          "output_type": "execute_result",
          "data": {
            "text/html": [
              "<div>\n",
              "<style scoped>\n",
              "    .dataframe tbody tr th:only-of-type {\n",
              "        vertical-align: middle;\n",
              "    }\n",
              "\n",
              "    .dataframe tbody tr th {\n",
              "        vertical-align: top;\n",
              "    }\n",
              "\n",
              "    .dataframe thead th {\n",
              "        text-align: right;\n",
              "    }\n",
              "</style>\n",
              "<table border=\"1\" class=\"dataframe\">\n",
              "  <thead>\n",
              "    <tr style=\"text-align: right;\">\n",
              "      <th></th>\n",
              "      <th>Words</th>\n",
              "      <th>Truth Value</th>\n",
              "      <th>Predicted</th>\n",
              "      <th>Prediciton_Probability</th>\n",
              "      <th>Cosine_Similarity_With_Previous_Word</th>\n",
              "    </tr>\n",
              "  </thead>\n",
              "  <tbody>\n",
              "    <tr>\n",
              "      <th>0</th>\n",
              "      <td>mumbai</td>\n",
              "      <td>0</td>\n",
              "      <td>0.0</td>\n",
              "      <td>0.127098</td>\n",
              "      <td>0.924267</td>\n",
              "    </tr>\n",
              "    <tr>\n",
              "      <th>1</th>\n",
              "      <td>time</td>\n",
              "      <td>0</td>\n",
              "      <td>0.0</td>\n",
              "      <td>0.001646</td>\n",
              "      <td>0.972271</td>\n",
              "    </tr>\n",
              "    <tr>\n",
              "      <th>2</th>\n",
              "      <td>minute</td>\n",
              "      <td>0</td>\n",
              "      <td>0.0</td>\n",
              "      <td>0.340477</td>\n",
              "      <td>0.946484</td>\n",
              "    </tr>\n",
              "    <tr>\n",
              "      <th>3</th>\n",
              "      <td>everything</td>\n",
              "      <td>0</td>\n",
              "      <td>0.0</td>\n",
              "      <td>0.007644</td>\n",
              "      <td>0.887803</td>\n",
              "    </tr>\n",
              "    <tr>\n",
              "      <th>4</th>\n",
              "      <td>time</td>\n",
              "      <td>0</td>\n",
              "      <td>0.0</td>\n",
              "      <td>0.001646</td>\n",
              "      <td>0.988513</td>\n",
              "    </tr>\n",
              "  </tbody>\n",
              "</table>\n",
              "</div>"
            ],
            "text/plain": [
              "        Words  ...  Cosine_Similarity_With_Previous_Word\n",
              "0      mumbai  ...                              0.924267\n",
              "1        time  ...                              0.972271\n",
              "2      minute  ...                              0.946484\n",
              "3  everything  ...                              0.887803\n",
              "4        time  ...                              0.988513\n",
              "\n",
              "[5 rows x 5 columns]"
            ]
          },
          "metadata": {
            "tags": []
          },
          "execution_count": 75
        }
      ]
    },
    {
      "cell_type": "markdown",
      "metadata": {
        "id": "kUTONOanWaaW",
        "colab_type": "text"
      },
      "source": [
        "**Explanation**\n",
        "\n",
        "\n",
        "> As seen above, the word **TIME** has a truth value of 0, denoting that it is a Noun Word. Our prediciton for the same has been 0  as well.\n",
        "The prediciton probability for Noun Words = (1 - Probability(Adjective Words)) \n",
        "Also, time has a 0.972 cosine similarity with the previous word Mumbai and the word **MINUTE** has a 0.9464 similarity with the word time. \n",
        "That means, wherever we will find the word **TIME** the noun word **Mumbai** and **Minute** will also be occuring.\n",
        "Therefore letting us know about the contextual embedding of our dataset.\n",
        "\n",
        "\n"
      ]
    },
    {
      "cell_type": "code",
      "metadata": {
        "id": "4pOQomAuXW8f",
        "colab_type": "code",
        "colab": {}
      },
      "source": [
        "new_df.to_csv(path+'Result.csv')"
      ],
      "execution_count": null,
      "outputs": []
    }
  ]
}