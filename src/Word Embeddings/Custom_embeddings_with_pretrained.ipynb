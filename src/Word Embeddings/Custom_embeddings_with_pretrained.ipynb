{
  "nbformat": 4,
  "nbformat_minor": 0,
  "metadata": {
    "colab": {
      "name": "Custom_embeddings_with_pretrained.ipynb",
      "provenance": [],
      "collapsed_sections": [
        "bgsVvr5TopuO"
      ]
    },
    "kernelspec": {
      "name": "python3",
      "display_name": "Python 3"
    }
  },
  "cells": [
    {
      "cell_type": "markdown",
      "metadata": {
        "id": "NWmug8xIJE5G",
        "colab_type": "text"
      },
      "source": [
        "# Importing Project Dependencies"
      ]
    },
    {
      "cell_type": "code",
      "metadata": {
        "id": "bX1QOttjSGoC",
        "colab_type": "code",
        "colab": {
          "base_uri": "https://localhost:8080/",
          "height": 54
        },
        "outputId": "ad99d280-4bb6-43e7-88a8-b0068a7babc2"
      },
      "source": [
        "from google.colab import drive\n",
        "drive.mount('/content/drive')"
      ],
      "execution_count": null,
      "outputs": [
        {
          "output_type": "stream",
          "text": [
            "Drive already mounted at /content/drive; to attempt to forcibly remount, call drive.mount(\"/content/drive\", force_remount=True).\n"
          ],
          "name": "stdout"
        }
      ]
    },
    {
      "cell_type": "code",
      "metadata": {
        "id": "ZBUudD2tSRLw",
        "colab_type": "code",
        "colab": {
          "base_uri": "https://localhost:8080/",
          "height": 250
        },
        "outputId": "d63d6aa2-52da-4c15-f6f3-ae5e9d0450ed"
      },
      "source": [
        "!pip install glove_python"
      ],
      "execution_count": null,
      "outputs": [
        {
          "output_type": "stream",
          "text": [
            "Collecting glove_python\n",
            "\u001b[?25l  Downloading https://files.pythonhosted.org/packages/3e/79/7e7e548dd9dcb741935d031117f4bed133276c2a047aadad42f1552d1771/glove_python-0.1.0.tar.gz (263kB)\n",
            "\r\u001b[K     |█▎                              | 10kB 19.1MB/s eta 0:00:01\r\u001b[K     |██▌                             | 20kB 1.7MB/s eta 0:00:01\r\u001b[K     |███▊                            | 30kB 2.3MB/s eta 0:00:01\r\u001b[K     |█████                           | 40kB 2.6MB/s eta 0:00:01\r\u001b[K     |██████▎                         | 51kB 2.0MB/s eta 0:00:01\r\u001b[K     |███████▌                        | 61kB 2.3MB/s eta 0:00:01\r\u001b[K     |████████▊                       | 71kB 2.5MB/s eta 0:00:01\r\u001b[K     |██████████                      | 81kB 2.8MB/s eta 0:00:01\r\u001b[K     |███████████▏                    | 92kB 2.9MB/s eta 0:00:01\r\u001b[K     |████████████▌                   | 102kB 2.8MB/s eta 0:00:01\r\u001b[K     |█████████████▊                  | 112kB 2.8MB/s eta 0:00:01\r\u001b[K     |███████████████                 | 122kB 2.8MB/s eta 0:00:01\r\u001b[K     |████████████████▏               | 133kB 2.8MB/s eta 0:00:01\r\u001b[K     |█████████████████▍              | 143kB 2.8MB/s eta 0:00:01\r\u001b[K     |██████████████████▊             | 153kB 2.8MB/s eta 0:00:01\r\u001b[K     |████████████████████            | 163kB 2.8MB/s eta 0:00:01\r\u001b[K     |█████████████████████▏          | 174kB 2.8MB/s eta 0:00:01\r\u001b[K     |██████████████████████▍         | 184kB 2.8MB/s eta 0:00:01\r\u001b[K     |███████████████████████▋        | 194kB 2.8MB/s eta 0:00:01\r\u001b[K     |█████████████████████████       | 204kB 2.8MB/s eta 0:00:01\r\u001b[K     |██████████████████████████▏     | 215kB 2.8MB/s eta 0:00:01\r\u001b[K     |███████████████████████████▍    | 225kB 2.8MB/s eta 0:00:01\r\u001b[K     |████████████████████████████▋   | 235kB 2.8MB/s eta 0:00:01\r\u001b[K     |█████████████████████████████▉  | 245kB 2.8MB/s eta 0:00:01\r\u001b[K     |███████████████████████████████▏| 256kB 2.8MB/s eta 0:00:01\r\u001b[K     |████████████████████████████████| 266kB 2.8MB/s \n",
            "\u001b[?25hRequirement already satisfied: numpy in /usr/local/lib/python3.6/dist-packages (from glove_python) (1.18.5)\n",
            "Requirement already satisfied: scipy in /usr/local/lib/python3.6/dist-packages (from glove_python) (1.4.1)\n",
            "Building wheels for collected packages: glove-python\n",
            "  Building wheel for glove-python (setup.py) ... \u001b[?25l\u001b[?25hdone\n",
            "  Created wheel for glove-python: filename=glove_python-0.1.0-cp36-cp36m-linux_x86_64.whl size=700269 sha256=4224fa2e5af6696d76a21535ee2d943c7eb50cd0b4e5bc43d8c195b9b9e321e9\n",
            "  Stored in directory: /root/.cache/pip/wheels/88/4b/6d/10c0d2ad32c9d9d68beec9694a6f0b6e83ab1662a90a089a4b\n",
            "Successfully built glove-python\n",
            "Installing collected packages: glove-python\n",
            "Successfully installed glove-python-0.1.0\n"
          ],
          "name": "stdout"
        }
      ]
    },
    {
      "cell_type": "code",
      "metadata": {
        "id": "gAPvxNABpQF_",
        "colab_type": "code",
        "colab": {}
      },
      "source": [
        "import numpy as np"
      ],
      "execution_count": null,
      "outputs": []
    },
    {
      "cell_type": "code",
      "metadata": {
        "id": "sJVHzimipSGp",
        "colab_type": "code",
        "colab": {}
      },
      "source": [
        "import json\n",
        "import glob\n",
        "import pandas as pd"
      ],
      "execution_count": null,
      "outputs": []
    },
    {
      "cell_type": "code",
      "metadata": {
        "id": "unZhEiI1pu7E",
        "colab_type": "code",
        "colab": {}
      },
      "source": [
        "from gensim.models import Word2Vec"
      ],
      "execution_count": null,
      "outputs": []
    },
    {
      "cell_type": "code",
      "metadata": {
        "id": "sC-PH0iFq2RS",
        "colab_type": "code",
        "colab": {}
      },
      "source": [
        "import pickle"
      ],
      "execution_count": null,
      "outputs": []
    },
    {
      "cell_type": "markdown",
      "metadata": {
        "id": "ofyUOvvLos37",
        "colab_type": "text"
      },
      "source": [
        "# Custom Word Embedding generation"
      ]
    },
    {
      "cell_type": "markdown",
      "metadata": {
        "id": "HzEHBoI_JmFC",
        "colab_type": "text"
      },
      "source": [
        "## Loading pre-trained Glove Vector Embeddings"
      ]
    },
    {
      "cell_type": "code",
      "metadata": {
        "id": "O1EaDj2hVSmA",
        "colab_type": "code",
        "colab": {}
      },
      "source": [
        "glove_t = '/content/drive/My Drive/Practicum/glove.twitter.27B.100d.txt'"
      ],
      "execution_count": null,
      "outputs": []
    },
    {
      "cell_type": "code",
      "metadata": {
        "id": "A23Bojyro8nh",
        "colab_type": "code",
        "colab": {}
      },
      "source": [
        "with open(glove_t, \"rb\") as lines:\n",
        "  wvec = {line.split()[0].decode('utf-8'): np.array(line.split()[1:], dtype=np.float32) for line in lines}"
      ],
      "execution_count": null,
      "outputs": []
    },
    {
      "cell_type": "markdown",
      "metadata": {
        "id": "0V0xm0kLJt-u",
        "colab_type": "text"
      },
      "source": [
        "## Loading all reviews"
      ]
    },
    {
      "cell_type": "code",
      "metadata": {
        "id": "yRLm_m_FpiaX",
        "colab_type": "code",
        "colab": {}
      },
      "source": [
        "path = r'/content/drive/My Drive/Practicum/DepTag'\n",
        "files = glob.glob(path+r'/*.json')"
      ],
      "execution_count": null,
      "outputs": []
    },
    {
      "cell_type": "code",
      "metadata": {
        "id": "7DH-2qioprcB",
        "colab_type": "code",
        "colab": {
          "base_uri": "https://localhost:8080/",
          "height": 34
        },
        "outputId": "82133bbb-9269-402a-db99-044e275f7859"
      },
      "source": [
        "len(files)"
      ],
      "execution_count": null,
      "outputs": [
        {
          "output_type": "execute_result",
          "data": {
            "text/plain": [
              "21"
            ]
          },
          "metadata": {
            "tags": []
          },
          "execution_count": 69
        }
      ]
    },
    {
      "cell_type": "code",
      "metadata": {
        "id": "CgQJuVHDpsDx",
        "colab_type": "code",
        "colab": {}
      },
      "source": [
        "finInfo = []\n",
        "for i in range(len(files)):\n",
        "  for line in open(files[i]):\n",
        "    info = json.loads(line)\n",
        "  finInfo.append(info)"
      ],
      "execution_count": null,
      "outputs": []
    },
    {
      "cell_type": "code",
      "metadata": {
        "id": "2J6BTlO1ptYY",
        "colab_type": "code",
        "colab": {
          "base_uri": "https://localhost:8080/",
          "height": 34
        },
        "outputId": "13189401-4a50-43cc-86fc-578d4f0a6b31"
      },
      "source": [
        "len(finInfo)"
      ],
      "execution_count": null,
      "outputs": [
        {
          "output_type": "execute_result",
          "data": {
            "text/plain": [
              "21"
            ]
          },
          "metadata": {
            "tags": []
          },
          "execution_count": 71
        }
      ]
    },
    {
      "cell_type": "code",
      "metadata": {
        "id": "u1LcnArVpuPT",
        "colab_type": "code",
        "colab": {}
      },
      "source": [
        "review = []\n",
        "for i in range(len(finInfo)):\n",
        "  for j in range(len(finInfo[i])):\n",
        "    sents = finInfo[i][j]['sentence']\n",
        "    for sent in sents:\n",
        "      review.append(sent)"
      ],
      "execution_count": null,
      "outputs": []
    },
    {
      "cell_type": "markdown",
      "metadata": {
        "id": "GIzY_1pCJw4e",
        "colab_type": "text"
      },
      "source": [
        "## Defining a word2vec model"
      ]
    },
    {
      "cell_type": "code",
      "metadata": {
        "id": "Exa6ZQoKpwhf",
        "colab_type": "code",
        "colab": {}
      },
      "source": [
        "em_model = Word2Vec(review, size=100, window=5, min_count=1, workers=2)"
      ],
      "execution_count": null,
      "outputs": []
    },
    {
      "cell_type": "code",
      "metadata": {
        "id": "zFoyQsg0p9oi",
        "colab_type": "code",
        "colab": {}
      },
      "source": [
        "w2v = {w: vec for w, vec in zip(em_model.wv.index2word, em_model.wv.vectors)}"
      ],
      "execution_count": null,
      "outputs": []
    },
    {
      "cell_type": "code",
      "metadata": {
        "id": "akiMiYfxqAWR",
        "colab_type": "code",
        "colab": {}
      },
      "source": [
        "a = list(w2v.keys())"
      ],
      "execution_count": null,
      "outputs": []
    },
    {
      "cell_type": "markdown",
      "metadata": {
        "id": "lKngreofJ0vY",
        "colab_type": "text"
      },
      "source": [
        "#### Updating word2vec if embedding not present in pre-trained vectors"
      ]
    },
    {
      "cell_type": "code",
      "metadata": {
        "id": "TLqUnU7QqC1S",
        "colab_type": "code",
        "colab": {}
      },
      "source": [
        "for i in a:\n",
        "    if i in wvec:\n",
        "       continue\n",
        "    else:\n",
        "       wvec.update({ i  : w2v[i]})"
      ],
      "execution_count": null,
      "outputs": []
    },
    {
      "cell_type": "code",
      "metadata": {
        "id": "KRf3m07NqHfx",
        "colab_type": "code",
        "colab": {
          "base_uri": "https://localhost:8080/",
          "height": 34
        },
        "outputId": "825a3c06-92fa-4848-df43-5badec9a5b26"
      },
      "source": [
        "len(list(wvec.keys()))"
      ],
      "execution_count": null,
      "outputs": [
        {
          "output_type": "execute_result",
          "data": {
            "text/plain": [
              "1193529"
            ]
          },
          "metadata": {
            "tags": []
          },
          "execution_count": 78
        }
      ]
    },
    {
      "cell_type": "code",
      "metadata": {
        "id": "reU0aAuoqI9x",
        "colab_type": "code",
        "colab": {}
      },
      "source": [
        "import scipy\n",
        "from scipy import spatial"
      ],
      "execution_count": null,
      "outputs": []
    },
    {
      "cell_type": "code",
      "metadata": {
        "id": "pgjUKwd3sgdL",
        "colab_type": "code",
        "colab": {
          "base_uri": "https://localhost:8080/",
          "height": 34
        },
        "outputId": "c62eb4b0-10f2-41c3-c85f-64d8ba5aac69"
      },
      "source": [
        "type(wvec)"
      ],
      "execution_count": null,
      "outputs": [
        {
          "output_type": "execute_result",
          "data": {
            "text/plain": [
              "dict"
            ]
          },
          "metadata": {
            "tags": []
          },
          "execution_count": 86
        }
      ]
    },
    {
      "cell_type": "markdown",
      "metadata": {
        "id": "Y1Jf6ZRSKCe1",
        "colab_type": "text"
      },
      "source": [
        "# Storing the word embedding model"
      ]
    },
    {
      "cell_type": "code",
      "metadata": {
        "id": "nlCst1CTswWd",
        "colab_type": "code",
        "colab": {}
      },
      "source": [
        "pickleobj = open(\"/content/drive/My Drive/Practicum/embedding.pickle\", \"wb\")\n",
        "pickle.dump(wvec, pickleobj)"
      ],
      "execution_count": null,
      "outputs": []
    },
    {
      "cell_type": "code",
      "metadata": {
        "id": "1IFke5mmtXo3",
        "colab_type": "code",
        "colab": {}
      },
      "source": [
        "pickleobj.close()"
      ],
      "execution_count": null,
      "outputs": []
    },
    {
      "cell_type": "markdown",
      "metadata": {
        "id": "pbgS5euUvUbS",
        "colab_type": "text"
      },
      "source": [
        "# Calculating Cosine Distances"
      ]
    },
    {
      "cell_type": "code",
      "metadata": {
        "id": "uy5IaTvburZm",
        "colab_type": "code",
        "colab": {}
      },
      "source": [
        "import pickle"
      ],
      "execution_count": null,
      "outputs": []
    },
    {
      "cell_type": "code",
      "metadata": {
        "id": "4yNfWqw3vYU9",
        "colab_type": "code",
        "colab": {}
      },
      "source": [
        "pickle_obj = open(\"/content/drive/My Drive/Practicum/embedding.pickle\", \"rb\")\n",
        "wvec = pickle.load(pickle_obj)\n",
        "pickle_obj.close()"
      ],
      "execution_count": null,
      "outputs": []
    },
    {
      "cell_type": "code",
      "metadata": {
        "id": "vumL764vw50g",
        "colab_type": "code",
        "colab": {}
      },
      "source": [
        "def cosine_distance_between_two_words(word1, word2):\n",
        "    '''\n",
        "    Takes input of words and returns the cosine distance of each word.\n",
        "    '''\n",
        "    return (1- scipy.spatial.distance.cosine(wvec[word1], wvec[word2]))"
      ],
      "execution_count": null,
      "outputs": []
    },
    {
      "cell_type": "code",
      "metadata": {
        "id": "vVndcySBw7A-",
        "colab_type": "code",
        "colab": {
          "base_uri": "https://localhost:8080/",
          "height": 34
        },
        "outputId": "28c5fbee-6ea5-479f-9b90-4f81228c5202"
      },
      "source": [
        "cosine_distance_between_two_words('food', 'delicious') #first word will be main word, 2nd word can be DepWord, PreviousWord, NextWord"
      ],
      "execution_count": null,
      "outputs": [
        {
          "output_type": "execute_result",
          "data": {
            "text/plain": [
              "0.7807824015617371"
            ]
          },
          "metadata": {
            "tags": []
          },
          "execution_count": 133
        }
      ]
    },
    {
      "cell_type": "markdown",
      "metadata": {
        "id": "I7gsuNUtKQis",
        "colab_type": "text"
      },
      "source": [
        "### Plotting a heatmap"
      ]
    },
    {
      "cell_type": "code",
      "metadata": {
        "id": "PmQhqDKEvpgs",
        "colab_type": "code",
        "colab": {
          "base_uri": "https://localhost:8080/",
          "height": 72
        },
        "outputId": "ac99cbef-5848-41fc-a055-8b2b29cbf6d0"
      },
      "source": [
        "import matplotlib.pyplot as plt\n",
        "import seaborn as sns\n"
      ],
      "execution_count": null,
      "outputs": [
        {
          "output_type": "stream",
          "text": [
            "/usr/local/lib/python3.6/dist-packages/statsmodels/tools/_testing.py:19: FutureWarning: pandas.util.testing is deprecated. Use the functions in the public API at pandas.testing instead.\n",
            "  import pandas.util.testing as tm\n"
          ],
          "name": "stderr"
        }
      ]
    },
    {
      "cell_type": "code",
      "metadata": {
        "id": "Pdpt5c_KvcGT",
        "colab_type": "code",
        "colab": {}
      },
      "source": [
        "def cosine_distance_between_two_words(word1, word2):\n",
        "    '''\n",
        "    Takes input of words and returns the cosine distance of each word.\n",
        "    '''\n",
        "    return (1- scipy.spatial.distance.cosine(wvec[word1], wvec[word2]))\n",
        "\n",
        "def calculate_heat_matrix_for_two_sentences(s1,s2):\n",
        "    '''\n",
        "    This function calculcates  heat matrix based on the cosine distances of words from one another.\n",
        "    '''\n",
        "    result_list = [[cosine_distance_between_two_words(word1, word2) for word2 in s2] for word1 in s1]\n",
        "    result_df = pd.DataFrame(result_list)\n",
        "    result_df.columns = s2\n",
        "    result_df.index = s1\n",
        "    return result_df\n",
        "\n",
        "def cosine_distance_wordembedding_method(s1, s2):\n",
        "    '''\n",
        "    Returns the cosine similarity index.\n",
        "    '''\n",
        "    vector_1 = np.mean([wvec[word] for word in s1],axis=0)\n",
        "    vector_2 = np.mean([wvec[word] for word in s2],axis=0)\n",
        "    cosine = scipy.spatial.distance.cosine(vector_1, vector_2)\n",
        "    print('Word Embedding method with a cosine distance that our two sentences are similar to',round((1-cosine)*100,2),'%')\n",
        "\n",
        "def heat_map_matrix_between_two_sentences(s1,s2):\n",
        "    '''\n",
        "    Plots the heat matrix.\n",
        "    '''\n",
        "    df = calculate_heat_matrix_for_two_sentences(s1,s2)\n",
        "    fig, ax = plt.subplots(figsize=(5,5)) \n",
        "    ax_blue = sns.heatmap(df, cmap=\"YlGnBu\")\n",
        "    # ax_red = sns.heatmap(df)\n",
        "    print(cosine_distance_wordembedding_method(s1, s2))\n",
        "    return ax_blue"
      ],
      "execution_count": null,
      "outputs": []
    },
    {
      "cell_type": "code",
      "metadata": {
        "id": "nCM5dicBvnLt",
        "colab_type": "code",
        "colab": {}
      },
      "source": [
        "words1 = ['cabin', 'entertainment', 'food', 'inflight', 'flight', 'luggage', 'seat', 'staff']"
      ],
      "execution_count": null,
      "outputs": []
    },
    {
      "cell_type": "code",
      "metadata": {
        "id": "1NuQCT5jv9RU",
        "colab_type": "code",
        "colab": {}
      },
      "source": [
        "words2 = ['spacious', 'screen', 'delicious', 'service', 'bad', 'lost', 'hard', 'rude']"
      ],
      "execution_count": null,
      "outputs": []
    },
    {
      "cell_type": "code",
      "metadata": {
        "id": "VxFvsZiWwHus",
        "colab_type": "code",
        "colab": {
          "base_uri": "https://localhost:8080/",
          "height": 407
        },
        "outputId": "c7a7f3e0-e8d4-4771-c674-51459c7f1497"
      },
      "source": [
        "heat_map_matrix_between_two_sentences(words1, words2)"
      ],
      "execution_count": null,
      "outputs": [
        {
          "output_type": "stream",
          "text": [
            "Word Embedding method with a cosine distance asses that our two sentences are similar to 77.46 %\n",
            "None\n"
          ],
          "name": "stdout"
        },
        {
          "output_type": "execute_result",
          "data": {
            "text/plain": [
              "<matplotlib.axes._subplots.AxesSubplot at 0x7f3e59cab160>"
            ]
          },
          "metadata": {
            "tags": []
          },
          "execution_count": 126
        },
        {
          "output_type": "display_data",
          "data": {
            "image/png": "[encoded data removed]",
            "text/plain": [
              "<Figure size 360x360 with 2 Axes>"
            ]
          },
          "metadata": {
            "tags": [],
            "needs_background": "light"
          }
        }
      ]
    },
    {
      "cell_type": "code",
      "metadata": {
        "id": "I7OtS3VEwKFM",
        "colab_type": "code",
        "colab": {}
      },
      "source": [
        ""
      ],
      "execution_count": null,
      "outputs": []
    }
  ]
}