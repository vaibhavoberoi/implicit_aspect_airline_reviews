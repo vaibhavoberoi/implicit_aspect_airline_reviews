{
 "cells": [
  {
   "cell_type": "markdown",
   "metadata": {},
   "source": [
    "# Importing Project Dependencies"
   ]
  },
  {
   "cell_type": "code",
   "execution_count": 1,
   "metadata": {},
   "outputs": [
    {
     "name": "stdout",
     "output_type": "stream",
     "text": [
      "Requirement already satisfied: selenium in c:\\users\\kanishk verma\\anaconda3\\lib\\site-packages (3.141.0)\n",
      "Requirement already satisfied: urllib3 in c:\\users\\kanishk verma\\anaconda3\\lib\\site-packages (from selenium) (1.24.1)\n"
     ]
    },
    {
     "name": "stderr",
     "output_type": "stream",
     "text": [
      "WARNING: You are using pip version 20.0.2; however, version 20.1.1 is available.\n",
      "You should consider upgrading via the 'c:\\users\\kanishk verma\\anaconda3\\python.exe -m pip install --upgrade pip' command.\n"
     ]
    }
   ],
   "source": [
    "!pip install selenium"
   ]
  },
  {
   "cell_type": "code",
   "execution_count": 2,
   "metadata": {},
   "outputs": [
    {
     "name": "stdout",
     "output_type": "stream",
     "text": [
      "Requirement already satisfied: webdriver-manager in c:\\users\\kanishk verma\\anaconda3\\lib\\site-packages (2.5.3)\n",
      "Requirement already satisfied: crayons in c:\\users\\kanishk verma\\anaconda3\\lib\\site-packages (from webdriver-manager) (0.3.0)\n",
      "Requirement already satisfied: configparser in c:\\users\\kanishk verma\\anaconda3\\lib\\site-packages (from webdriver-manager) (5.0.0)\n",
      "Requirement already satisfied: requests in c:\\users\\kanishk verma\\anaconda3\\lib\\site-packages (from webdriver-manager) (2.21.0)\n",
      "Requirement already satisfied: colorama in c:\\users\\kanishk verma\\anaconda3\\lib\\site-packages (from crayons->webdriver-manager) (0.4.1)\n",
      "Requirement already satisfied: chardet<3.1.0,>=3.0.2 in c:\\users\\kanishk verma\\anaconda3\\lib\\site-packages (from requests->webdriver-manager) (3.0.4)\n",
      "Requirement already satisfied: idna<2.9,>=2.5 in c:\\users\\kanishk verma\\anaconda3\\lib\\site-packages (from requests->webdriver-manager) (2.8)\n",
      "Requirement already satisfied: certifi>=2017.4.17 in c:\\users\\kanishk verma\\anaconda3\\lib\\site-packages (from requests->webdriver-manager) (2020.4.5.1)\n",
      "Requirement already satisfied: urllib3<1.25,>=1.21.1 in c:\\users\\kanishk verma\\anaconda3\\lib\\site-packages (from requests->webdriver-manager) (1.24.1)\n"
     ]
    },
    {
     "name": "stderr",
     "output_type": "stream",
     "text": [
      "WARNING: You are using pip version 20.0.2; however, version 20.1.1 is available.\n",
      "You should consider upgrading via the 'c:\\users\\kanishk verma\\anaconda3\\python.exe -m pip install --upgrade pip' command.\n"
     ]
    }
   ],
   "source": [
    "!pip install webdriver-manager"
   ]
  },
  {
   "cell_type": "code",
   "execution_count": 3,
   "metadata": {},
   "outputs": [],
   "source": [
    "import time\n",
    "from selenium import webdriver\n",
    "from selenium.webdriver.common.by import By\n",
    "import pandas as pd\n",
    "import nltk \n",
    "import random\n",
    "import string"
   ]
  },
  {
   "cell_type": "markdown",
   "metadata": {},
   "source": [
    "# Setting up WebDriver"
   ]
  },
  {
   "cell_type": "code",
   "execution_count": 12,
   "metadata": {},
   "outputs": [],
   "source": [
    "from webdriver_manager.chrome import ChromeDriverManager"
   ]
  },
  {
   "cell_type": "code",
   "execution_count": 5,
   "metadata": {
    "scrolled": false
   },
   "outputs": [
    {
     "name": "stderr",
     "output_type": "stream",
     "text": [
      "[WDM] - Current google-chrome version 83.0.4103\n"
     ]
    },
    {
     "name": "stdout",
     "output_type": "stream",
     "text": [
      " \n"
     ]
    },
    {
     "name": "stderr",
     "output_type": "stream",
     "text": [
      "[WDM] - Trying to download new driver from http://chromedriver.storage.googleapis.com/83.0.4103.39/chromedriver_win32.zip\n",
      "[WDM] - Unpack archive C:\\Users\\Kanishk Verma\\.wdm\\drivers\\chromedriver\\83.0.4103.39\\win32\\chromedriver.zip\n"
     ]
    }
   ],
   "source": [
    "driver = webdriver.Chrome(ChromeDriverManager().install())"
   ]
  },
  {
   "cell_type": "markdown",
   "metadata": {},
   "source": [
    "# Helper Functions"
   ]
  },
  {
   "cell_type": "code",
   "execution_count": 1,
   "metadata": {},
   "outputs": [],
   "source": [
    "def firstPage(url):\n",
    "    '''\n",
    "    This function when called takes input as url, and since the X-PATH (HTML DOM OBJECT) of each review block on \n",
    "    the webpage is the same.\n",
    "    It is iterated to capture all reviews on the first page\n",
    "    '''\n",
    "    for i in range(3,8):\n",
    "        try:\n",
    "            browser.get(url)\n",
    "            time.sleep(10)\n",
    "            s = '//*[@id=\"component_1\"]/div/div[6]/div/div/div/div[2]/div[1]/div[2]/div/div['+str(i)+']/div[2]/div[3]/div[1]/div[2]/div/span[2]'\n",
    "            c = browser.find_element_by_xpath(s)\n",
    "            c.click()\n",
    "            print('Clicked for'+str(i))\n",
    "            r = '//*[@id=\"component_1\"]/div/div[6]/div/div/div/div[2]/div[1]/div[2]/div/div['+str(i)+']/div[2]/div[3]/div[1]/div[1]/q/span'\n",
    "            span = browser.find_element_by_xpath(r)\n",
    "            time.sleep(10)\n",
    "            reviews.append(span.text)\n",
    "            print('Done for'+str(i))\n",
    "        except:\n",
    "            print(\"Encountered exception\")\n",
    "            continue;\n",
    "    return reviews"
   ]
  },
  {
   "cell_type": "code",
   "execution_count": 3,
   "metadata": {},
   "outputs": [],
   "source": [
    "def nextPage(url1):\n",
    "    '''\n",
    "    This function also takes url of the next page as input and  since the X-Path(HTML DOM OBJECT) of each review block on \n",
    "    the webpage is the same.\n",
    "    It is iterated to capture all reviews on the next 20 pages\n",
    "    \n",
    "    '''\n",
    "    for j in range(1,21):\n",
    "        a = j*5\n",
    "        print(\"Page:\\t\"+str(a))\n",
    "        try:\n",
    "            for i in range(3,8):\n",
    "                browser.get(url1)\n",
    "                time.sleep(10)\n",
    "                r = '//*[@id=\"component_1\"]/div/div[6]/div/div/div/div[2]/div[1]/div[2]/div/div['+str(i)+']/div[2]/div[3]/div[1]/div[1]/q/span'\n",
    "                re = browser.find_element_by_xpath(r).text\n",
    "                time.sleep(10)\n",
    "                reviews.append(re)\n",
    "                print(\"Done for\"+str(i))\n",
    "                \n",
    "        except:\n",
    "            continue;\n",
    "    return reviews"
   ]
  },
  {
   "cell_type": "code",
   "execution_count": 2,
   "metadata": {},
   "outputs": [],
   "source": [
    "def saveCsv(filename):\n",
    "    with open(savePath+str(filename)+'.csv', 'w', encoding='utf-8',newline='') as filehandle:\n",
    "        spwriter = csv.writer(filehandle, quoting=csv.QUOTE_MINIMAL)\n",
    "        spwriter.writerow(reviews)\n",
    "    print(\"File Saved as\"+str(filename))"
   ]
  },
  {
   "cell_type": "markdown",
   "metadata": {},
   "source": [
    "# Scraping Airline Wise"
   ]
  },
  {
   "cell_type": "markdown",
   "metadata": {},
   "source": [
    "### Vistara"
   ]
  },
  {
   "cell_type": "code",
   "execution_count": 102,
   "metadata": {},
   "outputs": [],
   "source": [
    "#Enter URL\n",
    "\n",
    "url = \"https://www.tripadvisor.ie/Airline_Review-d8729207-Reviews-Vistara\""
   ]
  },
  {
   "cell_type": "code",
   "execution_count": 106,
   "metadata": {
    "scrolled": true
   },
   "outputs": [
    {
     "name": "stdout",
     "output_type": "stream",
     "text": [
      "Page:\t5\n",
      "Done for3\n",
      "Done for4\n",
      "Done for5\n",
      "Done for6\n",
      "Done for7\n",
      "Page:\t10\n",
      "Page:\t15\n",
      "Done for3\n",
      "Done for4\n",
      "Done for5\n",
      "Done for6\n",
      "Done for7\n",
      "Page:\t20\n",
      "Done for3\n",
      "Done for4\n",
      "Done for5\n",
      "Done for6\n",
      "Done for7\n",
      "Page:\t25\n",
      "Done for3\n",
      "Done for4\n",
      "Done for5\n",
      "Done for6\n",
      "Done for7\n",
      "Page:\t30\n",
      "Done for3\n",
      "Done for4\n",
      "Done for5\n",
      "Done for6\n",
      "Done for7\n",
      "Page:\t35\n",
      "Done for3\n",
      "Done for4\n",
      "Done for5\n",
      "Done for6\n",
      "Done for7\n",
      "Page:\t40\n",
      "Done for3\n",
      "Done for4\n",
      "Done for5\n",
      "Done for6\n",
      "Done for7\n",
      "Page:\t45\n",
      "Done for3\n",
      "Done for4\n",
      "Done for5\n",
      "Page:\t50\n",
      "Done for3\n",
      "Done for4\n",
      "Page:\t55\n",
      "Done for3\n",
      "Done for4\n",
      "Done for5\n",
      "Done for6\n",
      "Done for7\n",
      "Page:\t60\n",
      "Page:\t65\n",
      "Done for3\n",
      "Done for4\n",
      "Done for5\n",
      "Page:\t70\n",
      "Done for3\n",
      "Done for4\n",
      "Page:\t75\n",
      "Done for3\n",
      "Done for4\n",
      "Done for5\n",
      "Done for6\n",
      "Done for7\n",
      "Page:\t80\n",
      "Done for3\n",
      "Done for4\n",
      "Done for5\n",
      "Done for6\n",
      "Done for7\n",
      "Page:\t85\n",
      "Done for3\n",
      "Done for4\n",
      "Done for5\n",
      "Done for6\n",
      "Done for7\n",
      "Page:\t90\n",
      "Done for3\n",
      "Done for4\n",
      "Done for5\n",
      "Done for6\n",
      "Done for7\n",
      "Page:\t95\n",
      "Page:\t100\n",
      "Done for3\n",
      "Done for4\n",
      "Done for5\n",
      "Done for6\n",
      "Done for7\n"
     ]
    }
   ],
   "source": [
    "#Running functions\n",
    "\n",
    "review = nextPage()"
   ]
  },
  {
   "cell_type": "code",
   "execution_count": 114,
   "metadata": {},
   "outputs": [
    {
     "name": "stdout",
     "output_type": "stream",
     "text": [
      "File Saved asvistara\n"
     ]
    }
   ],
   "source": [
    "#Save in CSV format\n",
    "saveFile('vistara')"
   ]
  },
  {
   "cell_type": "markdown",
   "metadata": {},
   "source": [
    "## Air Arabia"
   ]
  },
  {
   "cell_type": "code",
   "execution_count": 115,
   "metadata": {},
   "outputs": [],
   "source": [
    "#Specifying url\n",
    "url = 'https://www.tripadvisor.ie/Airline_Review-d8728994-Reviews-Air-Arabia'"
   ]
  },
  {
   "cell_type": "code",
   "execution_count": 116,
   "metadata": {},
   "outputs": [],
   "source": [
    "comment = []"
   ]
  },
  {
   "cell_type": "code",
   "execution_count": 117,
   "metadata": {},
   "outputs": [
    {
     "name": "stdout",
     "output_type": "stream",
     "text": [
      "Clicked for3\n",
      "Done for3\n",
      "Clicked for4\n",
      "Done for4\n",
      "Clicked for5\n",
      "Done for5\n",
      "Clicked for6\n",
      "Done for6\n",
      "Clicked for7\n",
      "Done for7\n"
     ]
    }
   ],
   "source": [
    "# Run for 1st page\n",
    "comment = firstPage(url)"
   ]
  },
  {
   "cell_type": "code",
   "execution_count": 119,
   "metadata": {},
   "outputs": [
    {
     "name": "stdout",
     "output_type": "stream",
     "text": [
      "Page:\t5\n",
      "Done for3\n",
      "Done for4\n",
      "Done for5\n",
      "Done for6\n",
      "Done for7\n",
      "Page:\t10\n",
      "Done for3\n",
      "Done for4\n",
      "Done for5\n",
      "Page:\t15\n",
      "Page:\t20\n",
      "Done for3\n",
      "Done for4\n",
      "Done for5\n",
      "Done for6\n",
      "Done for7\n",
      "Page:\t25\n",
      "Done for3\n",
      "Done for4\n",
      "Done for5\n",
      "Done for6\n",
      "Done for7\n",
      "Page:\t30\n",
      "Done for3\n",
      "Done for4\n",
      "Done for5\n",
      "Done for6\n",
      "Done for7\n",
      "Page:\t35\n",
      "Done for3\n",
      "Done for4\n",
      "Done for5\n",
      "Done for6\n",
      "Done for7\n",
      "Page:\t40\n",
      "Done for3\n",
      "Done for4\n",
      "Done for5\n",
      "Done for6\n",
      "Done for7\n",
      "Page:\t45\n",
      "Done for3\n",
      "Done for4\n",
      "Done for5\n",
      "Done for6\n",
      "Done for7\n",
      "Page:\t50\n",
      "Done for3\n",
      "Done for4\n",
      "Done for5\n",
      "Done for6\n",
      "Done for7\n",
      "Page:\t55\n",
      "Done for3\n",
      "Done for4\n",
      "Done for5\n",
      "Done for6\n",
      "Done for7\n",
      "Page:\t60\n",
      "Done for3\n",
      "Done for4\n",
      "Done for5\n",
      "Done for6\n",
      "Done for7\n",
      "Page:\t65\n",
      "Done for3\n",
      "Done for4\n",
      "Done for5\n",
      "Done for6\n",
      "Done for7\n",
      "Page:\t70\n",
      "Done for3\n",
      "Done for4\n",
      "Done for5\n",
      "Page:\t75\n",
      "Done for3\n",
      "Done for4\n",
      "Page:\t80\n",
      "Done for3\n",
      "Done for4\n",
      "Done for5\n",
      "Done for6\n",
      "Done for7\n",
      "Page:\t85\n",
      "Done for3\n",
      "Page:\t90\n",
      "Done for3\n",
      "Done for4\n",
      "Page:\t95\n",
      "Done for3\n",
      "Done for4\n",
      "Page:\t100\n",
      "Done for3\n",
      "Done for4\n",
      "Done for5\n",
      "Done for6\n",
      "Done for7\n"
     ]
    }
   ],
   "source": [
    "#Run for next page\n",
    "comment = nextPage()"
   ]
  },
  {
   "cell_type": "code",
   "execution_count": 137,
   "metadata": {},
   "outputs": [
    {
     "name": "stdout",
     "output_type": "stream",
     "text": [
      "File Saved asairArabia\n"
     ]
    }
   ],
   "source": [
    "#Save File\n",
    "saveCsv('airArabia')"
   ]
  },
  {
   "cell_type": "markdown",
   "metadata": {},
   "source": [
    "## Air Canada"
   ]
  },
  {
   "cell_type": "code",
   "execution_count": 138,
   "metadata": {},
   "outputs": [],
   "source": [
    "url = \"https://www.tripadvisor.ie/Airline_Review-d8728998-Reviews-Air-Canada\""
   ]
  },
  {
   "cell_type": "code",
   "execution_count": 139,
   "metadata": {},
   "outputs": [],
   "source": [
    "comment = []"
   ]
  },
  {
   "cell_type": "code",
   "execution_count": 140,
   "metadata": {},
   "outputs": [
    {
     "name": "stdout",
     "output_type": "stream",
     "text": [
      "Clicked for3\n",
      "Done for3\n",
      "Clicked for4\n",
      "Done for4\n",
      "Clicked for5\n",
      "Done for5\n",
      "Clicked for6\n",
      "Done for6\n",
      "Clicked for7\n",
      "Done for7\n"
     ]
    }
   ],
   "source": [
    "comment = firstPage(url)"
   ]
  },
  {
   "cell_type": "code",
   "execution_count": 142,
   "metadata": {},
   "outputs": [
    {
     "name": "stdout",
     "output_type": "stream",
     "text": [
      "Page:\t5\n",
      "Page:\t10\n",
      "Done for3\n",
      "Done for4\n",
      "Done for5\n",
      "Done for6\n",
      "Done for7\n",
      "Page:\t15\n",
      "Done for3\n",
      "Done for4\n",
      "Done for5\n",
      "Page:\t20\n",
      "Done for3\n",
      "Done for4\n",
      "Done for5\n",
      "Done for6\n",
      "Done for7\n",
      "Page:\t25\n",
      "Done for3\n",
      "Done for4\n",
      "Done for5\n",
      "Done for6\n",
      "Done for7\n",
      "Page:\t30\n",
      "Done for3\n",
      "Done for4\n",
      "Done for5\n",
      "Done for6\n",
      "Done for7\n",
      "Page:\t35\n",
      "Done for3\n",
      "Done for4\n",
      "Done for5\n",
      "Done for6\n",
      "Done for7\n",
      "Page:\t40\n",
      "Done for3\n",
      "Done for4\n",
      "Done for5\n",
      "Done for6\n",
      "Done for7\n",
      "Page:\t45\n",
      "Page:\t50\n",
      "Done for3\n",
      "Done for4\n",
      "Done for5\n",
      "Done for6\n",
      "Done for7\n",
      "Page:\t55\n",
      "Done for3\n",
      "Done for4\n",
      "Done for5\n",
      "Done for6\n",
      "Done for7\n",
      "Page:\t60\n",
      "Done for3\n",
      "Done for4\n",
      "Done for5\n",
      "Done for6\n",
      "Done for7\n",
      "Page:\t65\n",
      "Done for3\n",
      "Done for4\n",
      "Done for5\n",
      "Done for6\n",
      "Done for7\n",
      "Page:\t70\n",
      "Done for3\n",
      "Page:\t75\n",
      "Done for3\n",
      "Done for4\n",
      "Done for5\n",
      "Done for6\n",
      "Done for7\n",
      "Page:\t80\n",
      "Done for3\n",
      "Done for4\n",
      "Done for5\n",
      "Done for6\n",
      "Done for7\n",
      "Page:\t85\n",
      "Done for3\n",
      "Page:\t90\n",
      "Done for3\n",
      "Done for4\n",
      "Done for5\n",
      "Done for6\n",
      "Done for7\n",
      "Page:\t95\n",
      "Done for3\n",
      "Done for4\n",
      "Page:\t100\n",
      "Done for3\n",
      "Done for4\n"
     ]
    }
   ],
   "source": [
    "comment = nextPage()"
   ]
  },
  {
   "cell_type": "code",
   "execution_count": 145,
   "metadata": {},
   "outputs": [
    {
     "name": "stdout",
     "output_type": "stream",
     "text": [
      "File Saved asairCanada\n"
     ]
    }
   ],
   "source": [
    "saveCsv('airCanada')"
   ]
  },
  {
   "cell_type": "markdown",
   "metadata": {},
   "source": [
    "### Air France"
   ]
  },
  {
   "cell_type": "code",
   "execution_count": 146,
   "metadata": {},
   "outputs": [],
   "source": [
    "comment = []"
   ]
  },
  {
   "cell_type": "code",
   "execution_count": 147,
   "metadata": {},
   "outputs": [],
   "source": [
    "url = \"https://www.tripadvisor.ie/Airline_Review-d8729003-Reviews-Air-France\""
   ]
  },
  {
   "cell_type": "code",
   "execution_count": 150,
   "metadata": {},
   "outputs": [
    {
     "name": "stdout",
     "output_type": "stream",
     "text": [
      "Encountered exception\n",
      "Clicked for4\n",
      "Done for4\n",
      "Clicked for5\n",
      "Done for5\n",
      "Clicked for6\n",
      "Done for6\n",
      "Clicked for7\n",
      "Done for7\n"
     ]
    }
   ],
   "source": [
    "comment = firstPage(url)"
   ]
  },
  {
   "cell_type": "code",
   "execution_count": 152,
   "metadata": {},
   "outputs": [
    {
     "name": "stdout",
     "output_type": "stream",
     "text": [
      "Page:\t5\n",
      "Done for3\n",
      "Page:\t10\n",
      "Done for3\n",
      "Done for4\n",
      "Done for5\n",
      "Done for6\n",
      "Done for7\n",
      "Page:\t15\n",
      "Done for3\n",
      "Done for4\n",
      "Done for5\n",
      "Done for6\n",
      "Done for7\n",
      "Page:\t20\n",
      "Page:\t25\n",
      "Page:\t30\n",
      "Done for3\n",
      "Done for4\n",
      "Done for5\n",
      "Done for6\n",
      "Done for7\n",
      "Page:\t35\n",
      "Page:\t40\n",
      "Done for3\n",
      "Done for4\n",
      "Done for5\n",
      "Done for6\n",
      "Done for7\n",
      "Page:\t45\n",
      "Done for3\n",
      "Done for4\n",
      "Done for5\n",
      "Done for6\n",
      "Done for7\n",
      "Page:\t50\n",
      "Done for3\n",
      "Done for4\n",
      "Done for5\n",
      "Done for6\n",
      "Done for7\n",
      "Page:\t55\n",
      "Done for3\n",
      "Done for4\n",
      "Page:\t60\n",
      "Done for3\n",
      "Done for4\n",
      "Done for5\n",
      "Done for6\n",
      "Done for7\n",
      "Page:\t65\n",
      "Done for3\n",
      "Done for4\n",
      "Done for5\n",
      "Done for6\n",
      "Done for7\n",
      "Page:\t70\n",
      "Done for3\n",
      "Done for4\n",
      "Page:\t75\n",
      "Done for3\n",
      "Done for4\n",
      "Done for5\n",
      "Done for6\n",
      "Done for7\n",
      "Page:\t80\n",
      "Done for3\n",
      "Done for4\n",
      "Done for5\n",
      "Done for6\n",
      "Done for7\n",
      "Page:\t85\n",
      "Page:\t90\n",
      "Done for3\n",
      "Done for4\n",
      "Done for5\n",
      "Done for6\n",
      "Done for7\n",
      "Page:\t95\n",
      "Done for3\n",
      "Done for4\n",
      "Done for5\n",
      "Done for6\n",
      "Done for7\n",
      "Page:\t100\n",
      "Done for3\n",
      "Done for4\n",
      "Done for5\n",
      "Done for6\n",
      "Done for7\n"
     ]
    }
   ],
   "source": [
    "comment = nextPage()"
   ]
  },
  {
   "cell_type": "code",
   "execution_count": 155,
   "metadata": {},
   "outputs": [
    {
     "name": "stdout",
     "output_type": "stream",
     "text": [
      "File Saved as: airFrance.csv\n"
     ]
    }
   ],
   "source": [
    "saveCsv('airFrance')"
   ]
  },
  {
   "cell_type": "markdown",
   "metadata": {},
   "source": [
    "### Air India"
   ]
  },
  {
   "cell_type": "code",
   "execution_count": 156,
   "metadata": {},
   "outputs": [],
   "source": [
    "url = \"https://www.tripadvisor.ie/Airline_Review-d8729004-Reviews-Air-India\""
   ]
  },
  {
   "cell_type": "code",
   "execution_count": 157,
   "metadata": {},
   "outputs": [],
   "source": [
    "comment = []"
   ]
  },
  {
   "cell_type": "code",
   "execution_count": 158,
   "metadata": {},
   "outputs": [
    {
     "name": "stdout",
     "output_type": "stream",
     "text": [
      "Clicked for3\n",
      "Done for3\n",
      "Clicked for4\n",
      "Done for4\n",
      "Clicked for5\n",
      "Done for5\n",
      "Clicked for6\n",
      "Done for6\n",
      "Clicked for7\n",
      "Done for7\n"
     ]
    }
   ],
   "source": [
    "comment = firstPage(url)"
   ]
  },
  {
   "cell_type": "code",
   "execution_count": 160,
   "metadata": {
    "scrolled": true
   },
   "outputs": [
    {
     "name": "stdout",
     "output_type": "stream",
     "text": [
      "Page:\t5\n",
      "Done for3\n",
      "Done for4\n",
      "Done for5\n",
      "Done for6\n",
      "Done for7\n",
      "Page:\t10\n",
      "Done for3\n",
      "Done for4\n",
      "Done for5\n",
      "Done for6\n",
      "Done for7\n",
      "Page:\t15\n",
      "Done for3\n",
      "Done for4\n",
      "Done for5\n",
      "Done for6\n",
      "Done for7\n",
      "Page:\t20\n",
      "Done for3\n",
      "Done for4\n",
      "Done for5\n",
      "Done for6\n",
      "Done for7\n",
      "Page:\t25\n",
      "Done for3\n",
      "Done for4\n",
      "Done for5\n",
      "Done for6\n",
      "Done for7\n",
      "Page:\t30\n",
      "Done for3\n",
      "Done for4\n",
      "Done for5\n",
      "Done for6\n",
      "Done for7\n",
      "Page:\t35\n",
      "Done for3\n",
      "Done for4\n",
      "Done for5\n",
      "Done for6\n",
      "Done for7\n",
      "Page:\t40\n",
      "Done for3\n",
      "Done for4\n",
      "Done for5\n",
      "Done for6\n",
      "Done for7\n",
      "Page:\t45\n",
      "Done for3\n",
      "Done for4\n",
      "Done for5\n",
      "Done for6\n",
      "Done for7\n",
      "Page:\t50\n",
      "Done for3\n",
      "Done for4\n",
      "Done for5\n",
      "Done for6\n",
      "Page:\t55\n",
      "Done for3\n",
      "Done for4\n",
      "Done for5\n",
      "Done for6\n",
      "Done for7\n",
      "Page:\t60\n",
      "Done for3\n",
      "Done for4\n",
      "Done for5\n",
      "Done for6\n",
      "Done for7\n",
      "Page:\t65\n",
      "Done for3\n",
      "Page:\t70\n",
      "Done for3\n",
      "Done for4\n",
      "Done for5\n",
      "Done for6\n",
      "Done for7\n",
      "Page:\t75\n",
      "Done for3\n",
      "Done for4\n",
      "Done for5\n",
      "Done for6\n",
      "Done for7\n",
      "Page:\t80\n",
      "Done for3\n",
      "Done for4\n",
      "Done for5\n",
      "Done for6\n",
      "Done for7\n",
      "Page:\t85\n",
      "Done for3\n",
      "Done for4\n",
      "Done for5\n",
      "Done for6\n",
      "Done for7\n",
      "Page:\t90\n",
      "Page:\t95\n",
      "Done for3\n",
      "Page:\t100\n",
      "Done for3\n",
      "Done for4\n",
      "Done for5\n",
      "Done for6\n",
      "Done for7\n"
     ]
    }
   ],
   "source": [
    "comment = nextPage()"
   ]
  },
  {
   "cell_type": "code",
   "execution_count": 161,
   "metadata": {},
   "outputs": [
    {
     "name": "stdout",
     "output_type": "stream",
     "text": [
      "File Saved as: airIndia.csv\n"
     ]
    }
   ],
   "source": [
    "saveCsv('airIndia')"
   ]
  },
  {
   "cell_type": "markdown",
   "metadata": {},
   "source": [
    "### AirAsia"
   ]
  },
  {
   "cell_type": "code",
   "execution_count": 163,
   "metadata": {},
   "outputs": [],
   "source": [
    "comment = []"
   ]
  },
  {
   "cell_type": "code",
   "execution_count": 164,
   "metadata": {},
   "outputs": [],
   "source": [
    "url = \"https://www.tripadvisor.ie/Airline_Review-d8729220-Reviews-AirAsia-AirAsia-Berhad-Malaysia\""
   ]
  },
  {
   "cell_type": "code",
   "execution_count": 165,
   "metadata": {},
   "outputs": [
    {
     "name": "stdout",
     "output_type": "stream",
     "text": [
      "Encountered exception\n",
      "Clicked for4\n",
      "Done for4\n",
      "Clicked for5\n",
      "Done for5\n",
      "Encountered exception\n",
      "Clicked for7\n",
      "Done for7\n"
     ]
    }
   ],
   "source": [
    "comment = firstPage(url)"
   ]
  },
  {
   "cell_type": "code",
   "execution_count": 167,
   "metadata": {},
   "outputs": [
    {
     "name": "stdout",
     "output_type": "stream",
     "text": [
      "Page:\t5\n",
      "Done for3\n",
      "Page:\t10\n",
      "Page:\t15\n",
      "Done for3\n",
      "Done for4\n",
      "Done for5\n",
      "Done for6\n",
      "Done for7\n",
      "Page:\t20\n",
      "Done for3\n",
      "Done for4\n",
      "Done for5\n",
      "Done for6\n",
      "Done for7\n",
      "Page:\t25\n",
      "Done for3\n",
      "Page:\t30\n",
      "Done for3\n",
      "Done for4\n",
      "Done for5\n",
      "Done for6\n",
      "Done for7\n",
      "Page:\t35\n",
      "Page:\t40\n",
      "Done for3\n",
      "Done for4\n",
      "Done for5\n",
      "Done for6\n",
      "Done for7\n",
      "Page:\t45\n",
      "Done for3\n",
      "Done for4\n",
      "Done for5\n",
      "Done for6\n",
      "Done for7\n",
      "Page:\t50\n",
      "Done for3\n",
      "Done for4\n",
      "Done for5\n",
      "Done for6\n",
      "Done for7\n",
      "Page:\t55\n",
      "Done for3\n",
      "Done for4\n",
      "Done for5\n",
      "Done for6\n",
      "Done for7\n",
      "Page:\t60\n",
      "Done for3\n",
      "Done for4\n",
      "Done for5\n",
      "Done for6\n",
      "Done for7\n",
      "Page:\t65\n",
      "Page:\t70\n",
      "Done for3\n",
      "Page:\t75\n",
      "Page:\t80\n",
      "Done for3\n",
      "Done for4\n",
      "Done for5\n",
      "Done for6\n",
      "Page:\t85\n",
      "Done for3\n",
      "Done for4\n",
      "Done for5\n",
      "Done for6\n",
      "Done for7\n",
      "Page:\t90\n",
      "Done for3\n",
      "Done for4\n",
      "Done for5\n",
      "Page:\t95\n",
      "Done for3\n",
      "Done for4\n",
      "Page:\t100\n",
      "Done for3\n"
     ]
    }
   ],
   "source": [
    "comment = nextPage()"
   ]
  },
  {
   "cell_type": "code",
   "execution_count": 168,
   "metadata": {},
   "outputs": [
    {
     "data": {
      "text/plain": [
       "505"
      ]
     },
     "execution_count": 168,
     "metadata": {},
     "output_type": "execute_result"
    }
   ],
   "source": [
    "len(comment)"
   ]
  },
  {
   "cell_type": "code",
   "execution_count": 169,
   "metadata": {},
   "outputs": [
    {
     "name": "stdout",
     "output_type": "stream",
     "text": [
      "File Saved as: airAsia.csv\n"
     ]
    }
   ],
   "source": [
    "saveCsv('airAsia')"
   ]
  },
  {
   "cell_type": "markdown",
   "metadata": {},
   "source": [
    "### American Airlines"
   ]
  },
  {
   "cell_type": "code",
   "execution_count": 170,
   "metadata": {},
   "outputs": [],
   "source": [
    "url = \"https://www.tripadvisor.ie/Airline_Review-d8729020-Reviews-American-Airlines\""
   ]
  },
  {
   "cell_type": "code",
   "execution_count": 171,
   "metadata": {},
   "outputs": [],
   "source": [
    "comment = []"
   ]
  },
  {
   "cell_type": "code",
   "execution_count": 172,
   "metadata": {},
   "outputs": [
    {
     "name": "stdout",
     "output_type": "stream",
     "text": [
      "Clicked for3\n",
      "Done for3\n",
      "Clicked for4\n",
      "Done for4\n",
      "Clicked for5\n",
      "Done for5\n",
      "Clicked for6\n",
      "Done for6\n",
      "Clicked for7\n",
      "Done for7\n"
     ]
    }
   ],
   "source": [
    "comment = firstPage(url)"
   ]
  },
  {
   "cell_type": "code",
   "execution_count": 174,
   "metadata": {
    "scrolled": true
   },
   "outputs": [
    {
     "name": "stdout",
     "output_type": "stream",
     "text": [
      "Page:\t5\n",
      "Done for3\n",
      "Done for4\n",
      "Page:\t10\n",
      "Done for3\n",
      "Done for4\n",
      "Done for5\n",
      "Done for6\n",
      "Done for7\n",
      "Page:\t15\n",
      "Page:\t20\n",
      "Done for3\n",
      "Done for4\n",
      "Done for5\n",
      "Done for6\n",
      "Done for7\n",
      "Page:\t25\n",
      "Done for3\n",
      "Done for4\n",
      "Page:\t30\n",
      "Done for3\n",
      "Done for4\n",
      "Done for5\n",
      "Done for6\n",
      "Done for7\n",
      "Page:\t35\n",
      "Done for3\n",
      "Done for4\n",
      "Done for5\n",
      "Done for6\n",
      "Done for7\n",
      "Page:\t40\n",
      "Done for3\n",
      "Done for4\n",
      "Done for5\n",
      "Page:\t45\n",
      "Done for3\n",
      "Done for4\n",
      "Done for5\n",
      "Done for6\n",
      "Done for7\n",
      "Page:\t50\n",
      "Done for3\n",
      "Done for4\n",
      "Done for5\n",
      "Done for6\n",
      "Done for7\n",
      "Page:\t55\n",
      "Done for3\n",
      "Done for4\n",
      "Done for5\n",
      "Done for6\n",
      "Page:\t60\n",
      "Done for3\n",
      "Done for4\n",
      "Done for5\n",
      "Done for6\n",
      "Done for7\n",
      "Page:\t65\n",
      "Done for3\n",
      "Done for4\n",
      "Done for5\n",
      "Done for6\n",
      "Done for7\n",
      "Page:\t70\n",
      "Done for3\n",
      "Done for4\n",
      "Done for5\n",
      "Page:\t75\n",
      "Done for3\n",
      "Done for4\n",
      "Done for5\n",
      "Done for6\n",
      "Done for7\n",
      "Page:\t80\n",
      "Done for3\n",
      "Done for4\n",
      "Done for5\n",
      "Done for6\n",
      "Done for7\n",
      "Page:\t85\n",
      "Done for3\n",
      "Done for4\n",
      "Done for5\n",
      "Done for6\n",
      "Done for7\n",
      "Page:\t90\n",
      "Done for3\n",
      "Page:\t95\n",
      "Done for3\n",
      "Done for4\n",
      "Done for5\n",
      "Done for6\n",
      "Page:\t100\n"
     ]
    }
   ],
   "source": [
    "comment = nextPage()"
   ]
  },
  {
   "cell_type": "code",
   "execution_count": 175,
   "metadata": {},
   "outputs": [
    {
     "data": {
      "text/plain": [
       "584"
      ]
     },
     "execution_count": 175,
     "metadata": {},
     "output_type": "execute_result"
    }
   ],
   "source": [
    "len(comment)"
   ]
  },
  {
   "cell_type": "code",
   "execution_count": 176,
   "metadata": {},
   "outputs": [
    {
     "name": "stdout",
     "output_type": "stream",
     "text": [
      "File Saved as: americanAirlines.csv\n"
     ]
    }
   ],
   "source": [
    "saveCsv('americanAirlines')"
   ]
  },
  {
   "cell_type": "markdown",
   "metadata": {},
   "source": [
    "### British Airways"
   ]
  },
  {
   "cell_type": "code",
   "execution_count": 177,
   "metadata": {},
   "outputs": [],
   "source": [
    "url = 'https://www.tripadvisor.ie/Airline_Review-d8729039-Reviews-British-Airways'"
   ]
  },
  {
   "cell_type": "code",
   "execution_count": 178,
   "metadata": {},
   "outputs": [],
   "source": [
    "comment = []"
   ]
  },
  {
   "cell_type": "code",
   "execution_count": 179,
   "metadata": {},
   "outputs": [
    {
     "name": "stdout",
     "output_type": "stream",
     "text": [
      "Clicked for3\n",
      "Done for3\n",
      "Clicked for4\n",
      "Done for4\n",
      "Clicked for5\n",
      "Done for5\n",
      "Clicked for6\n",
      "Done for6\n",
      "Clicked for7\n",
      "Done for7\n"
     ]
    }
   ],
   "source": [
    "comment = firstPage(url)"
   ]
  },
  {
   "cell_type": "code",
   "execution_count": null,
   "metadata": {},
   "outputs": [
    {
     "name": "stdout",
     "output_type": "stream",
     "text": [
      "Page:\t5\n",
      "Done for3\n",
      "Done for4\n",
      "Done for5\n",
      "Done for6\n",
      "Done for7\n",
      "Page:\t10\n",
      "Done for3\n",
      "Done for4\n",
      "Done for5\n",
      "Done for6\n",
      "Done for7\n",
      "Page:\t15\n",
      "Done for3\n",
      "Done for4\n",
      "Done for5\n",
      "Done for6\n",
      "Done for7\n",
      "Page:\t20\n",
      "Done for3\n",
      "Done for4\n",
      "Done for5\n",
      "Page:\t25\n",
      "Done for3\n",
      "Done for4\n",
      "Done for5\n",
      "Done for6\n",
      "Done for7\n",
      "Page:\t30\n",
      "Done for3\n",
      "Done for4\n",
      "Done for5\n",
      "Done for6\n",
      "Done for7\n",
      "Page:\t35\n",
      "Done for3\n",
      "Done for4\n",
      "Page:\t40\n",
      "Page:\t45\n"
     ]
    }
   ],
   "source": [
    "comment = nextPage()"
   ]
  },
  {
   "cell_type": "code",
   "execution_count": null,
   "metadata": {},
   "outputs": [],
   "source": [
    "len(comment)"
   ]
  },
  {
   "cell_type": "code",
   "execution_count": null,
   "metadata": {},
   "outputs": [],
   "source": [
    "saveCsv('britishAirways')"
   ]
  },
  {
   "cell_type": "code",
   "execution_count": null,
   "metadata": {},
   "outputs": [],
   "source": []
  }
 ],
 "metadata": {
  "kernelspec": {
   "display_name": "Python 3",
   "language": "python",
   "name": "python3"
  },
  "language_info": {
   "codemirror_mode": {
    "name": "ipython",
    "version": 3
   },
   "file_extension": ".py",
   "mimetype": "text/x-python",
   "name": "python",
   "nbconvert_exporter": "python",
   "pygments_lexer": "ipython3",
   "version": "3.7.3"
  }
 },
 "nbformat": 4,
 "nbformat_minor": 2
}
