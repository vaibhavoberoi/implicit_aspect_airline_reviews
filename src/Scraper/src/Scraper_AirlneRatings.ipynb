{
 "cells": [
  {
   "cell_type": "markdown",
   "metadata": {},
   "source": [
    "# Importing Project Dependencies"
   ]
  },
  {
   "cell_type": "code",
   "execution_count": 2,
   "metadata": {},
   "outputs": [],
   "source": [
    "import time\n",
    "from selenium import webdriver\n",
    "from selenium.webdriver.common.by import By\n",
    "import pandas as pd\n",
    "import nltk \n",
    "import random\n",
    "import string"
   ]
  },
  {
   "cell_type": "markdown",
   "metadata": {},
   "source": [
    "# Create Dataframe"
   ]
  },
  {
   "cell_type": "code",
   "execution_count": 13,
   "metadata": {},
   "outputs": [],
   "source": [
    "dfObj = pd.DataFrame()"
   ]
  },
  {
   "cell_type": "markdown",
   "metadata": {},
   "source": [
    "# Defining Variables"
   ]
  },
  {
   "cell_type": "code",
   "execution_count": 8,
   "metadata": {},
   "outputs": [],
   "source": [
    "comments = []\n",
    "browser = webdriver.Chrome(chromedriverpath)\n",
    "airlines = ['aer-lingus', 'air-arabia', 'air-canada', 'air-france', \n",
    "           'air-india', 'airasia', 'american-airlines', \n",
    "           'cathay-pacific-airways', 'dragonair', 'emirates', \n",
    "           'fiji-airways', 'garuda-indonesia', 'goair', 'hop', \n",
    "           'hong-kong-airlines', 'iran-air', 'indigo-airlines', 'vistara']"
   ]
  },
  {
   "cell_type": "markdown",
   "metadata": {},
   "source": [
    "# Scraping all together"
   ]
  },
  {
   "cell_type": "markdown",
   "metadata": {},
   "source": [
    "Looping over all airlines mentioned above"
   ]
  },
  {
   "cell_type": "code",
   "execution_count": 9,
   "metadata": {},
   "outputs": [],
   "source": [
    "for data in airlines:\n",
    "    name = data\n",
    "    url = \"https://www.airlinequality.com/airline-reviews/\"+name+\"/?sortby=post_date%3ADesc&pagesize=100\"\n",
    "    browser.get(url)\n",
    "    time.sleep(10)\n",
    "    comments = browser.find_element(By.XPATH, '/html/body/div[1]/div/div/div/section[3]/div[1]/article').text\n",
    "    file = open('Airline_'+str(name)+'_data', 'w', newline='', encoding = \"UTF-8\")\n",
    "    wr = file.write(comments)\n",
    "    file.close()"
   ]
  },
  {
   "cell_type": "code",
   "execution_count": 10,
   "metadata": {},
   "outputs": [],
   "source": [
    "browser.quit()"
   ]
  },
  {
   "cell_type": "code",
   "execution_count": 14,
   "metadata": {},
   "outputs": [],
   "source": [
    "for data in airlines:\n",
    "    name = data\n",
    "    file = open(\"Airline_\"+name+\"_data\", \"r\", encoding='UTF-8')\n",
    "    lines = file.readlines()\n",
    "    status = []\n",
    "    comment = []\n",
    "    n = 0\n",
    "    for line in lines:\n",
    "        n = n+1\n",
    "        if \"Verified\" in line:\n",
    "            status.append(line.split(\"|\")[0])\n",
    "            comment.append(line.split(\"|\")[1])\n",
    "    dfObj['Status'] = status\n",
    "    dfObj['Comment'] = comment\n",
    "    dfObj.to_csv('Output'+name+'.csv',encoding='UTF-8')\n",
    "    dfObj = pd.DataFrame()\n",
    "    file.close()"
   ]
  },
  {
   "cell_type": "code",
   "execution_count": 52,
   "metadata": {},
   "outputs": [],
   "source": [
    "for data in airlines:\n",
    "    name = data\n",
    "    df = pd.read_csv('Output'+name+'.csv')"
   ]
  },
  {
   "cell_type": "code",
   "execution_count": 53,
   "metadata": {
    "scrolled": true
   },
   "outputs": [
    {
     "data": {
      "text/html": [
       "<div>\n",
       "<style scoped>\n",
       "    .dataframe tbody tr th:only-of-type {\n",
       "        vertical-align: middle;\n",
       "    }\n",
       "\n",
       "    .dataframe tbody tr th {\n",
       "        vertical-align: top;\n",
       "    }\n",
       "\n",
       "    .dataframe thead th {\n",
       "        text-align: right;\n",
       "    }\n",
       "</style>\n",
       "<table border=\"1\" class=\"dataframe\">\n",
       "  <thead>\n",
       "    <tr style=\"text-align: right;\">\n",
       "      <th></th>\n",
       "      <th>Unnamed: 0</th>\n",
       "      <th>Status</th>\n",
       "      <th>Comment</th>\n",
       "    </tr>\n",
       "  </thead>\n",
       "  <tbody>\n",
       "    <tr>\n",
       "      <th>0</th>\n",
       "      <td>0</td>\n",
       "      <td>✅ Trip Verified</td>\n",
       "      <td>I was flying from Frankfurt to Boston via Dub...</td>\n",
       "    </tr>\n",
       "    <tr>\n",
       "      <th>1</th>\n",
       "      <td>1</td>\n",
       "      <td>Not Verified</td>\n",
       "      <td>Lisbon to Seattle via Dublin. It was my first...</td>\n",
       "    </tr>\n",
       "    <tr>\n",
       "      <th>2</th>\n",
       "      <td>2</td>\n",
       "      <td>✅ Trip Verified</td>\n",
       "      <td>Paris to Chicago via Dublin. First time trave...</td>\n",
       "    </tr>\n",
       "    <tr>\n",
       "      <th>3</th>\n",
       "      <td>3</td>\n",
       "      <td>✅ Trip Verified</td>\n",
       "      <td>Had a good flight from Dublin to Amsterdam an...</td>\n",
       "    </tr>\n",
       "    <tr>\n",
       "      <th>4</th>\n",
       "      <td>4</td>\n",
       "      <td>✅ Trip Verified</td>\n",
       "      <td>Glasgow to Toronto via Dublin. Weekend in Tor...</td>\n",
       "    </tr>\n",
       "  </tbody>\n",
       "</table>\n",
       "</div>"
      ],
      "text/plain": [
       "   Unnamed: 0            Status  \\\n",
       "0           0  ✅ Trip Verified    \n",
       "1           1     Not Verified    \n",
       "2           2  ✅ Trip Verified    \n",
       "3           3  ✅ Trip Verified    \n",
       "4           4  ✅ Trip Verified    \n",
       "\n",
       "                                             Comment  \n",
       "0   I was flying from Frankfurt to Boston via Dub...  \n",
       "1   Lisbon to Seattle via Dublin. It was my first...  \n",
       "2   Paris to Chicago via Dublin. First time trave...  \n",
       "3   Had a good flight from Dublin to Amsterdam an...  \n",
       "4   Glasgow to Toronto via Dublin. Weekend in Tor...  "
      ]
     },
     "execution_count": 53,
     "metadata": {},
     "output_type": "execute_result"
    }
   ],
   "source": [
    "df.head()"
   ]
  },
  {
   "cell_type": "code",
   "execution_count": 59,
   "metadata": {},
   "outputs": [],
   "source": [
    "df_copy = df.copy()"
   ]
  },
  {
   "cell_type": "code",
   "execution_count": 62,
   "metadata": {},
   "outputs": [
    {
     "data": {
      "text/html": [
       "<div>\n",
       "<style scoped>\n",
       "    .dataframe tbody tr th:only-of-type {\n",
       "        vertical-align: middle;\n",
       "    }\n",
       "\n",
       "    .dataframe tbody tr th {\n",
       "        vertical-align: top;\n",
       "    }\n",
       "\n",
       "    .dataframe thead th {\n",
       "        text-align: right;\n",
       "    }\n",
       "</style>\n",
       "<table border=\"1\" class=\"dataframe\">\n",
       "  <thead>\n",
       "    <tr style=\"text-align: right;\">\n",
       "      <th></th>\n",
       "      <th>Unnamed: 0</th>\n",
       "      <th>Status</th>\n",
       "      <th>Comment</th>\n",
       "    </tr>\n",
       "  </thead>\n",
       "  <tbody>\n",
       "    <tr>\n",
       "      <th>0</th>\n",
       "      <td>0</td>\n",
       "      <td>✅ Trip Verified</td>\n",
       "      <td>I was flying from Frankfurt to Boston via Dub...</td>\n",
       "    </tr>\n",
       "    <tr>\n",
       "      <th>1</th>\n",
       "      <td>1</td>\n",
       "      <td>Not Verified</td>\n",
       "      <td>Lisbon to Seattle via Dublin. It was my first...</td>\n",
       "    </tr>\n",
       "    <tr>\n",
       "      <th>2</th>\n",
       "      <td>2</td>\n",
       "      <td>✅ Trip Verified</td>\n",
       "      <td>Paris to Chicago via Dublin. First time trave...</td>\n",
       "    </tr>\n",
       "    <tr>\n",
       "      <th>3</th>\n",
       "      <td>3</td>\n",
       "      <td>✅ Trip Verified</td>\n",
       "      <td>Had a good flight from Dublin to Amsterdam an...</td>\n",
       "    </tr>\n",
       "    <tr>\n",
       "      <th>4</th>\n",
       "      <td>4</td>\n",
       "      <td>✅ Trip Verified</td>\n",
       "      <td>Glasgow to Toronto via Dublin. Weekend in Tor...</td>\n",
       "    </tr>\n",
       "  </tbody>\n",
       "</table>\n",
       "</div>"
      ],
      "text/plain": [
       "   Unnamed: 0            Status  \\\n",
       "0           0  ✅ Trip Verified    \n",
       "1           1     Not Verified    \n",
       "2           2  ✅ Trip Verified    \n",
       "3           3  ✅ Trip Verified    \n",
       "4           4  ✅ Trip Verified    \n",
       "\n",
       "                                             Comment  \n",
       "0   I was flying from Frankfurt to Boston via Dub...  \n",
       "1   Lisbon to Seattle via Dublin. It was my first...  \n",
       "2   Paris to Chicago via Dublin. First time trave...  \n",
       "3   Had a good flight from Dublin to Amsterdam an...  \n",
       "4   Glasgow to Toronto via Dublin. Weekend in Tor...  "
      ]
     },
     "execution_count": 62,
     "metadata": {},
     "output_type": "execute_result"
    }
   ],
   "source": [
    "df_copy.head()"
   ]
  },
  {
   "cell_type": "code",
   "execution_count": 63,
   "metadata": {},
   "outputs": [],
   "source": [
    "reviews = []\n",
    "for review in df_copy['Comment']:\n",
    "    review = review.lower()\n",
    "    reviews.append(review)"
   ]
  },
  {
   "cell_type": "code",
   "execution_count": 66,
   "metadata": {},
   "outputs": [],
   "source": [
    "df_copy['Comment'] = reviews"
   ]
  },
  {
   "cell_type": "code",
   "execution_count": 118,
   "metadata": {},
   "outputs": [
    {
     "data": {
      "text/html": [
       "<div>\n",
       "<style scoped>\n",
       "    .dataframe tbody tr th:only-of-type {\n",
       "        vertical-align: middle;\n",
       "    }\n",
       "\n",
       "    .dataframe tbody tr th {\n",
       "        vertical-align: top;\n",
       "    }\n",
       "\n",
       "    .dataframe thead th {\n",
       "        text-align: right;\n",
       "    }\n",
       "</style>\n",
       "<table border=\"1\" class=\"dataframe\">\n",
       "  <thead>\n",
       "    <tr style=\"text-align: right;\">\n",
       "      <th></th>\n",
       "      <th>Unnamed: 0</th>\n",
       "      <th>Status</th>\n",
       "      <th>Comment</th>\n",
       "    </tr>\n",
       "  </thead>\n",
       "  <tbody>\n",
       "    <tr>\n",
       "      <th>0</th>\n",
       "      <td>0</td>\n",
       "      <td>✅ Trip Verified</td>\n",
       "      <td>i was flying from frankfurt to boston via dub...</td>\n",
       "    </tr>\n",
       "    <tr>\n",
       "      <th>1</th>\n",
       "      <td>1</td>\n",
       "      <td>Not Verified</td>\n",
       "      <td>lisbon to seattle via dublin it was my first ...</td>\n",
       "    </tr>\n",
       "    <tr>\n",
       "      <th>2</th>\n",
       "      <td>2</td>\n",
       "      <td>✅ Trip Verified</td>\n",
       "      <td>paris to chicago via dublin first time travel...</td>\n",
       "    </tr>\n",
       "    <tr>\n",
       "      <th>3</th>\n",
       "      <td>3</td>\n",
       "      <td>✅ Trip Verified</td>\n",
       "      <td>had a good flight from dublin to amsterdam an...</td>\n",
       "    </tr>\n",
       "    <tr>\n",
       "      <th>4</th>\n",
       "      <td>4</td>\n",
       "      <td>✅ Trip Verified</td>\n",
       "      <td>glasgow to toronto via dublin weekend in toro...</td>\n",
       "    </tr>\n",
       "  </tbody>\n",
       "</table>\n",
       "</div>"
      ],
      "text/plain": [
       "   Unnamed: 0            Status  \\\n",
       "0           0  ✅ Trip Verified    \n",
       "1           1     Not Verified    \n",
       "2           2  ✅ Trip Verified    \n",
       "3           3  ✅ Trip Verified    \n",
       "4           4  ✅ Trip Verified    \n",
       "\n",
       "                                             Comment  \n",
       "0   i was flying from frankfurt to boston via dub...  \n",
       "1   lisbon to seattle via dublin it was my first ...  \n",
       "2   paris to chicago via dublin first time travel...  \n",
       "3   had a good flight from dublin to amsterdam an...  \n",
       "4   glasgow to toronto via dublin weekend in toro...  "
      ]
     },
     "execution_count": 118,
     "metadata": {},
     "output_type": "execute_result"
    }
   ],
   "source": [
    "df_copy.head()"
   ]
  },
  {
   "cell_type": "markdown",
   "metadata": {},
   "source": [
    "   # Getting Frequency Distribution of Airline Ratings dataset"
   ]
  },
  {
   "cell_type": "code",
   "execution_count": 115,
   "metadata": {},
   "outputs": [
    {
     "name": "stdout",
     "output_type": "stream",
     "text": [
      "[('the', 23), ('to', 15)]\n",
      "[('is', 5), ('was', 4)]\n",
      "[('the', 6), ('i', 3)]\n",
      "[('to', 5), ('i', 5)]\n",
      "[('the', 5), ('and', 4)]\n",
      "[('and', 12), ('the', 11)]\n",
      "[('was', 4), ('to', 2)]\n",
      "[('was', 5), ('to', 4)]\n",
      "[('to', 4), ('the', 4)]\n",
      "[('to', 4), ('i', 3)]\n",
      "[('the', 40), ('i', 31)]\n",
      "[('to', 34), ('the', 29)]\n",
      "[('to', 25), ('i', 19)]\n",
      "[('my', 18), ('the', 15)]\n",
      "[('i', 15), ('and', 14)]\n",
      "[('my', 15), ('to', 13)]\n",
      "[('was', 12), ('a', 9)]\n",
      "[('and', 5), ('to', 2)]\n",
      "[('to', 5), ('in', 5)]\n",
      "[('you', 5), ('’', 5)]\n",
      "[('the', 9), ('was', 6)]\n",
      "[('to', 10), ('i', 9)]\n",
      "[('i', 13), ('to', 10)]\n",
      "[('to', 5), ('and', 5)]\n",
      "[('and', 3), ('cabin', 3)]\n",
      "[('the', 20), ('was', 14)]\n",
      "[('to', 16), ('you', 13)]\n",
      "[('the', 14), ('to', 13)]\n",
      "[('the', 11), ('we', 9)]\n",
      "[('to', 4), ('and', 4)]\n",
      "[('and', 25), ('the', 21)]\n",
      "[('to', 5), ('the', 5)]\n",
      "[('los', 2), ('angeles', 2)]\n",
      "[('to', 3), ('well', 3)]\n",
      "[('the', 35), ('and', 17)]\n",
      "[('the', 6), ('on', 5)]\n",
      "[('we', 13), ('to', 9)]\n",
      "[('to', 22), ('at', 11)]\n",
      "[('to', 9), ('flight', 5)]\n",
      "[('to', 8), ('we', 6)]\n",
      "[('the', 33), ('to', 28)]\n",
      "[('the', 11), ('and', 8)]\n",
      "[('to', 18), ('a', 12)]\n",
      "[('i', 30), ('to', 27)]\n",
      "[('to', 23), ('the', 18)]\n",
      "[('the', 8), ('to', 6)]\n",
      "[('was', 3), ('dublin', 2)]\n",
      "[('to', 4), ('communication', 3)]\n",
      "[('to', 28), ('i', 14)]\n",
      "[('to', 7), ('and', 7)]\n",
      "[('the', 15), ('to', 6)]\n",
      "[('the', 21), ('to', 19)]\n",
      "[('the', 10), ('and', 8)]\n",
      "[('the', 41), ('to', 28)]\n",
      "[('the', 11), ('and', 9)]\n",
      "[('the', 9), ('for', 5)]\n",
      "[('i', 23), ('to', 13)]\n",
      "[('and', 6), ('i', 5)]\n",
      "[('the', 5), ('was', 4)]\n",
      "[('a', 8), ('to', 6)]\n",
      "[('to', 4), ('the', 3)]\n",
      "[('a', 4), ('to', 3)]\n",
      "[('and', 4), ('were', 2)]\n",
      "[('to', 3), ('i', 3)]\n",
      "[('the', 5), ('was', 4)]\n",
      "[('the', 10), ('to', 9)]\n",
      "[('flight', 4), ('no', 2)]\n",
      "[('the', 6), ('to', 4)]\n",
      "[('dublin', 3), ('i', 3)]\n",
      "[('to', 8), ('the', 6)]\n",
      "[('the', 14), ('i', 11)]\n",
      "[('to', 7), ('i', 5)]\n",
      "[('to', 11), ('and', 9)]\n",
      "[('the', 16), ('was', 10)]\n",
      "[('of', 10), ('the', 10)]\n",
      "[('and', 8), ('the', 8)]\n",
      "[('and', 9), ('the', 7)]\n",
      "[('to', 4), ('and', 4)]\n",
      "[('the', 4), ('times', 3)]\n",
      "[('the', 8), ('great', 4)]\n",
      "[('the', 10), ('was', 6)]\n",
      "[('the', 12), ('i', 10)]\n",
      "[('i', 8), ('to', 5)]\n",
      "[('i', 5), ('to', 3)]\n",
      "[('i', 11), ('to', 10)]\n",
      "[('and', 17), ('the', 17)]\n",
      "[('the', 11), ('to', 6)]\n",
      "[('the', 6), ('i', 4)]\n",
      "[('by', 3), ('chicago', 2)]\n",
      "[('the', 24), ('to', 15)]\n",
      "[('the', 9), ('and', 7)]\n",
      "[('the', 9), ('a', 9)]\n",
      "[('the', 4), ('we', 4)]\n",
      "[('to', 17), ('was', 8)]\n",
      "[('the', 25), ('and', 12)]\n",
      "[('to', 10), ('flight', 6)]\n",
      "[('and', 13), ('i', 8)]\n",
      "[('and', 12), ('to', 9)]\n",
      "[('to', 5), ('flight', 3)]\n",
      "[('great', 3), ('staff', 2)]\n"
     ]
    }
   ],
   "source": [
    "from nltk.probability import FreqDist\n",
    "from nltk.tokenize import word_tokenize\n",
    "for sent in df_copy['Comment']:\n",
    "    tokenized_word=word_tokenize(sent)\n",
    "    fdist = FreqDist(tokenized_word)\n",
    "    print(fdist.most_common(2))"
   ]
  },
  {
   "cell_type": "code",
   "execution_count": 117,
   "metadata": {},
   "outputs": [
    {
     "data": {
      "image/png": "[encoded data removed]",
      "text/plain": [
       "<Figure size 432x288 with 1 Axes>"
      ]
     },
     "metadata": {
      "needs_background": "light"
     },
     "output_type": "display_data"
    }
   ],
   "source": [
    "import matplotlib.pyplot as plt\n",
    "fdist.plot(30,cumulative=False)\n",
    "plt.show()"
   ]
  },
  {
   "cell_type": "code",
   "execution_count": null,
   "metadata": {},
   "outputs": [],
   "source": []
  }
 ],
 "metadata": {
  "kernelspec": {
   "display_name": "Python 3",
   "language": "python",
   "name": "python3"
  },
  "language_info": {
   "codemirror_mode": {
    "name": "ipython",
    "version": 3
   },
   "file_extension": ".py",
   "mimetype": "text/x-python",
   "name": "python",
   "nbconvert_exporter": "python",
   "pygments_lexer": "ipython3",
   "version": "3.7.3"
  }
 },
 "nbformat": 4,
 "nbformat_minor": 2
}
