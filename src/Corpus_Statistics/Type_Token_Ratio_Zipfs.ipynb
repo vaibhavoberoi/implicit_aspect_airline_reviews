{
 "cells": [
  {
   "cell_type": "markdown",
   "metadata": {},
   "source": [
    "# Importing Project dependencies"
   ]
  },
  {
   "cell_type": "code",
   "execution_count": 3,
   "metadata": {},
   "outputs": [],
   "source": [
    "import json\n",
    "import nltk\n",
    "import csv\n",
    "import glob"
   ]
  },
  {
   "cell_type": "code",
   "execution_count": 4,
   "metadata": {},
   "outputs": [],
   "source": [
    "path1 = r'C:\\Users\\Kanishk Verma\\Desktop\\Practicum\\DepTag\\AirlineRatings'\n",
    "path2 = r'C:\\Users\\Kanishk Verma\\Desktop\\Practicum\\DepTag\\TripAdvisor'"
   ]
  },
  {
   "cell_type": "code",
   "execution_count": 5,
   "metadata": {},
   "outputs": [],
   "source": [
    "file1 = glob.glob(path1+r'\\*.json')\n",
    "\n",
    "file2 = glob.glob(path2+r'\\*.json')\n"
   ]
  },
  {
   "cell_type": "code",
   "execution_count": 6,
   "metadata": {},
   "outputs": [],
   "source": [
    "files = file1+file2"
   ]
  },
  {
   "cell_type": "code",
   "execution_count": 7,
   "metadata": {},
   "outputs": [],
   "source": [
    "from nltk.corpus import stopwords\n",
    "stop_words = list(stopwords.words('english'))\n",
    "newStop = ['was', 'and', 'the', 'to', 'in', 'of', 'a', 'an', 'is', 'were', 'for', 'with', 'are', 'one', 'our', 'gave', 'have',\n",
    "           'me', 'an', 'i', 'or', 'had', 'did', 'get', 'made', 'take', 'given', 'told', 'let', 'us', \"n't\", 'air', 'one', 'two', 'three', \n",
    "          'four', 'five', 'thousand', 'cc', 'twenty', 'ten', 'hundred']\n",
    "stop_words = stop_words+newStop\n",
    "stop_words.remove('not')"
   ]
  },
  {
   "cell_type": "markdown",
   "metadata": {},
   "source": [
    "# Loading Files"
   ]
  },
  {
   "cell_type": "code",
   "execution_count": 8,
   "metadata": {},
   "outputs": [],
   "source": [
    "finInfo = []\n",
    "for i in range(len(files)):\n",
    "    for line in open(files[i]):\n",
    "        info = json.loads(line)\n",
    "    finInfo.append(info)"
   ]
  },
  {
   "cell_type": "code",
   "execution_count": 8,
   "metadata": {},
   "outputs": [],
   "source": [
    "labelledWords = []\n",
    "for i in range(len(finInfo)):\n",
    "    for j in range(len(finInfo[i])):\n",
    "        info = finInfo[i][j]\n",
    "        labels = info['Labels']\n",
    "        for p in range(len(labels)):\n",
    "            for k,v in labels[p].items():\n",
    "                for l in range(len(v)):\n",
    "                    if (v[l] not in stop_words):\n",
    "                        lblWrd = v[l].split()\n",
    "                        for w in lblWrd:\n",
    "                            labelledWords.append(w)\n",
    "labelledWords = list(set(labelledWords))"
   ]
  },
  {
   "cell_type": "code",
   "execution_count": 8,
   "metadata": {},
   "outputs": [],
   "source": [
    "def calculateTTR(airlinename):\n",
    "    '''\n",
    "    This function calcuates the Type Token Ratio.\n",
    "    Input is only airline-name\n",
    "    '''\n",
    "    for i in range(len(allInfo)):\n",
    "        if allInfo[i]['AirlineName'] == airlinename:\n",
    "            reviews = []\n",
    "            finInfo = allInfo[i]['Info'][0]\n",
    "            for j in range(len(finInfo)):\n",
    "                sents = finInfo[j]['sentence']\n",
    "                for s in sents:\n",
    "                    reviews.append(s)\n",
    "            allTxt = ' '.join(reviews)\n",
    "            tokens = nltk.word_tokenize(allTxt)\n",
    "            newTkn = []\n",
    "            for tkn in tokens:\n",
    "                if tkn not in stop_words:\n",
    "                    newTkn.append(tkn)\n",
    "            \n",
    "            types = nltk.Counter(newTkn)\n",
    "            TTR = round((len(types)/ len(newTkn)), 2)\n",
    "            print(airlinename+\" Type/Token Ratio is: \"+str(TTR))\n",
    "            return TTR"
   ]
  },
  {
   "cell_type": "markdown",
   "metadata": {},
   "source": [
    "# AirlineRatings"
   ]
  },
  {
   "cell_type": "code",
   "execution_count": 9,
   "metadata": {},
   "outputs": [
    {
     "data": {
      "text/plain": [
       "['C:\\\\Users\\\\Kanishk Verma\\\\Desktop\\\\Practicum\\\\DepTag\\\\AirlineRatings\\\\AerLingus_DepTag.json',\n",
       " 'C:\\\\Users\\\\Kanishk Verma\\\\Desktop\\\\Practicum\\\\DepTag\\\\AirlineRatings\\\\AirArabia_DepTag.json',\n",
       " 'C:\\\\Users\\\\Kanishk Verma\\\\Desktop\\\\Practicum\\\\DepTag\\\\AirlineRatings\\\\AirAsia_DepTag.json',\n",
       " 'C:\\\\Users\\\\Kanishk Verma\\\\Desktop\\\\Practicum\\\\DepTag\\\\AirlineRatings\\\\AirCanada_DepTag.json',\n",
       " 'C:\\\\Users\\\\Kanishk Verma\\\\Desktop\\\\Practicum\\\\DepTag\\\\AirlineRatings\\\\AirFrance_DepTag.json',\n",
       " 'C:\\\\Users\\\\Kanishk Verma\\\\Desktop\\\\Practicum\\\\DepTag\\\\AirlineRatings\\\\AirIndia_DepTag.json',\n",
       " 'C:\\\\Users\\\\Kanishk Verma\\\\Desktop\\\\Practicum\\\\DepTag\\\\AirlineRatings\\\\AmericanAirlines_DepTag.json',\n",
       " 'C:\\\\Users\\\\Kanishk Verma\\\\Desktop\\\\Practicum\\\\DepTag\\\\AirlineRatings\\\\DragonAir_DepTag.json',\n",
       " 'C:\\\\Users\\\\Kanishk Verma\\\\Desktop\\\\Practicum\\\\DepTag\\\\AirlineRatings\\\\IndigoAirlines_DepTag.json',\n",
       " 'C:\\\\Users\\\\Kanishk Verma\\\\Desktop\\\\Practicum\\\\DepTag\\\\AirlineRatings\\\\Vistara_DepTag.json']"
      ]
     },
     "execution_count": 9,
     "metadata": {},
     "output_type": "execute_result"
    }
   ],
   "source": [
    "file1"
   ]
  },
  {
   "cell_type": "code",
   "execution_count": 10,
   "metadata": {},
   "outputs": [],
   "source": [
    "allInfo = []\n",
    "for i in range(len(file1)):\n",
    "    dic = {}\n",
    "    fname = file1[i].split(\"\\\\\")[-1].split(\"_\")[0]\n",
    "    dic['AirlineName'] = fname\n",
    "    n = []\n",
    "    for line in open(file1[i]):\n",
    "        info2 = json.loads(line)\n",
    "    n.append(info2)\n",
    "    dic['Info'] = n\n",
    "    allInfo.append(dic)"
   ]
  },
  {
   "cell_type": "code",
   "execution_count": 11,
   "metadata": {},
   "outputs": [
    {
     "data": {
      "text/plain": [
       "10"
      ]
     },
     "execution_count": 11,
     "metadata": {},
     "output_type": "execute_result"
    }
   ],
   "source": [
    "len(allInfo)"
   ]
  },
  {
   "cell_type": "code",
   "execution_count": 12,
   "metadata": {},
   "outputs": [],
   "source": [
    "airlineNames = []\n",
    "for i in range(len(allInfo)):\n",
    "    airlineNames.append(allInfo[i]['AirlineName'])"
   ]
  },
  {
   "cell_type": "code",
   "execution_count": 13,
   "metadata": {},
   "outputs": [
    {
     "data": {
      "text/plain": [
       "['AerLingus',\n",
       " 'AirArabia',\n",
       " 'AirAsia',\n",
       " 'AirCanada',\n",
       " 'AirFrance',\n",
       " 'AirIndia',\n",
       " 'AmericanAirlines',\n",
       " 'DragonAir',\n",
       " 'IndigoAirlines',\n",
       " 'Vistara']"
      ]
     },
     "execution_count": 13,
     "metadata": {},
     "output_type": "execute_result"
    }
   ],
   "source": [
    "airlineNames"
   ]
  },
  {
   "cell_type": "markdown",
   "metadata": {},
   "source": [
    "## Airline-wise TTR"
   ]
  },
  {
   "cell_type": "code",
   "execution_count": 14,
   "metadata": {},
   "outputs": [
    {
     "name": "stdout",
     "output_type": "stream",
     "text": [
      "AerLingus Type/Token Ratio is: 0.24\n",
      "AirArabia Type/Token Ratio is: 0.25\n",
      "AirAsia Type/Token Ratio is: 0.32\n",
      "AirCanada Type/Token Ratio is: 0.29\n",
      "AirFrance Type/Token Ratio is: 0.29\n",
      "AirIndia Type/Token Ratio is: 0.28\n",
      "AmericanAirlines Type/Token Ratio is: 0.27\n",
      "DragonAir Type/Token Ratio is: 0.51\n",
      "IndigoAirlines Type/Token Ratio is: 0.27\n",
      "Vistara Type/Token Ratio is: 0.31\n"
     ]
    }
   ],
   "source": [
    "lingusTTR = calculateTTR('AerLingus')\n",
    "arabiaTTR= calculateTTR('AirArabia')\n",
    "asiaTTR= calculateTTR('AirAsia')\n",
    "canadaTTR= calculateTTR('AirCanada')\n",
    "franceTTR= calculateTTR('AirFrance')\n",
    "indiaTTR= calculateTTR('AirIndia')\n",
    "americanTTR= calculateTTR('AmericanAirlines')\n",
    "dragonTTR= calculateTTR('DragonAir')\n",
    "indigoTTR= calculateTTR('IndigoAirlines')\n",
    "vistaraTTR= calculateTTR('Vistara')"
   ]
  },
  {
   "cell_type": "code",
   "execution_count": 15,
   "metadata": {},
   "outputs": [],
   "source": [
    "TTRs = [lingusTTR,\n",
    "arabiaTTR,\n",
    "asiaTTR,\n",
    "canadaTTR,\n",
    "franceTTR,\n",
    "indiaTTR,\n",
    "americanTTR,\n",
    "dragonTTR,\n",
    "indigoTTR,\n",
    "vistaraTTR]"
   ]
  },
  {
   "cell_type": "code",
   "execution_count": 16,
   "metadata": {},
   "outputs": [],
   "source": [
    "import pandas as pd"
   ]
  },
  {
   "cell_type": "code",
   "execution_count": 17,
   "metadata": {},
   "outputs": [],
   "source": [
    "df = pd.DataFrame(columns=['Airline', 'TTR'])\n",
    "df['Airline'] = airlineNames\n",
    "df['TTR'] = TTRs"
   ]
  },
  {
   "cell_type": "code",
   "execution_count": 18,
   "metadata": {},
   "outputs": [],
   "source": [
    "import matplotlib.pyplot as plt\n",
    "import seaborn as sns"
   ]
  },
  {
   "cell_type": "code",
   "execution_count": 19,
   "metadata": {},
   "outputs": [],
   "source": [
    "sns.set_style(\"whitegrid\")"
   ]
  },
  {
   "cell_type": "code",
   "execution_count": 20,
   "metadata": {},
   "outputs": [
    {
     "data": {
      "image/png": "[encoded data removed]",
      "text/plain": [
       "<Figure size 1008x576 with 1 Axes>"
      ]
     },
     "metadata": {},
     "output_type": "display_data"
    }
   ],
   "source": [
    "plt.figure(figsize=(14,8))\n",
    "sns.barplot(x=df['Airline'],y=df['TTR'])\n",
    "plt.title('Type Token Ratio')\n",
    "plt.xlabel('Airlines')\n",
    "plt.ylabel('TTR')\n",
    "plt.show()"
   ]
  },
  {
   "cell_type": "markdown",
   "metadata": {},
   "source": [
    "# TripAdvisor"
   ]
  },
  {
   "cell_type": "code",
   "execution_count": 21,
   "metadata": {},
   "outputs": [],
   "source": [
    "allInfo = []\n",
    "for i in range(len(file2)):\n",
    "    dic = {}\n",
    "    fname = file2[i].split(\"\\\\\")[-1].split(\"_\")[0]\n",
    "    dic['AirlineName'] = fname\n",
    "    n = []\n",
    "    for line in open(file2[i]):\n",
    "        info2 = json.loads(line)\n",
    "    n.append(info2)\n",
    "    dic['Info'] = n\n",
    "    allInfo.append(dic)"
   ]
  },
  {
   "cell_type": "code",
   "execution_count": 22,
   "metadata": {},
   "outputs": [],
   "source": [
    "airlineNames = []\n",
    "for i in range(len(allInfo)):\n",
    "    airlineNames.append(allInfo[i]['AirlineName'])"
   ]
  },
  {
   "cell_type": "code",
   "execution_count": 23,
   "metadata": {},
   "outputs": [
    {
     "data": {
      "text/plain": [
       "['AirArabia',\n",
       " 'AirAsia',\n",
       " 'AirCanada',\n",
       " 'AirFrance',\n",
       " 'AirIndia',\n",
       " 'British',\n",
       " 'Emirates',\n",
       " 'UnitedAirlines',\n",
       " 'VirginAtlantic',\n",
       " 'VirginAustralia',\n",
       " 'Vistara']"
      ]
     },
     "execution_count": 23,
     "metadata": {},
     "output_type": "execute_result"
    }
   ],
   "source": [
    "airlineNames"
   ]
  },
  {
   "cell_type": "markdown",
   "metadata": {},
   "source": [
    "## Airline-wise TTR"
   ]
  },
  {
   "cell_type": "code",
   "execution_count": 24,
   "metadata": {},
   "outputs": [
    {
     "name": "stdout",
     "output_type": "stream",
     "text": [
      "AirArabia Type/Token Ratio is: 0.42\n",
      "AirAsia Type/Token Ratio is: 0.44\n",
      "AirCanada Type/Token Ratio is: 0.45\n",
      "AirFrance Type/Token Ratio is: 0.44\n",
      "AirIndia Type/Token Ratio is: 0.7\n",
      "British Type/Token Ratio is: 0.42\n",
      "Emirates Type/Token Ratio is: 0.29\n",
      "UnitedAirlines Type/Token Ratio is: 0.44\n",
      "VirginAtlantic Type/Token Ratio is: 0.44\n",
      "VirginAustralia Type/Token Ratio is: 0.46\n",
      "Vistara Type/Token Ratio is: 0.45\n"
     ]
    }
   ],
   "source": [
    "arabiaTTR= calculateTTR('AirArabia')\n",
    "asiaTTR= calculateTTR('AirAsia')\n",
    "canadaTTR= calculateTTR('AirCanada')\n",
    "franceTTR= calculateTTR('AirFrance')\n",
    "indiaTTR= calculateTTR('AirIndia')\n",
    "britishTTR= calculateTTR('British')\n",
    "emiratesTTR= calculateTTR('Emirates')\n",
    "unitedTTR= calculateTTR('UnitedAirlines')\n",
    "atlanticTTR= calculateTTR('VirginAtlantic')\n",
    "ausTTR= calculateTTR('VirginAustralia')\n",
    "vistaraTTR= calculateTTR('Vistara')"
   ]
  },
  {
   "cell_type": "code",
   "execution_count": 25,
   "metadata": {},
   "outputs": [],
   "source": [
    "TTRs= [arabiaTTR,\n",
    "asiaTTR,\n",
    "canadaTTR,\n",
    "franceTTR,\n",
    "indiaTTR,\n",
    "britishTTR,\n",
    "emiratesTTR,\n",
    "unitedTTR,\n",
    "atlanticTTR,\n",
    "ausTTR,\n",
    "vistaraTTR]"
   ]
  },
  {
   "cell_type": "code",
   "execution_count": 26,
   "metadata": {},
   "outputs": [],
   "source": [
    "df = pd.DataFrame(columns=['Airline', 'TTR'])\n",
    "df['Airline'] = airlineNames\n",
    "df['TTR'] = TTRs"
   ]
  },
  {
   "cell_type": "code",
   "execution_count": 27,
   "metadata": {},
   "outputs": [
    {
     "data": {
      "image/png": "[encoded data removed]",
      "text/plain": [
       "<Figure size 1008x576 with 1 Axes>"
      ]
     },
     "metadata": {},
     "output_type": "display_data"
    }
   ],
   "source": [
    "plt.figure(figsize=(14,8))\n",
    "sns.barplot(x=df['Airline'],y=df['TTR'])\n",
    "plt.title('Type Token Ratio')\n",
    "plt.xlabel('Airlines')\n",
    "plt.ylabel('TTR')\n",
    "plt.show()"
   ]
  },
  {
   "cell_type": "markdown",
   "metadata": {},
   "source": [
    "# Between Both Data Source"
   ]
  },
  {
   "cell_type": "code",
   "execution_count": 59,
   "metadata": {},
   "outputs": [],
   "source": [
    "cmnairlines = ['AirArabia',\n",
    "               'AirAsia',\n",
    "               'AirCanada',\n",
    "               'AirFrance',\n",
    "               'AirIndia']"
   ]
  },
  {
   "cell_type": "code",
   "execution_count": 61,
   "metadata": {},
   "outputs": [],
   "source": [
    "# Airline Ratings\n",
    "n = []\n",
    "for i in range(len(file1)):\n",
    "    for a in cmnairlines:\n",
    "        if a in file1[i]:\n",
    "            for line in open(file1[i]):\n",
    "                info = json.loads(line)\n",
    "            n.append(info)"
   ]
  },
  {
   "cell_type": "code",
   "execution_count": 63,
   "metadata": {},
   "outputs": [],
   "source": [
    "reviews = []\n",
    "for i in range(len(n)):\n",
    "    for j in range(len(n[i])):\n",
    "        sent = n[i][j]['sentence']\n",
    "        for s in sent:\n",
    "            reviews.append(s)\n",
    "airlineTxt = ' '.join(reviews)"
   ]
  },
  {
   "cell_type": "code",
   "execution_count": 64,
   "metadata": {},
   "outputs": [],
   "source": [
    "tokens = nltk.word_tokenize(airlineTxt)\n",
    "newTkn = []\n",
    "for tkn in tokens:\n",
    "    if tkn not in stop_words:\n",
    "        newTkn.append(tkn)\n",
    "types = nltk.Counter(newTkn)\n",
    "TTR = round((len(types)/ len(newTkn)), 2)        "
   ]
  },
  {
   "cell_type": "code",
   "execution_count": 65,
   "metadata": {},
   "outputs": [
    {
     "data": {
      "text/plain": [
       "0.15"
      ]
     },
     "execution_count": 65,
     "metadata": {},
     "output_type": "execute_result"
    }
   ],
   "source": [
    "TTR"
   ]
  },
  {
   "cell_type": "code",
   "execution_count": 69,
   "metadata": {},
   "outputs": [],
   "source": [
    "# TripAdvisor\n",
    "n = []\n",
    "for i in range(len(file2)):\n",
    "     for a in cmnairlines:\n",
    "        if a in file2[i]:\n",
    "            for line in open(file2[i]):\n",
    "                info = json.loads(line)\n",
    "            n.append(info)"
   ]
  },
  {
   "cell_type": "code",
   "execution_count": 70,
   "metadata": {},
   "outputs": [],
   "source": [
    "reviews = []\n",
    "for i in range(len(n)):\n",
    "    for j in range(len(n[i])):\n",
    "        sent = n[i][j]['sentence']\n",
    "        for s in sent:\n",
    "            reviews.append(s)\n",
    "tripText = ' '.join(reviews)"
   ]
  },
  {
   "cell_type": "code",
   "execution_count": 71,
   "metadata": {},
   "outputs": [],
   "source": [
    "tokens = nltk.word_tokenize(tripText)\n",
    "newTkn = []\n",
    "for tkn in tokens:\n",
    "    if tkn not in stop_words:\n",
    "        newTkn.append(tkn)\n",
    "types = nltk.Counter(newTkn)\n",
    "TTR = round((len(types)/ len(newTkn)), 2)    "
   ]
  },
  {
   "cell_type": "code",
   "execution_count": 72,
   "metadata": {},
   "outputs": [
    {
     "data": {
      "text/plain": [
       "0.27"
      ]
     },
     "execution_count": 72,
     "metadata": {},
     "output_type": "execute_result"
    }
   ],
   "source": [
    "TTR"
   ]
  },
  {
   "cell_type": "markdown",
   "metadata": {},
   "source": [
    "# Zipf's Law"
   ]
  },
  {
   "cell_type": "code",
   "execution_count": 28,
   "metadata": {},
   "outputs": [],
   "source": [
    "import re\n",
    "from operator import itemgetter  \n",
    "from scipy import special\n",
    "import numpy as np"
   ]
  },
  {
   "cell_type": "code",
   "execution_count": 29,
   "metadata": {},
   "outputs": [
    {
     "data": {
      "text/plain": [
       "21"
      ]
     },
     "execution_count": 29,
     "metadata": {},
     "output_type": "execute_result"
    }
   ],
   "source": [
    "len(files)"
   ]
  },
  {
   "cell_type": "code",
   "execution_count": 30,
   "metadata": {},
   "outputs": [
    {
     "data": {
      "text/plain": [
       "21"
      ]
     },
     "execution_count": 30,
     "metadata": {},
     "output_type": "execute_result"
    }
   ],
   "source": [
    "len(finInfo)"
   ]
  },
  {
   "cell_type": "code",
   "execution_count": 31,
   "metadata": {},
   "outputs": [],
   "source": [
    "allreviews = []\n",
    "for i in range(len(finInfo)):\n",
    "    for j in range(len(finInfo[i])):\n",
    "        info = finInfo[i][j]\n",
    "        sents = info['sentence']\n",
    "        for s in sents:\n",
    "            allreviews.append(s)\n",
    "alltxt = ' '.join(allreviews)"
   ]
  },
  {
   "cell_type": "code",
   "execution_count": 32,
   "metadata": {},
   "outputs": [],
   "source": [
    "words = re.findall(r'(\\b[A-Za-z][a-z]{2,9}\\b)', alltxt)"
   ]
  },
  {
   "cell_type": "code",
   "execution_count": 33,
   "metadata": {},
   "outputs": [],
   "source": [
    "from nltk.stem import WordNetLemmatizer \n",
    "lemmatizer = WordNetLemmatizer()"
   ]
  },
  {
   "cell_type": "code",
   "execution_count": 34,
   "metadata": {},
   "outputs": [],
   "source": [
    "newWords = []\n",
    "for word in words:\n",
    "    if word not in stop_words:\n",
    "        word = lemmatizer.lemmatize(word)\n",
    "        newWords.append(word)"
   ]
  },
  {
   "cell_type": "code",
   "execution_count": 35,
   "metadata": {},
   "outputs": [],
   "source": [
    "frequency = {}\n",
    "for word in newWords:\n",
    "    count = frequency.get(word,0)\n",
    "    frequency[word] = count + 1"
   ]
  },
  {
   "cell_type": "code",
   "execution_count": 42,
   "metadata": {},
   "outputs": [],
   "source": [
    "counts = []\n",
    "tokens = []\n",
    "for key, value in reversed(sorted(frequency.items(), key = itemgetter(1))):\n",
    "    if value > 350:\n",
    "        counts.append(value)\n",
    "        tokens.append(key)\n",
    "        rank = np.arange(1, len(counts)+1)\n",
    "ranks = list(rank)"
   ]
  },
  {
   "cell_type": "code",
   "execution_count": 43,
   "metadata": {},
   "outputs": [
    {
     "data": {
      "image/png": "[encoded data removed]",
      "text/plain": [
       "<Figure size 1008x576 with 1 Axes>"
      ]
     },
     "metadata": {},
     "output_type": "display_data"
    }
   ],
   "source": [
    "plt.figure(figsize=(14,8))\n",
    "sns.barplot(tokens, counts)\n",
    "sns.lineplot(ranks, counts)\n",
    "plt.show()"
   ]
  },
  {
   "cell_type": "code",
   "execution_count": null,
   "metadata": {},
   "outputs": [],
   "source": []
  }
 ],
 "metadata": {
  "kernelspec": {
   "display_name": "Python 3",
   "language": "python",
   "name": "python3"
  },
  "language_info": {
   "codemirror_mode": {
    "name": "ipython",
    "version": 3
   },
   "file_extension": ".py",
   "mimetype": "text/x-python",
   "name": "python",
   "nbconvert_exporter": "python",
   "pygments_lexer": "ipython3",
   "version": "3.7.3"
  }
 },
 "nbformat": 4,
 "nbformat_minor": 2
}
