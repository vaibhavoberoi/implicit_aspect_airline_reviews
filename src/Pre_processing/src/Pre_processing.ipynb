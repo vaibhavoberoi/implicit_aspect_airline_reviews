{
 "cells": [
  {
   "cell_type": "markdown",
   "metadata": {},
   "source": [
    "# Importing Project dependencies"
   ]
  },
  {
   "cell_type": "markdown",
   "metadata": {},
   "source": [
    "### Mounting Google Drive"
   ]
  },
  {
   "cell_type": "code",
   "execution_count": 140,
   "metadata": {
    "colab": {
     "base_uri": "https://localhost:8080/",
     "height": 34
    },
    "colab_type": "code",
    "id": "qPY5bh-WQkID",
    "outputId": "cb941fb0-1807-424e-c56a-e9db2c50c096"
   },
   "outputs": [
    {
     "name": "stdout",
     "output_type": "stream",
     "text": [
      "Drive already mounted at /content/drive; to attempt to forcibly remount, call drive.mount(\"/content/drive\", force_remount=True).\n"
     ]
    }
   ],
   "source": [
    "from google.colab import drive\n",
    "drive.mount('/content/drive')"
   ]
  },
  {
   "cell_type": "code",
   "execution_count": 1,
   "metadata": {},
   "outputs": [
    {
     "name": "stdout",
     "output_type": "stream",
     "text": [
      "Requirement already satisfied: inflect in c:\\users\\kanishk verma\\anaconda3\\lib\\site-packages (4.1.0)\n",
      "Requirement already satisfied: importlib-metadata; python_version < \"3.8\" in c:\\users\\kanishk verma\\anaconda3\\lib\\site-packages (from inflect) (1.7.0)\n",
      "Requirement already satisfied: zipp>=0.5 in c:\\users\\kanishk verma\\anaconda3\\lib\\site-packages (from importlib-metadata; python_version < \"3.8\"->inflect) (3.1.0)\n"
     ]
    },
    {
     "name": "stderr",
     "output_type": "stream",
     "text": [
      "WARNING: You are using pip version 20.2.1; however, version 20.2.2 is available.\n",
      "You should consider upgrading via the 'c:\\users\\kanishk verma\\anaconda3\\python.exe -m pip install --upgrade pip' command.\n"
     ]
    }
   ],
   "source": [
    "!pip install inflect"
   ]
  },
  {
   "cell_type": "code",
   "execution_count": 141,
   "metadata": {
    "colab": {},
    "colab_type": "code",
    "id": "Aj_UMO0LRRNI"
   },
   "outputs": [],
   "source": [
    "import pandas as pd"
   ]
  },
  {
   "cell_type": "code",
   "execution_count": 2,
   "metadata": {
    "colab": {
     "base_uri": "https://localhost:8080/",
     "height": 52
    },
    "colab_type": "code",
    "id": "TGes54h0RkOY",
    "outputId": "67712064-b900-4a6c-bf81-be1ace2d3388"
   },
   "outputs": [
    {
     "name": "stderr",
     "output_type": "stream",
     "text": [
      "C:\\Users\\Kanishk Verma\\Anaconda3\\lib\\site-packages\\numpy\\_distributor_init.py:32: UserWarning: loaded more than 1 DLL from .libs:\n",
      "C:\\Users\\Kanishk Verma\\Anaconda3\\lib\\site-packages\\numpy\\.libs\\libopenblas.NOIJJG62EMASZI6NYURL6JBKM4EVBGM7.gfortran-win_amd64.dll\n",
      "C:\\Users\\Kanishk Verma\\Anaconda3\\lib\\site-packages\\numpy\\.libs\\libopenblas.PYQHXLVVQ7VESDPUVUADXEVJOBGHJPAY.gfortran-win_amd64.dll\n",
      "  stacklevel=1)\n",
      "[nltk_data] Downloading package stopwords to C:\\Users\\Kanishk\n",
      "[nltk_data]     Verma\\AppData\\Roaming\\nltk_data...\n",
      "[nltk_data]   Package stopwords is already up-to-date!\n"
     ]
    }
   ],
   "source": [
    "import nltk\n",
    "nltk.download('stopwords')\n",
    "from nltk.corpus import stopwords\n",
    "from nltk.tokenize import word_tokenize, sent_tokenize\n",
    "#!pip install inflect\n",
    "import inflect\n",
    "import re\n",
    "import string\n",
    "p = inflect.engine()\n",
    "stop_words = list(stopwords.words('english'))\n",
    "newStop = ['was', 'and', 'the', 'to', 'in', 'of', 'a', 'an', 'is', 'were', 'for', 'with', 'are', 'one', 'our', 'gave', 'have',\n",
    "           'me', 'an', 'i', 'or', 'had', 'did', 'get', 'made', 'take', 'given', 'told', 'let', 'us', \"n't\", 'air', 'one', 'two', 'three', \n",
    "          'four', 'five', 'thousand', 'cc', 'twenty', 'ten', 'hundred', 'eightyseven']\n",
    "stop_words = stop_words+newStop\n",
    "stop_words.remove('not')"
   ]
  },
  {
   "cell_type": "markdown",
   "metadata": {},
   "source": [
    "# Importing all reviews in one file"
   ]
  },
  {
   "cell_type": "code",
   "execution_count": 142,
   "metadata": {
    "colab": {},
    "colab_type": "code",
    "id": "xWQ95YWeQ7js"
   },
   "outputs": [],
   "source": [
    "reviews = pd.read_csv('/content/drive/My Drive/Dataset/Compiled-Reviews.csv')"
   ]
  },
  {
   "cell_type": "code",
   "execution_count": 143,
   "metadata": {
    "colab": {
     "base_uri": "https://localhost:8080/",
     "height": 701
    },
    "colab_type": "code",
    "id": "lX3XpZ6oRPTe",
    "outputId": "d3b65979-9107-4986-8136-62e2bbce7a56"
   },
   "outputs": [
    {
     "data": {
      "text/html": [
       "<div>\n",
       "<style scoped>\n",
       "    .dataframe tbody tr th:only-of-type {\n",
       "        vertical-align: middle;\n",
       "    }\n",
       "\n",
       "    .dataframe tbody tr th {\n",
       "        vertical-align: top;\n",
       "    }\n",
       "\n",
       "    .dataframe thead th {\n",
       "        text-align: right;\n",
       "    }\n",
       "</style>\n",
       "<table border=\"1\" class=\"dataframe\">\n",
       "  <thead>\n",
       "    <tr style=\"text-align: right;\">\n",
       "      <th></th>\n",
       "      <th>Unnamed: 0</th>\n",
       "      <th>airArabia</th>\n",
       "      <th>airAsia</th>\n",
       "      <th>airCanada</th>\n",
       "      <th>airFrance</th>\n",
       "      <th>airIndia</th>\n",
       "      <th>AlItalia</th>\n",
       "      <th>AmericanAirlines</th>\n",
       "      <th>BritishAirways</th>\n",
       "      <th>Compiled-Reviews</th>\n",
       "      <th>turkishAirlines</th>\n",
       "      <th>unitedAirlines</th>\n",
       "      <th>virginAtlantic</th>\n",
       "      <th>virginAustralia</th>\n",
       "      <th>vistara</th>\n",
       "      <th>Outputaer-lingus</th>\n",
       "      <th>Outputair-arabia</th>\n",
       "      <th>Outputair-canada</th>\n",
       "      <th>Outputair-france</th>\n",
       "      <th>Outputair-india</th>\n",
       "      <th>Outputairasia</th>\n",
       "      <th>Outputamerican-airlines</th>\n",
       "      <th>Outputcathay-pacific-airways</th>\n",
       "      <th>Outputdragonair</th>\n",
       "      <th>Outputemirates</th>\n",
       "      <th>Outputfiji-airways</th>\n",
       "      <th>Outputgaruda-indonesia</th>\n",
       "      <th>Outputgoair</th>\n",
       "      <th>Outputhong-kong-airlines</th>\n",
       "      <th>Outputhop</th>\n",
       "      <th>Outputindigo-airlines</th>\n",
       "      <th>Outputiran-air</th>\n",
       "      <th>Outputvistara</th>\n",
       "    </tr>\n",
       "  </thead>\n",
       "  <tbody>\n",
       "    <tr>\n",
       "      <th>0</th>\n",
       "      <td>0</td>\n",
       "      <td>No refund policy, very poor customer service. ...</td>\n",
       "      <td>Because of the Covid19 air Asia cancelled my f...</td>\n",
       "      <td>We all understand the travel world has been tu...</td>\n",
       "      <td>TERRIBLE TERRIBLE TERRIBLE!!! If I could give ...</td>\n",
       "      <td>Poor Service be it standing on the long queue ...</td>\n",
       "      <td>We landed in Rome late due to weather conditio...</td>\n",
       "      <td>Do not be fooled..they do not care if a Mom an...</td>\n",
       "      <td>This is not about a flight made it is about tr...</td>\n",
       "      <td>Unnamed: 0</td>\n",
       "      <td>They lie to people and sell tickets only to ca...</td>\n",
       "      <td>Cancelled my flight 6 days prior to flying and...</td>\n",
       "      <td>Withholding refund, no communication, lack of ...</td>\n",
       "      <td>March 2 flight from SYD to CNS was a typical d...</td>\n",
       "      <td>The flights good. Space is better then indigo ...</td>\n",
       "      <td>I was flying from Frankfurt to Boston via Dub...</td>\n",
       "      <td>Fes to Marrakech. Booked 7 weeks before trave...</td>\n",
       "      <td>Excellent staff. I hope someone from Air Cana...</td>\n",
       "      <td>Bogotá to Paris. Air France business class is...</td>\n",
       "      <td>Colombo to Mumbai. Cancelling an internationa...</td>\n",
       "      <td>Delhi to Goa. 2.5 hour flight was delayed by ...</td>\n",
       "      <td>Charlotte to Indianapolis with American Airli...</td>\n",
       "      <td>San Francisco to Bangkok via Hong Kong. My fl...</td>\n",
       "      <td>Flight itself was very smooth and take off an...</td>\n",
       "      <td>I was travelling from Heathrow to Dhaka via D...</td>\n",
       "      <td>Nadi to Christchurch. At the check-in they as...</td>\n",
       "      <td>Flew late evening flight from Singapore to Ja...</td>\n",
       "      <td>Bangalore to Patna. I paid an extra Rs 1200 f...</td>\n",
       "      <td>We were 17 people traveling together and at B...</td>\n",
       "      <td>Couple of short flights with HOP! An Embraer ...</td>\n",
       "      <td>Bangalore to Kolkata. Scheduled departure tim...</td>\n",
       "      <td>Tehran to Hamburg. Iran Air is one of the wor...</td>\n",
       "      <td>Mumbai to Chandigarh. I reached the airport 4...</td>\n",
       "    </tr>\n",
       "    <tr>\n",
       "      <th>1</th>\n",
       "      <td>1</td>\n",
       "      <td>AirArabia STEAL our money. Our flights and cor...</td>\n",
       "      <td>Betrayed feel completely betrayed by this airl...</td>\n",
       "      <td>Special thank you to Sidonie Wybourn and Georg...</td>\n",
       "      <td>Air France cancelled our flights. Refused to r...</td>\n",
       "      <td>This is the worst airliner ever. Their on site...</td>\n",
       "      <td>Haven’t travel.. my flight was cancelled and I...</td>\n",
       "      <td>What's the reason for having a website that do...</td>\n",
       "      <td>Our flight to Funchal scheduled for March was ...</td>\n",
       "      <td>airArabia</td>\n",
       "      <td>DO NOT DO BUSINESS WITH THIS AIRLINE. Flight w...</td>\n",
       "      <td>Terrible overall!!! Flight delayed then cancel...</td>\n",
       "      <td>This is a totally dishonest company Illegally ...</td>\n",
       "      <td>I just want to let everyone know about my expe...</td>\n",
       "      <td>The flight was on time and the food was very g...</td>\n",
       "      <td>Lisbon to Seattle via Dublin. It was my first...</td>\n",
       "      <td>Coimbatore to Sharjah and had to catch the ne...</td>\n",
       "      <td>Worst experience with an airline. We flew fro...</td>\n",
       "      <td>Manchester to Miami via Paris. It's a long ti...</td>\n",
       "      <td>Toronto to Amritsar via Delhi. The worst flig...</td>\n",
       "      <td>I chose Air Aisa because I was travelling wit...</td>\n",
       "      <td>Nashville to Philadelphia. I had the most won...</td>\n",
       "      <td>San Francisco to Beijing via Hong Kong. I hav...</td>\n",
       "      <td>Kota Kinabalu to Hong Kong. It was a pleasant...</td>\n",
       "      <td>Dubai to Delhi. I loved going on Emirates wit...</td>\n",
       "      <td>Auckland to Fiji via Los Angeles with Fiji Ai...</td>\n",
       "      <td>We have flown with Garuda from Melbourne to B...</td>\n",
       "      <td>Kolkata to Delhi with GoAir. Very pathetic se...</td>\n",
       "      <td>Hong Kong to Taipei. During this 90-minute fl...</td>\n",
       "      <td>Paris to Nantes. Strikes on April 23 did not ...</td>\n",
       "      <td>I booked Kolhapur to Hyderabad via Delhi conn...</td>\n",
       "      <td>Flew Stockholm to Tehran with Iran Air. I had...</td>\n",
       "      <td>Ahmedabad to Delhi. I had booked Vistara flig...</td>\n",
       "    </tr>\n",
       "    <tr>\n",
       "      <th>2</th>\n",
       "      <td>2</td>\n",
       "      <td>I had terrible service &amp; no refund although we...</td>\n",
       "      <td>I had a flight booking with Air Asia from Jaka...</td>\n",
       "      <td>Air Canada cancelled our flight, and refuses t...</td>\n",
       "      <td>\"You're an American, you don't need a VAT refu...</td>\n",
       "      <td>we had to deal with long queues, slow and unha...</td>\n",
       "      <td>This is one of the most uncomfortable flights ...</td>\n",
       "      <td>A family member was to fly but unable to obtai...</td>\n",
       "      <td>THE MOST UNPROFESSIONAL WITH LACK OF RESPECT A...</td>\n",
       "      <td>airAsia</td>\n",
       "      <td>Damaged luggage claim with submission on time ...</td>\n",
       "      <td>The poor quality of this company is obvious ju...</td>\n",
       "      <td>Avoid this company, they cancelled the trip th...</td>\n",
       "      <td>Like a number of recent reviews regarding canc...</td>\n",
       "      <td>I requested a gluten free meal as I’m a celiac...</td>\n",
       "      <td>Paris to Chicago via Dublin. First time trave...</td>\n",
       "      <td>Casablanca to Tunis. Bad service, overcharged...</td>\n",
       "      <td>Toronto to Providenciales. This is the second...</td>\n",
       "      <td>I booked a flight from Paris to Beirut and be...</td>\n",
       "      <td>Kathmandu to London via Delhi. This was my fi...</td>\n",
       "      <td>Singapore to Bali. What a disappointing exper...</td>\n",
       "      <td>Los Angeles to Columbus. This is by far the m...</td>\n",
       "      <td>Hong Kong to Toronto. In advance I paid extra...</td>\n",
       "      <td>I commute quite frequently from Hong Kong to ...</td>\n",
       "      <td>Denpasar to Auckland. Happy with outward boun...</td>\n",
       "      <td>Sydney to Nadi. They cancelled my flight, and...</td>\n",
       "      <td>Denpasar-Bali to Perth, Boeing 737-800 aircra...</td>\n",
       "      <td>Kolkata to Mumbai. Every time-delayed and not...</td>\n",
       "      <td>Bangkok to Hong Kong. The really good thing a...</td>\n",
       "      <td>Toulon to Paris Orly. Aircraft on time and cl...</td>\n",
       "      <td>Delhi to Varanasi. An early morning flight wi...</td>\n",
       "      <td>A wonderful flight from Tehran to Paris with ...</td>\n",
       "      <td>Amritsar to Delhi. My bag was tampered with a...</td>\n",
       "    </tr>\n",
       "    <tr>\n",
       "      <th>3</th>\n",
       "      <td>3</td>\n",
       "      <td>They are basically not refunding our money. We...</td>\n",
       "      <td>We left 5 minutes ahead of schedule, arrived e...</td>\n",
       "      <td>So simple and straight. I was in the third row...</td>\n",
       "      <td>\"You're an American, you don't need the VAT re...</td>\n",
       "      <td>I have flown several times with Air India, bot...</td>\n",
       "      <td>I attempted to book tickets online to Sicily a...</td>\n",
       "      <td>I booked a flight for my wife with my frequent...</td>\n",
       "      <td>After trying to get through to their telephone...</td>\n",
       "      <td>airCanada</td>\n",
       "      <td>I booked a ticket in the beginning of June, 5 ...</td>\n",
       "      <td>United canceled my connect flight without my c...</td>\n",
       "      <td>So i was supposed to be flying to Las Vegas in...</td>\n",
       "      <td>I was booked on flight VA2 from Los Angeles to...</td>\n",
       "      <td>One of the better Airlines to fly with - promp...</td>\n",
       "      <td>Had a good flight from Dublin to Amsterdam an...</td>\n",
       "      <td>I am writing this with complete dismay, disap...</td>\n",
       "      <td>Whitehorse to Vancouver via Toronto, Air Cana...</td>\n",
       "      <td>Paris to Calgary. My return flight from Paris...</td>\n",
       "      <td>Seoul to Bangalore via Delhi. From the moment...</td>\n",
       "      <td>Our flight on November 2 from Lombok to Denpa...</td>\n",
       "      <td>My friends and I were supposed to be flying t...</td>\n",
       "      <td>Hong Kong to Jakarta. If you wish to fly with...</td>\n",
       "      <td>Hong Kong to Da Nang. First day as Cathay Dra...</td>\n",
       "      <td>Dubai to Milan. Emirates normally provides ex...</td>\n",
       "      <td>Melbourne to Nadi. Booked my flight 1st April...</td>\n",
       "      <td>Singapore to Kupang via Jakarta onboard GA829...</td>\n",
       "      <td>Chennai to Pune. Paid 600 rs for extra leg ro...</td>\n",
       "      <td>I booked a trip with Hong Kong Airlines in Ma...</td>\n",
       "      <td>Paris to Aberdeen. HOP did us a favour during...</td>\n",
       "      <td>Hyderabad to Ahmedabad. Generally good in ter...</td>\n",
       "      <td>I had a pleasant experience on my Teheran Meh...</td>\n",
       "      <td>Delhi to Ranchi. I flew Vistara after a long ...</td>\n",
       "    </tr>\n",
       "    <tr>\n",
       "      <th>4</th>\n",
       "      <td>4</td>\n",
       "      <td>Flight cancelled, no refund given. Tried three...</td>\n",
       "      <td>Disgusted that arriving with one hour to check...</td>\n",
       "      <td>Air Canada is worst Airline. Air Canada cancel...</td>\n",
       "      <td>My best flight so far to Europe. Air France wa...</td>\n",
       "      <td>The airlines were not even willing to provide ...</td>\n",
       "      <td>They provided a travel pillow (I tried to use ...</td>\n",
       "      <td>What happened to the days when an airline scre...</td>\n",
       "      <td>The meals served to us on board were warm and ...</td>\n",
       "      <td>airFrance</td>\n",
       "      <td>I dont have an opinion on comodity, but in cli...</td>\n",
       "      <td>Ref PNR HVNZPQ, on Tuesday, 09 June I was trav...</td>\n",
       "      <td>Nice Staff, Good Service on time flights and h...</td>\n",
       "      <td>Our flight to Sydney was cancelled due to the ...</td>\n",
       "      <td>The flight was about 75% full and so was quite...</td>\n",
       "      <td>Glasgow to Toronto via Dublin. Weekend in Tor...</td>\n",
       "      <td>6 hours delay from Fez to Gatwick and zero co...</td>\n",
       "      <td>Quebec to Toronto. The seats space between se...</td>\n",
       "      <td>Manchester to Tbilisi via Paris and return. A...</td>\n",
       "      <td>Delhi to London. Check in took over 2hrs in a...</td>\n",
       "      <td>Kuala Lumpur to Jakarta delayed by 2hrs 50 mi...</td>\n",
       "      <td>Las Vegas to Dallas. We boarded on time, thin...</td>\n",
       "      <td>London to Manila via Hong Kong. We booked our...</td>\n",
       "      <td>Dragonair is part of Cathay Pacific. From Hon...</td>\n",
       "      <td>London to Singapore via Dubai. I’ve flown mos...</td>\n",
       "      <td>I recently booked my travel to Fiji from NZ a...</td>\n",
       "      <td>We have heard good things about Garuda Indone...</td>\n",
       "      <td>Hyderabad to Bangalore. A very worst customer...</td>\n",
       "      <td>Los Angeles to Bangkok via Hong Kong. I purch...</td>\n",
       "      <td>Brussels to Pau via Lyon. Upon arriving at my...</td>\n",
       "      <td>Delhi to Kolkata. The flight experience was g...</td>\n",
       "      <td>I had a flight from Tehran to London on 5th M...</td>\n",
       "      <td>Fantastic experience on our trip from Goa to ...</td>\n",
       "    </tr>\n",
       "  </tbody>\n",
       "</table>\n",
       "</div>"
      ],
      "text/plain": [
       "   Unnamed: 0  ...                                      Outputvistara\n",
       "0           0  ...   Mumbai to Chandigarh. I reached the airport 4...\n",
       "1           1  ...   Ahmedabad to Delhi. I had booked Vistara flig...\n",
       "2           2  ...   Amritsar to Delhi. My bag was tampered with a...\n",
       "3           3  ...   Delhi to Ranchi. I flew Vistara after a long ...\n",
       "4           4  ...   Fantastic experience on our trip from Goa to ...\n",
       "\n",
       "[5 rows x 33 columns]"
      ]
     },
     "execution_count": 143,
     "metadata": {
      "tags": []
     },
     "output_type": "execute_result"
    }
   ],
   "source": [
    "reviews.head()"
   ]
  },
  {
   "cell_type": "markdown",
   "metadata": {},
   "source": [
    "### Dropping Unwanted columns"
   ]
  },
  {
   "cell_type": "code",
   "execution_count": 144,
   "metadata": {
    "colab": {},
    "colab_type": "code",
    "id": "ZxM9kUAHRXOs"
   },
   "outputs": [],
   "source": [
    "reviews = reviews.drop(['Unnamed: 0', 'Compiled-Reviews'], axis = 1)"
   ]
  },
  {
   "cell_type": "code",
   "execution_count": 145,
   "metadata": {
    "colab": {
     "base_uri": "https://localhost:8080/",
     "height": 701
    },
    "colab_type": "code",
    "id": "fHE9cC5HRhca",
    "outputId": "d0787413-81a1-4830-a34e-d7b91efbb442"
   },
   "outputs": [
    {
     "data": {
      "text/html": [
       "<div>\n",
       "<style scoped>\n",
       "    .dataframe tbody tr th:only-of-type {\n",
       "        vertical-align: middle;\n",
       "    }\n",
       "\n",
       "    .dataframe tbody tr th {\n",
       "        vertical-align: top;\n",
       "    }\n",
       "\n",
       "    .dataframe thead th {\n",
       "        text-align: right;\n",
       "    }\n",
       "</style>\n",
       "<table border=\"1\" class=\"dataframe\">\n",
       "  <thead>\n",
       "    <tr style=\"text-align: right;\">\n",
       "      <th></th>\n",
       "      <th>airArabia</th>\n",
       "      <th>airAsia</th>\n",
       "      <th>airCanada</th>\n",
       "      <th>airFrance</th>\n",
       "      <th>airIndia</th>\n",
       "      <th>AlItalia</th>\n",
       "      <th>AmericanAirlines</th>\n",
       "      <th>BritishAirways</th>\n",
       "      <th>turkishAirlines</th>\n",
       "      <th>unitedAirlines</th>\n",
       "      <th>virginAtlantic</th>\n",
       "      <th>virginAustralia</th>\n",
       "      <th>vistara</th>\n",
       "      <th>Outputaer-lingus</th>\n",
       "      <th>Outputair-arabia</th>\n",
       "      <th>Outputair-canada</th>\n",
       "      <th>Outputair-france</th>\n",
       "      <th>Outputair-india</th>\n",
       "      <th>Outputairasia</th>\n",
       "      <th>Outputamerican-airlines</th>\n",
       "      <th>Outputcathay-pacific-airways</th>\n",
       "      <th>Outputdragonair</th>\n",
       "      <th>Outputemirates</th>\n",
       "      <th>Outputfiji-airways</th>\n",
       "      <th>Outputgaruda-indonesia</th>\n",
       "      <th>Outputgoair</th>\n",
       "      <th>Outputhong-kong-airlines</th>\n",
       "      <th>Outputhop</th>\n",
       "      <th>Outputindigo-airlines</th>\n",
       "      <th>Outputiran-air</th>\n",
       "      <th>Outputvistara</th>\n",
       "    </tr>\n",
       "  </thead>\n",
       "  <tbody>\n",
       "    <tr>\n",
       "      <th>0</th>\n",
       "      <td>No refund policy, very poor customer service. ...</td>\n",
       "      <td>Because of the Covid19 air Asia cancelled my f...</td>\n",
       "      <td>We all understand the travel world has been tu...</td>\n",
       "      <td>TERRIBLE TERRIBLE TERRIBLE!!! If I could give ...</td>\n",
       "      <td>Poor Service be it standing on the long queue ...</td>\n",
       "      <td>We landed in Rome late due to weather conditio...</td>\n",
       "      <td>Do not be fooled..they do not care if a Mom an...</td>\n",
       "      <td>This is not about a flight made it is about tr...</td>\n",
       "      <td>They lie to people and sell tickets only to ca...</td>\n",
       "      <td>Cancelled my flight 6 days prior to flying and...</td>\n",
       "      <td>Withholding refund, no communication, lack of ...</td>\n",
       "      <td>March 2 flight from SYD to CNS was a typical d...</td>\n",
       "      <td>The flights good. Space is better then indigo ...</td>\n",
       "      <td>I was flying from Frankfurt to Boston via Dub...</td>\n",
       "      <td>Fes to Marrakech. Booked 7 weeks before trave...</td>\n",
       "      <td>Excellent staff. I hope someone from Air Cana...</td>\n",
       "      <td>Bogotá to Paris. Air France business class is...</td>\n",
       "      <td>Colombo to Mumbai. Cancelling an internationa...</td>\n",
       "      <td>Delhi to Goa. 2.5 hour flight was delayed by ...</td>\n",
       "      <td>Charlotte to Indianapolis with American Airli...</td>\n",
       "      <td>San Francisco to Bangkok via Hong Kong. My fl...</td>\n",
       "      <td>Flight itself was very smooth and take off an...</td>\n",
       "      <td>I was travelling from Heathrow to Dhaka via D...</td>\n",
       "      <td>Nadi to Christchurch. At the check-in they as...</td>\n",
       "      <td>Flew late evening flight from Singapore to Ja...</td>\n",
       "      <td>Bangalore to Patna. I paid an extra Rs 1200 f...</td>\n",
       "      <td>We were 17 people traveling together and at B...</td>\n",
       "      <td>Couple of short flights with HOP! An Embraer ...</td>\n",
       "      <td>Bangalore to Kolkata. Scheduled departure tim...</td>\n",
       "      <td>Tehran to Hamburg. Iran Air is one of the wor...</td>\n",
       "      <td>Mumbai to Chandigarh. I reached the airport 4...</td>\n",
       "    </tr>\n",
       "    <tr>\n",
       "      <th>1</th>\n",
       "      <td>AirArabia STEAL our money. Our flights and cor...</td>\n",
       "      <td>Betrayed feel completely betrayed by this airl...</td>\n",
       "      <td>Special thank you to Sidonie Wybourn and Georg...</td>\n",
       "      <td>Air France cancelled our flights. Refused to r...</td>\n",
       "      <td>This is the worst airliner ever. Their on site...</td>\n",
       "      <td>Haven’t travel.. my flight was cancelled and I...</td>\n",
       "      <td>What's the reason for having a website that do...</td>\n",
       "      <td>Our flight to Funchal scheduled for March was ...</td>\n",
       "      <td>DO NOT DO BUSINESS WITH THIS AIRLINE. Flight w...</td>\n",
       "      <td>Terrible overall!!! Flight delayed then cancel...</td>\n",
       "      <td>This is a totally dishonest company Illegally ...</td>\n",
       "      <td>I just want to let everyone know about my expe...</td>\n",
       "      <td>The flight was on time and the food was very g...</td>\n",
       "      <td>Lisbon to Seattle via Dublin. It was my first...</td>\n",
       "      <td>Coimbatore to Sharjah and had to catch the ne...</td>\n",
       "      <td>Worst experience with an airline. We flew fro...</td>\n",
       "      <td>Manchester to Miami via Paris. It's a long ti...</td>\n",
       "      <td>Toronto to Amritsar via Delhi. The worst flig...</td>\n",
       "      <td>I chose Air Aisa because I was travelling wit...</td>\n",
       "      <td>Nashville to Philadelphia. I had the most won...</td>\n",
       "      <td>San Francisco to Beijing via Hong Kong. I hav...</td>\n",
       "      <td>Kota Kinabalu to Hong Kong. It was a pleasant...</td>\n",
       "      <td>Dubai to Delhi. I loved going on Emirates wit...</td>\n",
       "      <td>Auckland to Fiji via Los Angeles with Fiji Ai...</td>\n",
       "      <td>We have flown with Garuda from Melbourne to B...</td>\n",
       "      <td>Kolkata to Delhi with GoAir. Very pathetic se...</td>\n",
       "      <td>Hong Kong to Taipei. During this 90-minute fl...</td>\n",
       "      <td>Paris to Nantes. Strikes on April 23 did not ...</td>\n",
       "      <td>I booked Kolhapur to Hyderabad via Delhi conn...</td>\n",
       "      <td>Flew Stockholm to Tehran with Iran Air. I had...</td>\n",
       "      <td>Ahmedabad to Delhi. I had booked Vistara flig...</td>\n",
       "    </tr>\n",
       "    <tr>\n",
       "      <th>2</th>\n",
       "      <td>I had terrible service &amp; no refund although we...</td>\n",
       "      <td>I had a flight booking with Air Asia from Jaka...</td>\n",
       "      <td>Air Canada cancelled our flight, and refuses t...</td>\n",
       "      <td>\"You're an American, you don't need a VAT refu...</td>\n",
       "      <td>we had to deal with long queues, slow and unha...</td>\n",
       "      <td>This is one of the most uncomfortable flights ...</td>\n",
       "      <td>A family member was to fly but unable to obtai...</td>\n",
       "      <td>THE MOST UNPROFESSIONAL WITH LACK OF RESPECT A...</td>\n",
       "      <td>Damaged luggage claim with submission on time ...</td>\n",
       "      <td>The poor quality of this company is obvious ju...</td>\n",
       "      <td>Avoid this company, they cancelled the trip th...</td>\n",
       "      <td>Like a number of recent reviews regarding canc...</td>\n",
       "      <td>I requested a gluten free meal as I’m a celiac...</td>\n",
       "      <td>Paris to Chicago via Dublin. First time trave...</td>\n",
       "      <td>Casablanca to Tunis. Bad service, overcharged...</td>\n",
       "      <td>Toronto to Providenciales. This is the second...</td>\n",
       "      <td>I booked a flight from Paris to Beirut and be...</td>\n",
       "      <td>Kathmandu to London via Delhi. This was my fi...</td>\n",
       "      <td>Singapore to Bali. What a disappointing exper...</td>\n",
       "      <td>Los Angeles to Columbus. This is by far the m...</td>\n",
       "      <td>Hong Kong to Toronto. In advance I paid extra...</td>\n",
       "      <td>I commute quite frequently from Hong Kong to ...</td>\n",
       "      <td>Denpasar to Auckland. Happy with outward boun...</td>\n",
       "      <td>Sydney to Nadi. They cancelled my flight, and...</td>\n",
       "      <td>Denpasar-Bali to Perth, Boeing 737-800 aircra...</td>\n",
       "      <td>Kolkata to Mumbai. Every time-delayed and not...</td>\n",
       "      <td>Bangkok to Hong Kong. The really good thing a...</td>\n",
       "      <td>Toulon to Paris Orly. Aircraft on time and cl...</td>\n",
       "      <td>Delhi to Varanasi. An early morning flight wi...</td>\n",
       "      <td>A wonderful flight from Tehran to Paris with ...</td>\n",
       "      <td>Amritsar to Delhi. My bag was tampered with a...</td>\n",
       "    </tr>\n",
       "    <tr>\n",
       "      <th>3</th>\n",
       "      <td>They are basically not refunding our money. We...</td>\n",
       "      <td>We left 5 minutes ahead of schedule, arrived e...</td>\n",
       "      <td>So simple and straight. I was in the third row...</td>\n",
       "      <td>\"You're an American, you don't need the VAT re...</td>\n",
       "      <td>I have flown several times with Air India, bot...</td>\n",
       "      <td>I attempted to book tickets online to Sicily a...</td>\n",
       "      <td>I booked a flight for my wife with my frequent...</td>\n",
       "      <td>After trying to get through to their telephone...</td>\n",
       "      <td>I booked a ticket in the beginning of June, 5 ...</td>\n",
       "      <td>United canceled my connect flight without my c...</td>\n",
       "      <td>So i was supposed to be flying to Las Vegas in...</td>\n",
       "      <td>I was booked on flight VA2 from Los Angeles to...</td>\n",
       "      <td>One of the better Airlines to fly with - promp...</td>\n",
       "      <td>Had a good flight from Dublin to Amsterdam an...</td>\n",
       "      <td>I am writing this with complete dismay, disap...</td>\n",
       "      <td>Whitehorse to Vancouver via Toronto, Air Cana...</td>\n",
       "      <td>Paris to Calgary. My return flight from Paris...</td>\n",
       "      <td>Seoul to Bangalore via Delhi. From the moment...</td>\n",
       "      <td>Our flight on November 2 from Lombok to Denpa...</td>\n",
       "      <td>My friends and I were supposed to be flying t...</td>\n",
       "      <td>Hong Kong to Jakarta. If you wish to fly with...</td>\n",
       "      <td>Hong Kong to Da Nang. First day as Cathay Dra...</td>\n",
       "      <td>Dubai to Milan. Emirates normally provides ex...</td>\n",
       "      <td>Melbourne to Nadi. Booked my flight 1st April...</td>\n",
       "      <td>Singapore to Kupang via Jakarta onboard GA829...</td>\n",
       "      <td>Chennai to Pune. Paid 600 rs for extra leg ro...</td>\n",
       "      <td>I booked a trip with Hong Kong Airlines in Ma...</td>\n",
       "      <td>Paris to Aberdeen. HOP did us a favour during...</td>\n",
       "      <td>Hyderabad to Ahmedabad. Generally good in ter...</td>\n",
       "      <td>I had a pleasant experience on my Teheran Meh...</td>\n",
       "      <td>Delhi to Ranchi. I flew Vistara after a long ...</td>\n",
       "    </tr>\n",
       "    <tr>\n",
       "      <th>4</th>\n",
       "      <td>Flight cancelled, no refund given. Tried three...</td>\n",
       "      <td>Disgusted that arriving with one hour to check...</td>\n",
       "      <td>Air Canada is worst Airline. Air Canada cancel...</td>\n",
       "      <td>My best flight so far to Europe. Air France wa...</td>\n",
       "      <td>The airlines were not even willing to provide ...</td>\n",
       "      <td>They provided a travel pillow (I tried to use ...</td>\n",
       "      <td>What happened to the days when an airline scre...</td>\n",
       "      <td>The meals served to us on board were warm and ...</td>\n",
       "      <td>I dont have an opinion on comodity, but in cli...</td>\n",
       "      <td>Ref PNR HVNZPQ, on Tuesday, 09 June I was trav...</td>\n",
       "      <td>Nice Staff, Good Service on time flights and h...</td>\n",
       "      <td>Our flight to Sydney was cancelled due to the ...</td>\n",
       "      <td>The flight was about 75% full and so was quite...</td>\n",
       "      <td>Glasgow to Toronto via Dublin. Weekend in Tor...</td>\n",
       "      <td>6 hours delay from Fez to Gatwick and zero co...</td>\n",
       "      <td>Quebec to Toronto. The seats space between se...</td>\n",
       "      <td>Manchester to Tbilisi via Paris and return. A...</td>\n",
       "      <td>Delhi to London. Check in took over 2hrs in a...</td>\n",
       "      <td>Kuala Lumpur to Jakarta delayed by 2hrs 50 mi...</td>\n",
       "      <td>Las Vegas to Dallas. We boarded on time, thin...</td>\n",
       "      <td>London to Manila via Hong Kong. We booked our...</td>\n",
       "      <td>Dragonair is part of Cathay Pacific. From Hon...</td>\n",
       "      <td>London to Singapore via Dubai. I’ve flown mos...</td>\n",
       "      <td>I recently booked my travel to Fiji from NZ a...</td>\n",
       "      <td>We have heard good things about Garuda Indone...</td>\n",
       "      <td>Hyderabad to Bangalore. A very worst customer...</td>\n",
       "      <td>Los Angeles to Bangkok via Hong Kong. I purch...</td>\n",
       "      <td>Brussels to Pau via Lyon. Upon arriving at my...</td>\n",
       "      <td>Delhi to Kolkata. The flight experience was g...</td>\n",
       "      <td>I had a flight from Tehran to London on 5th M...</td>\n",
       "      <td>Fantastic experience on our trip from Goa to ...</td>\n",
       "    </tr>\n",
       "  </tbody>\n",
       "</table>\n",
       "</div>"
      ],
      "text/plain": [
       "                                           airArabia  ...                                      Outputvistara\n",
       "0  No refund policy, very poor customer service. ...  ...   Mumbai to Chandigarh. I reached the airport 4...\n",
       "1  AirArabia STEAL our money. Our flights and cor...  ...   Ahmedabad to Delhi. I had booked Vistara flig...\n",
       "2  I had terrible service & no refund although we...  ...   Amritsar to Delhi. My bag was tampered with a...\n",
       "3  They are basically not refunding our money. We...  ...   Delhi to Ranchi. I flew Vistara after a long ...\n",
       "4  Flight cancelled, no refund given. Tried three...  ...   Fantastic experience on our trip from Goa to ...\n",
       "\n",
       "[5 rows x 31 columns]"
      ]
     },
     "execution_count": 145,
     "metadata": {
      "tags": []
     },
     "output_type": "execute_result"
    }
   ],
   "source": [
    "reviews.head()"
   ]
  },
  {
   "cell_type": "markdown",
   "metadata": {},
   "source": [
    "### Checking for null values for all airline reviews"
   ]
  },
  {
   "cell_type": "code",
   "execution_count": 146,
   "metadata": {
    "colab": {
     "base_uri": "https://localhost:8080/",
     "height": 585
    },
    "colab_type": "code",
    "id": "29np2ci5g7Kv",
    "outputId": "40431080-26e2-4990-ce0d-472d0f9d206c"
   },
   "outputs": [
    {
     "data": {
      "text/plain": [
       "airArabia                       609\n",
       "airAsia                         478\n",
       "airCanada                       617\n",
       "airFrance                       485\n",
       "airIndia                        483\n",
       "AlItalia                        477\n",
       "AmericanAirlines                  0\n",
       "BritishAirways                  243\n",
       "turkishAirlines                 639\n",
       "unitedAirlines                  656\n",
       "virginAtlantic                  632\n",
       "virginAustralia                 632\n",
       "vistara                         648\n",
       "Outputaer-lingus                615\n",
       "Outputair-arabia                660\n",
       "Outputair-canada                617\n",
       "Outputair-france                616\n",
       "Outputair-india                 615\n",
       "Outputairasia                   615\n",
       "Outputamerican-airlines         615\n",
       "Outputcathay-pacific-airways    615\n",
       "Outputdragonair                 698\n",
       "Outputemirates                  615\n",
       "Outputfiji-airways              660\n",
       "Outputgaruda-indonesia          615\n",
       "Outputgoair                     641\n",
       "Outputhong-kong-airlines        652\n",
       "Outputhop                       705\n",
       "Outputindigo-airlines           615\n",
       "Outputiran-air                  710\n",
       "Outputvistara                   632\n",
       "dtype: int64"
      ]
     },
     "execution_count": 146,
     "metadata": {
      "tags": []
     },
     "output_type": "execute_result"
    }
   ],
   "source": [
    "reviews.isna().sum()"
   ]
  },
  {
   "cell_type": "markdown",
   "metadata": {},
   "source": [
    "### Handling null values by replacing it with empty string"
   ]
  },
  {
   "cell_type": "code",
   "execution_count": 147,
   "metadata": {
    "colab": {},
    "colab_type": "code",
    "id": "DcuHoSnLg7Gl"
   },
   "outputs": [],
   "source": [
    "reviews = reviews.fillna('')"
   ]
  },
  {
   "cell_type": "code",
   "execution_count": 148,
   "metadata": {
    "colab": {
     "base_uri": "https://localhost:8080/",
     "height": 585
    },
    "colab_type": "code",
    "id": "cKSSU_eHg7CP",
    "outputId": "6a5a242e-3cb1-4fda-ce3f-34595bc00dcb"
   },
   "outputs": [
    {
     "data": {
      "text/plain": [
       "airArabia                       0\n",
       "airAsia                         0\n",
       "airCanada                       0\n",
       "airFrance                       0\n",
       "airIndia                        0\n",
       "AlItalia                        0\n",
       "AmericanAirlines                0\n",
       "BritishAirways                  0\n",
       "turkishAirlines                 0\n",
       "unitedAirlines                  0\n",
       "virginAtlantic                  0\n",
       "virginAustralia                 0\n",
       "vistara                         0\n",
       "Outputaer-lingus                0\n",
       "Outputair-arabia                0\n",
       "Outputair-canada                0\n",
       "Outputair-france                0\n",
       "Outputair-india                 0\n",
       "Outputairasia                   0\n",
       "Outputamerican-airlines         0\n",
       "Outputcathay-pacific-airways    0\n",
       "Outputdragonair                 0\n",
       "Outputemirates                  0\n",
       "Outputfiji-airways              0\n",
       "Outputgaruda-indonesia          0\n",
       "Outputgoair                     0\n",
       "Outputhong-kong-airlines        0\n",
       "Outputhop                       0\n",
       "Outputindigo-airlines           0\n",
       "Outputiran-air                  0\n",
       "Outputvistara                   0\n",
       "dtype: int64"
      ]
     },
     "execution_count": 148,
     "metadata": {
      "tags": []
     },
     "output_type": "execute_result"
    }
   ],
   "source": [
    "reviews.isna().sum()"
   ]
  },
  {
   "cell_type": "markdown",
   "metadata": {},
   "source": [
    "### Creating Airline-wise dictionary"
   ]
  },
  {
   "cell_type": "code",
   "execution_count": 149,
   "metadata": {
    "colab": {},
    "colab_type": "code",
    "id": "u_pwWawFgKvW"
   },
   "outputs": [],
   "source": [
    "dictReviews = {}\n",
    "for col in reviews.columns:\n",
    "    dictReviews[col] = reviews[col].tolist()"
   ]
  },
  {
   "cell_type": "code",
   "execution_count": 150,
   "metadata": {
    "colab": {},
    "colab_type": "code",
    "id": "4N9SlYQ2SFt9"
   },
   "outputs": [],
   "source": [
    "for k,v in dictReviews.items():\n",
    "    review = dictReviews[k]\n",
    "    for i in range(len(review)):\n",
    "        review[i] = review[i].lower()"
   ]
  },
  {
   "cell_type": "code",
   "execution_count": null,
   "metadata": {
    "colab": {},
    "colab_type": "code",
    "id": "O3Haad0Xyupn"
   },
   "outputs": [],
   "source": [
    "dataArab = dictReviews['airArabia']\n",
    "dataAsia = dictReviews['airAsia']\n",
    "dataCanada = dictReviews['airCanada']\n",
    "dataFrance = dictReviews['airFrance']\n",
    "dataIndia = dictReviews['airIndia']\n",
    "dataAmerican = dictReviews['AmericanAirlines']"
   ]
  },
  {
   "cell_type": "code",
   "execution_count": 153,
   "metadata": {
    "colab": {},
    "colab_type": "code",
    "id": "r1PecP9sx992"
   },
   "outputs": [],
   "source": [
    "dataAirArab = dataArab + dictReviews['Outputair-arabia']\n",
    "dataAirCanada = dataCanada + dictReviews['Outputair-canada']\n",
    "dataAirFrance = dataFrance + dictReviews['Outputair-france']\n",
    "dataAirIndia = dataIndia + dictReviews['Outputair-india']\n",
    "dataAirAsia = dataAsia + dictReviews['Outputairasia']\n",
    "dataAirAmerican = dataAmerican + dictReviews['Outputamerican-airlines']"
   ]
  },
  {
   "cell_type": "code",
   "execution_count": 151,
   "metadata": {
    "colab": {},
    "colab_type": "code",
    "id": "Nv3-SfoDgKsS"
   },
   "outputs": [],
   "source": [
    "dataItalia = dictReviews['AlItalia']\n",
    "dataBritish = dictReviews['BritishAirways']\n",
    "dataLingus = dictReviews['Outputaer-lingus']"
   ]
  },
  {
   "cell_type": "code",
   "execution_count": 154,
   "metadata": {
    "colab": {},
    "colab_type": "code",
    "id": "kTfcGx_Gyggu"
   },
   "outputs": [],
   "source": [
    "dataCathay = dictReviews['Outputcathay-pacific-airways']\n",
    "dataDragon = dictReviews['Outputdragonair']\n",
    "dataEmirates = dictReviews['Outputemirates']\n",
    "dataFiji = dictReviews['Outputfiji-airways']\n",
    "dataGaruda = dictReviews['Outputgaruda-indonesia']\n",
    "dataGo = dictReviews['Outputgoair']\n",
    "dataHongKong = dictReviews['Outputhong-kong-airlines']\n",
    "dataHop = dictReviews['Outputhop']\n",
    "dataIndigo = dictReviews['Outputindigo-airlines']\n",
    "dataIran = dictReviews['Outputiran-air']"
   ]
  },
  {
   "cell_type": "code",
   "execution_count": 155,
   "metadata": {
    "colab": {},
    "colab_type": "code",
    "id": "tjIHLgr2zayx"
   },
   "outputs": [],
   "source": [
    "dataVisatara = dictReviews['Outputvistara'] + dictReviews['vistara']\n",
    "dataTurkish = dictReviews['turkishAirlines']\n",
    "dataUnited = dictReviews['unitedAirlines']\n",
    "dataVirgin = dictReviews['virginAtlantic']\n",
    "dataVirginAus = dictReviews['virginAustralia']"
   ]
  },
  {
   "cell_type": "markdown",
   "metadata": {},
   "source": [
    "# Defining all possible contractions in English language as a dictionary"
   ]
  },
  {
   "cell_type": "markdown",
   "metadata": {},
   "source": [
    "#### Available from https://stackoverflow.com/questions/19790188/expanding-english-language-contractions-in-python"
   ]
  },
  {
   "cell_type": "code",
   "execution_count": 159,
   "metadata": {
    "colab": {},
    "colab_type": "code",
    "id": "tYe94g7wSHIO"
   },
   "outputs": [],
   "source": [
    "contractions = {\n",
    "\"dont\": \"do not\",\n",
    "\"ain't\": \"am not\",\n",
    "\"aren't\": \"are not\",\n",
    "\"can't\": \"cannot\",\n",
    "\"can't've\": \"cannot have\",\n",
    "\"'cause\": \"because\",\n",
    "\"could've\": \"could have\",\n",
    "\"couldn't\": \"could not\",\n",
    "\"couldn't've\": \"could not have\",\n",
    "\"didn't\": \"did not\",\n",
    "\"doesn't\": \"does not\",\n",
    "\"don't\": \"do not\",\n",
    "\"hadn't\": \"had not\",\n",
    "\"hadn't've\": \"had not have\",\n",
    "\"hasn't\": \"has not\",\n",
    "\"haven't\": \"have not\",\n",
    "\"he'd\": \"he had\",\n",
    "\"he'd've\": \"he would have\",\n",
    "\"he'll\": \"he will\",\n",
    "\"he'll've\": \"he will have\",\n",
    "\"he's\": \"he is\",\n",
    "\"how'd\": \"how did\",\n",
    "\"how'd'y\": \"how do you\",\n",
    "\"how'll\": \"how will\",\n",
    "\"how's\": \"how is\",\n",
    "\"i'd\": \"I would\",\n",
    "\"i'd've\": \"I would have\",\n",
    "\"i'll\": \"I will\",\n",
    "\"i'll've\": \"I will have\",\n",
    "\"i'm\": \"I am\",\n",
    "\"i've\": \"I have\",\n",
    "\"isn't\": \"is not\",\n",
    "\"it'd\": \"it would\",\n",
    "\"it'd've\": \"it would have\",\n",
    "\"it'll\": \"it will\",\n",
    "\"it'll've\": \"it will have\",\n",
    "\"it's\": \"it is\",\n",
    "\"let's\": \"let us\",\n",
    "\"ma'am\": \"madam\",\n",
    "\"mayn't\": \"may not\",\n",
    "\"might've\": \"might have\",\n",
    "\"mightn't\": \"might not\",\n",
    "\"mightn't've\": \"might not have\",\n",
    "\"must've\": \"must have\",\n",
    "\"mustn't\": \"must not\",\n",
    "\"mustn't've\": \"must not have\",\n",
    "\"needn't\": \"need not\",\n",
    "\"needn't've\": \"need not have\",\n",
    "\"o'clock\": \"of the clock\",\n",
    "\"oughtn't\": \"ought not\",\n",
    "\"oughtn't've\": \"ought not have\",\n",
    "\"shan't\": \"shall not\",\n",
    "\"sha'n't\": \"shall not\",\n",
    "\"shan't've\": \"shall not have\",\n",
    "\"she'd\": \"she had\",\n",
    "\"she'd've\": \"she would have\",\n",
    "\"she'll\": \"she will\",\n",
    "\"she'll've\": \"she will have\",\n",
    "\"she's\": \"she is\",\n",
    "\"should've\": \"should have\",\n",
    "\"shouldn't\": \"should not\",\n",
    "\"shouldn't've\": \"should not have\",\n",
    "\"so've\": \"so have\",\n",
    "\"so's\": \"so is\",\n",
    "\"that'd\": \"that would\",\n",
    "\"that'd've\": \"that would have\",\n",
    "\"that's\": \"that is\",\n",
    "\"there'd\": \"there would\",\n",
    "\"there'd've\": \"there would have\",\n",
    "\"there's\": \"there is\",\n",
    "\"they'd\": \"they would\",\n",
    "\"they'd've\": \"they would have\",\n",
    "\"they'll\": \"they will\",\n",
    "\"they'll've\": \"they will have\",\n",
    "\"they're\": \"they are\",\n",
    "\"they've\": \"they have\",\n",
    "\"to've\": \"to have\",\n",
    "\"wasn't\": \"was not\",\n",
    "\"we'd\": \"we would\",\n",
    "\"we'd've\": \"we would have\",\n",
    "\"we'll\": \"we will\",\n",
    "\"we'll've\": \"we will have\",\n",
    "\"we're\": \"we are\",\n",
    "\"we've\": \"we have\",\n",
    "\"weren't\": \"were not\",\n",
    "\"what'll\": \"what will\",\n",
    "\"what'll've\": \"what will have\",\n",
    "\"what're\": \"what are\",\n",
    "\"what's\": \"what is\",\n",
    "\"what've\": \"what have\",\n",
    "\"when's\": \"when is\",\n",
    "\"when've\": \"when have\",\n",
    "\"where'd\": \"where did\",\n",
    "\"where's\": \"where has / where is\",\n",
    "\"where've\": \"where have\",\n",
    "\"who'll\": \"who will\",\n",
    "\"who'll've\": \"who will have\",\n",
    "\"who's\": \"who is\",\n",
    "\"who've\": \"who have\",\n",
    "\"why's\": \"why is\",\n",
    "\"why've\": \"why have\",\n",
    "\"will've\": \"will have\",\n",
    "\"won't\": \"will not\",\n",
    "\"won't've\": \"will not have\",\n",
    "\"would've\": \"would have\",\n",
    "\"wouldn't\": \"would not\",\n",
    "\"wouldn't've\": \"would not have\",\n",
    "\"y'all\": \"you all\",\n",
    "\"y'all'd\": \"you all would\",\n",
    "\"y'all'd've\": \"you all would have\",\n",
    "\"y'all're\": \"you all are\",\n",
    "\"y'all've\": \"you all have\",\n",
    "\"you'd\": \"you would\",\n",
    "\"you'd've\": \"you would have\",\n",
    "\"you'll\": \"you will\",\n",
    "\"you'll've\": \"you will have\",\n",
    "\"you're\": \"you are\",\n",
    "\"you've\": \"you have\",\n",
    "\"n't\": \"not\",\n",
    "\"u.a.e\": \"uae\"}"
   ]
  },
  {
   "cell_type": "code",
   "execution_count": 161,
   "metadata": {
    "colab": {
     "base_uri": "https://localhost:8080/",
     "height": 34
    },
    "colab_type": "code",
    "id": "cc2vmb4Ga9iy",
    "outputId": "cfdc26fd-82ad-4e72-84e3-ef1c56245e86"
   },
   "outputs": [
    {
     "data": {
      "text/plain": [
       "31"
      ]
     },
     "execution_count": 161,
     "metadata": {
      "tags": []
     },
     "output_type": "execute_result"
    }
   ],
   "source": [
    "len(dictReviews)"
   ]
  },
  {
   "cell_type": "markdown",
   "metadata": {},
   "source": [
    "# Running below pre-processing code for all airlines one by one by changing the airline name where specified in below code"
   ]
  },
  {
   "cell_type": "code",
   "execution_count": 512,
   "metadata": {
    "colab": {},
    "colab_type": "code",
    "id": "quABSPaQhbAF"
   },
   "outputs": [],
   "source": [
    "rD = {}\n",
    "punc = 0\n",
    "wordList = []\n",
    "sentList = []\n",
    "for i in range(len(dataVirginAus)): #Change name of airline\n",
    "  if dataVirginAus[i] != '':        #Change name of airline\n",
    "    sent = sent_tokenize(dataVirginAus[i])    #Change name of airline\n",
    "    sentList = []\n",
    "    wordList = []\n",
    "    for j in range(len(sent)):\n",
    "      word = word_tokenize(sent[j])\n",
    "      for w in word:\n",
    "        if w in punct:\n",
    "          punc += 1\n",
    "        elif w in list(contractions.keys()):\n",
    "          w = contractions[w]\n",
    "          wordList.append(w)\n",
    "        elif (re.findall(r'[0-9]+[a-z]+', w)):\n",
    "          numWord = re.findall(r\"[^\\W\\d_]+|\\d+\", w)\n",
    "          num = numWord[0]\n",
    "          w1 = p.number_to_words(num)\n",
    "          wordList.append(w1) \n",
    "        elif (re.match(r'[0-9]+', w)):\n",
    "          w = p.number_to_words(w)\n",
    "          wordList.append(w)\n",
    "        elif w not in stopWords:\n",
    "          wordList.append(w)\n",
    "        else:\n",
    "          wordList.append(w)    \n",
    "    s = ' '.join(wordList)\n",
    "    sentList.append(s)\n",
    "  r = ','.join(sentList)\n",
    "  rD[i] = r"
   ]
  },
  {
   "cell_type": "code",
   "execution_count": 513,
   "metadata": {
    "colab": {
     "base_uri": "https://localhost:8080/",
     "height": 34
    },
    "colab_type": "code",
    "id": "hYlGrWeLqWC5",
    "outputId": "2587b574-4307-45f9-fe2c-b6bbf3060f45"
   },
   "outputs": [
    {
     "data": {
      "text/plain": [
       "715"
      ]
     },
     "execution_count": 513,
     "metadata": {
      "tags": []
     },
     "output_type": "execute_result"
    }
   ],
   "source": [
    "len(rD)"
   ]
  },
  {
   "cell_type": "code",
   "execution_count": 514,
   "metadata": {
    "colab": {},
    "colab_type": "code",
    "id": "B-S_sf7KoLTg"
   },
   "outputs": [],
   "source": [
    "rev = []\n",
    "for k, v in rD.items():\n",
    "  rev.append(v)"
   ]
  },
  {
   "cell_type": "code",
   "execution_count": 515,
   "metadata": {
    "colab": {},
    "colab_type": "code",
    "id": "LYM3xv28Wnv0"
   },
   "outputs": [],
   "source": [
    "df = pd.DataFrame(columns=['Reviews', 'body_len'])"
   ]
  },
  {
   "cell_type": "code",
   "execution_count": 516,
   "metadata": {
    "colab": {},
    "colab_type": "code",
    "id": "1piNIYs-phRM"
   },
   "outputs": [],
   "source": [
    "df['Reviews'] = rev"
   ]
  },
  {
   "cell_type": "code",
   "execution_count": 517,
   "metadata": {
    "colab": {
     "base_uri": "https://localhost:8080/",
     "height": 197
    },
    "colab_type": "code",
    "id": "CA8ycGvGnhLn",
    "outputId": "3f8c8631-07cb-4354-e6d1-3d44df65d32e"
   },
   "outputs": [
    {
     "data": {
      "text/html": [
       "<div>\n",
       "<style scoped>\n",
       "    .dataframe tbody tr th:only-of-type {\n",
       "        vertical-align: middle;\n",
       "    }\n",
       "\n",
       "    .dataframe tbody tr th {\n",
       "        vertical-align: top;\n",
       "    }\n",
       "\n",
       "    .dataframe thead th {\n",
       "        text-align: right;\n",
       "    }\n",
       "</style>\n",
       "<table border=\"1\" class=\"dataframe\">\n",
       "  <thead>\n",
       "    <tr style=\"text-align: right;\">\n",
       "      <th></th>\n",
       "      <th>Reviews</th>\n",
       "      <th>body_len</th>\n",
       "    </tr>\n",
       "  </thead>\n",
       "  <tbody>\n",
       "    <tr>\n",
       "      <th>0</th>\n",
       "      <td>march two flight from syd to cns was a typical...</td>\n",
       "      <td>NaN</td>\n",
       "    </tr>\n",
       "    <tr>\n",
       "      <th>1</th>\n",
       "      <td>i just want to let everyone know about my expe...</td>\n",
       "      <td>NaN</td>\n",
       "    </tr>\n",
       "    <tr>\n",
       "      <th>2</th>\n",
       "      <td>like a number of recent reviews regarding canc...</td>\n",
       "      <td>NaN</td>\n",
       "    </tr>\n",
       "    <tr>\n",
       "      <th>3</th>\n",
       "      <td>i was booked on flight va2 from los angeles to...</td>\n",
       "      <td>NaN</td>\n",
       "    </tr>\n",
       "    <tr>\n",
       "      <th>4</th>\n",
       "      <td>our flight to sydney was cancelled due to the ...</td>\n",
       "      <td>NaN</td>\n",
       "    </tr>\n",
       "  </tbody>\n",
       "</table>\n",
       "</div>"
      ],
      "text/plain": [
       "                                             Reviews body_len\n",
       "0  march two flight from syd to cns was a typical...      NaN\n",
       "1  i just want to let everyone know about my expe...      NaN\n",
       "2  like a number of recent reviews regarding canc...      NaN\n",
       "3  i was booked on flight va2 from los angeles to...      NaN\n",
       "4  our flight to sydney was cancelled due to the ...      NaN"
      ]
     },
     "execution_count": 517,
     "metadata": {
      "tags": []
     },
     "output_type": "execute_result"
    }
   ],
   "source": [
    "df.head()"
   ]
  },
  {
   "cell_type": "code",
   "execution_count": 518,
   "metadata": {
    "colab": {},
    "colab_type": "code",
    "id": "AFxgpFC_nxy-"
   },
   "outputs": [],
   "source": [
    "for i in range(len(df['Reviews'])):\n",
    "  df['body_len'][i] = len(df['Reviews'][i])"
   ]
  },
  {
   "cell_type": "code",
   "execution_count": 519,
   "metadata": {
    "colab": {
     "base_uri": "https://localhost:8080/",
     "height": 197
    },
    "colab_type": "code",
    "id": "mu3WOtEXpYLV",
    "outputId": "0fd24602-f0f8-41c3-afe0-7de821066171"
   },
   "outputs": [
    {
     "data": {
      "text/html": [
       "<div>\n",
       "<style scoped>\n",
       "    .dataframe tbody tr th:only-of-type {\n",
       "        vertical-align: middle;\n",
       "    }\n",
       "\n",
       "    .dataframe tbody tr th {\n",
       "        vertical-align: top;\n",
       "    }\n",
       "\n",
       "    .dataframe thead th {\n",
       "        text-align: right;\n",
       "    }\n",
       "</style>\n",
       "<table border=\"1\" class=\"dataframe\">\n",
       "  <thead>\n",
       "    <tr style=\"text-align: right;\">\n",
       "      <th></th>\n",
       "      <th>Reviews</th>\n",
       "      <th>body_len</th>\n",
       "    </tr>\n",
       "  </thead>\n",
       "  <tbody>\n",
       "    <tr>\n",
       "      <th>0</th>\n",
       "      <td>march two flight from syd to cns was a typical...</td>\n",
       "      <td>302</td>\n",
       "    </tr>\n",
       "    <tr>\n",
       "      <th>1</th>\n",
       "      <td>i just want to let everyone know about my expe...</td>\n",
       "      <td>273</td>\n",
       "    </tr>\n",
       "    <tr>\n",
       "      <th>2</th>\n",
       "      <td>like a number of recent reviews regarding canc...</td>\n",
       "      <td>1271</td>\n",
       "    </tr>\n",
       "    <tr>\n",
       "      <th>3</th>\n",
       "      <td>i was booked on flight va2 from los angeles to...</td>\n",
       "      <td>271</td>\n",
       "    </tr>\n",
       "    <tr>\n",
       "      <th>4</th>\n",
       "      <td>our flight to sydney was cancelled due to the ...</td>\n",
       "      <td>270</td>\n",
       "    </tr>\n",
       "  </tbody>\n",
       "</table>\n",
       "</div>"
      ],
      "text/plain": [
       "                                             Reviews body_len\n",
       "0  march two flight from syd to cns was a typical...      302\n",
       "1  i just want to let everyone know about my expe...      273\n",
       "2  like a number of recent reviews regarding canc...     1271\n",
       "3  i was booked on flight va2 from los angeles to...      271\n",
       "4  our flight to sydney was cancelled due to the ...      270"
      ]
     },
     "execution_count": 519,
     "metadata": {
      "tags": []
     },
     "output_type": "execute_result"
    }
   ],
   "source": [
    "df.head()"
   ]
  },
  {
   "cell_type": "code",
   "execution_count": 520,
   "metadata": {
    "colab": {
     "base_uri": "https://localhost:8080/",
     "height": 34
    },
    "colab_type": "code",
    "id": "MA_jwrmypzLp",
    "outputId": "c52cab82-3218-4e2f-b238-f66678dfc9fc"
   },
   "outputs": [
    {
     "data": {
      "text/plain": [
       "715"
      ]
     },
     "execution_count": 520,
     "metadata": {
      "tags": []
     },
     "output_type": "execute_result"
    }
   ],
   "source": [
    "len(df)"
   ]
  },
  {
   "cell_type": "code",
   "execution_count": 521,
   "metadata": {
    "colab": {},
    "colab_type": "code",
    "id": "2Ruw6HbWsYRU"
   },
   "outputs": [],
   "source": [
    "charPunct = [\"!\", \"?\"]"
   ]
  },
  {
   "cell_type": "code",
   "execution_count": 522,
   "metadata": {
    "colab": {},
    "colab_type": "code",
    "id": "dOyvMIoaqiVc"
   },
   "outputs": [],
   "source": [
    "def count_punct(text):\n",
    "    '''\n",
    "    This function takes input as review text and counts the number of punctuations.\n",
    "    '''\n",
    "    Count = 0\n",
    "    for char in text:\n",
    "        if char in charPunct:\n",
    "            Count += 1\n",
    "        else:\n",
    "            continue;\n",
    "    return Count"
   ]
  },
  {
   "cell_type": "code",
   "execution_count": 523,
   "metadata": {
    "colab": {},
    "colab_type": "code",
    "id": "Nuw2e8PEqsmC"
   },
   "outputs": [],
   "source": [
    "df['Punct_count'] = df['Reviews'].apply(lambda x: count_punct(x))"
   ]
  },
  {
   "cell_type": "markdown",
   "metadata": {},
   "source": [
    "### Preview of pre-processed text"
   ]
  },
  {
   "cell_type": "code",
   "execution_count": 524,
   "metadata": {
    "colab": {
     "base_uri": "https://localhost:8080/",
     "height": 197
    },
    "colab_type": "code",
    "id": "VOJ2K_YXqyw5",
    "outputId": "33bd80bc-f95d-4630-e9de-c99b64ee946a"
   },
   "outputs": [
    {
     "data": {
      "text/html": [
       "<div>\n",
       "<style scoped>\n",
       "    .dataframe tbody tr th:only-of-type {\n",
       "        vertical-align: middle;\n",
       "    }\n",
       "\n",
       "    .dataframe tbody tr th {\n",
       "        vertical-align: top;\n",
       "    }\n",
       "\n",
       "    .dataframe thead th {\n",
       "        text-align: right;\n",
       "    }\n",
       "</style>\n",
       "<table border=\"1\" class=\"dataframe\">\n",
       "  <thead>\n",
       "    <tr style=\"text-align: right;\">\n",
       "      <th></th>\n",
       "      <th>Reviews</th>\n",
       "      <th>body_len</th>\n",
       "      <th>Punct_count</th>\n",
       "    </tr>\n",
       "  </thead>\n",
       "  <tbody>\n",
       "    <tr>\n",
       "      <th>0</th>\n",
       "      <td>march two flight from syd to cns was a typical...</td>\n",
       "      <td>302</td>\n",
       "      <td>1</td>\n",
       "    </tr>\n",
       "    <tr>\n",
       "      <th>1</th>\n",
       "      <td>i just want to let everyone know about my expe...</td>\n",
       "      <td>273</td>\n",
       "      <td>0</td>\n",
       "    </tr>\n",
       "    <tr>\n",
       "      <th>2</th>\n",
       "      <td>like a number of recent reviews regarding canc...</td>\n",
       "      <td>1271</td>\n",
       "      <td>1</td>\n",
       "    </tr>\n",
       "    <tr>\n",
       "      <th>3</th>\n",
       "      <td>i was booked on flight va2 from los angeles to...</td>\n",
       "      <td>271</td>\n",
       "      <td>0</td>\n",
       "    </tr>\n",
       "    <tr>\n",
       "      <th>4</th>\n",
       "      <td>our flight to sydney was cancelled due to the ...</td>\n",
       "      <td>270</td>\n",
       "      <td>0</td>\n",
       "    </tr>\n",
       "  </tbody>\n",
       "</table>\n",
       "</div>"
      ],
      "text/plain": [
       "                                             Reviews body_len  Punct_count\n",
       "0  march two flight from syd to cns was a typical...      302            1\n",
       "1  i just want to let everyone know about my expe...      273            0\n",
       "2  like a number of recent reviews regarding canc...     1271            1\n",
       "3  i was booked on flight va2 from los angeles to...      271            0\n",
       "4  our flight to sydney was cancelled due to the ...      270            0"
      ]
     },
     "execution_count": 524,
     "metadata": {
      "tags": []
     },
     "output_type": "execute_result"
    }
   ],
   "source": [
    "df.head()"
   ]
  },
  {
   "cell_type": "code",
   "execution_count": 525,
   "metadata": {
    "colab": {
     "base_uri": "https://localhost:8080/",
     "height": 124
    },
    "colab_type": "code",
    "id": "x2zP-8O2q0xE",
    "outputId": "aea9a6eb-f157-4648-b399-2421a29b4b79"
   },
   "outputs": [
    {
     "data": {
      "application/vnd.google.colaboratory.intrinsic": {
       "type": "string"
      },
      "text/plain": [
       "'like a number of recent reviews regarding cancellations i experienced appalling customer service in unsuccessfully attempting to secure a refund following virgin australia ’ s cancellation of my family ’ s flight to bali as we purchased our tickets prior to the covid-19 crisis i incorrectly assumed that it would be a simple matter of being granted a refund due to virgin ’ s decision to cancel our flight after only being offered the option of a flight credit it took three weeks for a response regarding a refund to my astonishment i was offered a refund less a six hundred cancellation fee when i sought clarification regarding this the representative from one of virgin australia ’ s overseas contact centres explained that whilst virgin could not be held liable for the flight cancellation i could i was gobsmacked by this unethical and blatantly money grabbing position airline should be rebadged as virgin unaustralia as these actions are the complete antithesis of what we as a country represent there is such total hypocrisy here with their ceo pleading for a government bail-out whilst our more reasonable claims are ignored what a farce ! my family for one will never fly this airline again and i have strongly encouraged my business colleagues to do likewise'"
      ]
     },
     "execution_count": 525,
     "metadata": {
      "tags": []
     },
     "output_type": "execute_result"
    }
   ],
   "source": [
    "df['Reviews'][2]"
   ]
  },
  {
   "cell_type": "markdown",
   "metadata": {},
   "source": [
    "# Saving as CSV Airline-wise"
   ]
  },
  {
   "cell_type": "code",
   "execution_count": 526,
   "metadata": {
    "colab": {},
    "colab_type": "code",
    "id": "fTQVc8V6q8xC"
   },
   "outputs": [],
   "source": [
    "df.to_csv('/content/drive/My Drive/Dataset/VirginAustralia.csv') #Change name of airline"
   ]
  }
 ],
 "metadata": {
  "colab": {
   "collapsed_sections": [],
   "name": "FinalPreProcessing.ipynb",
   "provenance": []
  },
  "kernelspec": {
   "display_name": "Python 3",
   "language": "python",
   "name": "python3"
  },
  "language_info": {
   "codemirror_mode": {
    "name": "ipython",
    "version": 3
   },
   "file_extension": ".py",
   "mimetype": "text/x-python",
   "name": "python",
   "nbconvert_exporter": "python",
   "pygments_lexer": "ipython3",
   "version": "3.7.3"
  }
 },
 "nbformat": 4,
 "nbformat_minor": 1
}
